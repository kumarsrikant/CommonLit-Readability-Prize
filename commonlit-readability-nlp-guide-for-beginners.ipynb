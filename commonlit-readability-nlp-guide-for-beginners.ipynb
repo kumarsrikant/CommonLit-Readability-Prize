{
 "cells": [
  {
   "cell_type": "code",
   "execution_count": 1,
   "id": "civilian-lexington",
   "metadata": {
    "_cell_guid": "b1076dfc-b9ad-4769-8c92-a6c4dae69d19",
    "_uuid": "8f2839f25d086af736a60e9eeb907d3b93b6e0e5",
    "execution": {
     "iopub.execute_input": "2021-06-22T14:01:46.678658Z",
     "iopub.status.busy": "2021-06-22T14:01:46.678111Z",
     "iopub.status.idle": "2021-06-22T14:01:46.693773Z",
     "shell.execute_reply": "2021-06-22T14:01:46.694458Z",
     "shell.execute_reply.started": "2021-06-22T12:16:56.905525Z"
    },
    "papermill": {
     "duration": 0.104109,
     "end_time": "2021-06-22T14:01:46.694785",
     "exception": false,
     "start_time": "2021-06-22T14:01:46.590676",
     "status": "completed"
    },
    "tags": []
   },
   "outputs": [
    {
     "name": "stdout",
     "output_type": "stream",
     "text": [
      "/kaggle/input/commonlitreadabilityprize/sample_submission.csv\n",
      "/kaggle/input/commonlitreadabilityprize/train.csv\n",
      "/kaggle/input/commonlitreadabilityprize/test.csv\n",
      "/kaggle/input/glove-global-vectors-for-word-representation/glove.6B.200d.txt\n",
      "/kaggle/input/glove-global-vectors-for-word-representation/glove.6B.50d.txt\n",
      "/kaggle/input/glove-global-vectors-for-word-representation/glove.6B.100d.txt\n"
     ]
    }
   ],
   "source": [
    "# This Python 3 environment comes with many helpful analytics libraries installed\n",
    "# It is defined by the kaggle/python Docker image: https://github.com/kaggle/docker-python\n",
    "# For example, here's several helpful packages to load\n",
    "\n",
    "import numpy as np # linear algebra\n",
    "import pandas as pd # data processing, CSV file I/O (e.g. pd.read_csv)\n",
    "\n",
    "# Input data files are available in the read-only \"../input/\" directory\n",
    "# For example, running this (by clicking run or pressing Shift+Enter) will list all files under the input directory\n",
    "\n",
    "import os\n",
    "for dirname, _, filenames in os.walk('/kaggle/input'):\n",
    "    for filename in filenames:\n",
    "        print(os.path.join(dirname, filename))\n",
    "\n",
    "# You can write up to 20GB to the current directory (/kaggle/working/) that gets preserved as output when you create a version using \"Save & Run All\" \n",
    "# You can also write temporary files to /kaggle/temp/, but they won't be saved outside of the current session"
   ]
  },
  {
   "cell_type": "markdown",
   "id": "bored-flash",
   "metadata": {
    "papermill": {
     "duration": 0.095451,
     "end_time": "2021-06-22T14:01:46.892159",
     "exception": false,
     "start_time": "2021-06-22T14:01:46.796708",
     "status": "completed"
    },
    "tags": []
   },
   "source": [
    "### Import Packages "
   ]
  },
  {
   "cell_type": "code",
   "execution_count": 2,
   "id": "exposed-upset",
   "metadata": {
    "execution": {
     "iopub.execute_input": "2021-06-22T14:01:47.092337Z",
     "iopub.status.busy": "2021-06-22T14:01:47.091574Z",
     "iopub.status.idle": "2021-06-22T14:02:04.168144Z",
     "shell.execute_reply": "2021-06-22T14:02:04.167674Z",
     "shell.execute_reply.started": "2021-06-22T12:16:56.921907Z"
    },
    "papermill": {
     "duration": 17.184133,
     "end_time": "2021-06-22T14:02:04.168306",
     "exception": false,
     "start_time": "2021-06-22T14:01:46.984173",
     "status": "completed"
    },
    "tags": []
   },
   "outputs": [
    {
     "data": {
      "text/html": [
       "\n",
       "    <div class=\"bk-root\">\n",
       "        <a href=\"https://bokeh.org\" target=\"_blank\" class=\"bk-logo bk-logo-small bk-logo-notebook\"></a>\n",
       "        <span id=\"1002\">Loading BokehJS ...</span>\n",
       "    </div>"
      ]
     },
     "metadata": {},
     "output_type": "display_data"
    },
    {
     "data": {
      "application/javascript": [
       "\n",
       "(function(root) {\n",
       "  function now() {\n",
       "    return new Date();\n",
       "  }\n",
       "\n",
       "  var force = true;\n",
       "\n",
       "  if (typeof root._bokeh_onload_callbacks === \"undefined\" || force === true) {\n",
       "    root._bokeh_onload_callbacks = [];\n",
       "    root._bokeh_is_loading = undefined;\n",
       "  }\n",
       "\n",
       "  var JS_MIME_TYPE = 'application/javascript';\n",
       "  var HTML_MIME_TYPE = 'text/html';\n",
       "  var EXEC_MIME_TYPE = 'application/vnd.bokehjs_exec.v0+json';\n",
       "  var CLASS_NAME = 'output_bokeh rendered_html';\n",
       "\n",
       "  /**\n",
       "   * Render data to the DOM node\n",
       "   */\n",
       "  function render(props, node) {\n",
       "    var script = document.createElement(\"script\");\n",
       "    node.appendChild(script);\n",
       "  }\n",
       "\n",
       "  /**\n",
       "   * Handle when an output is cleared or removed\n",
       "   */\n",
       "  function handleClearOutput(event, handle) {\n",
       "    var cell = handle.cell;\n",
       "\n",
       "    var id = cell.output_area._bokeh_element_id;\n",
       "    var server_id = cell.output_area._bokeh_server_id;\n",
       "    // Clean up Bokeh references\n",
       "    if (id != null && id in Bokeh.index) {\n",
       "      Bokeh.index[id].model.document.clear();\n",
       "      delete Bokeh.index[id];\n",
       "    }\n",
       "\n",
       "    if (server_id !== undefined) {\n",
       "      // Clean up Bokeh references\n",
       "      var cmd = \"from bokeh.io.state import curstate; print(curstate().uuid_to_server['\" + server_id + \"'].get_sessions()[0].document.roots[0]._id)\";\n",
       "      cell.notebook.kernel.execute(cmd, {\n",
       "        iopub: {\n",
       "          output: function(msg) {\n",
       "            var id = msg.content.text.trim();\n",
       "            if (id in Bokeh.index) {\n",
       "              Bokeh.index[id].model.document.clear();\n",
       "              delete Bokeh.index[id];\n",
       "            }\n",
       "          }\n",
       "        }\n",
       "      });\n",
       "      // Destroy server and session\n",
       "      var cmd = \"import bokeh.io.notebook as ion; ion.destroy_server('\" + server_id + \"')\";\n",
       "      cell.notebook.kernel.execute(cmd);\n",
       "    }\n",
       "  }\n",
       "\n",
       "  /**\n",
       "   * Handle when a new output is added\n",
       "   */\n",
       "  function handleAddOutput(event, handle) {\n",
       "    var output_area = handle.output_area;\n",
       "    var output = handle.output;\n",
       "\n",
       "    // limit handleAddOutput to display_data with EXEC_MIME_TYPE content only\n",
       "    if ((output.output_type != \"display_data\") || (!Object.prototype.hasOwnProperty.call(output.data, EXEC_MIME_TYPE))) {\n",
       "      return\n",
       "    }\n",
       "\n",
       "    var toinsert = output_area.element.find(\".\" + CLASS_NAME.split(' ')[0]);\n",
       "\n",
       "    if (output.metadata[EXEC_MIME_TYPE][\"id\"] !== undefined) {\n",
       "      toinsert[toinsert.length - 1].firstChild.textContent = output.data[JS_MIME_TYPE];\n",
       "      // store reference to embed id on output_area\n",
       "      output_area._bokeh_element_id = output.metadata[EXEC_MIME_TYPE][\"id\"];\n",
       "    }\n",
       "    if (output.metadata[EXEC_MIME_TYPE][\"server_id\"] !== undefined) {\n",
       "      var bk_div = document.createElement(\"div\");\n",
       "      bk_div.innerHTML = output.data[HTML_MIME_TYPE];\n",
       "      var script_attrs = bk_div.children[0].attributes;\n",
       "      for (var i = 0; i < script_attrs.length; i++) {\n",
       "        toinsert[toinsert.length - 1].firstChild.setAttribute(script_attrs[i].name, script_attrs[i].value);\n",
       "        toinsert[toinsert.length - 1].firstChild.textContent = bk_div.children[0].textContent\n",
       "      }\n",
       "      // store reference to server id on output_area\n",
       "      output_area._bokeh_server_id = output.metadata[EXEC_MIME_TYPE][\"server_id\"];\n",
       "    }\n",
       "  }\n",
       "\n",
       "  function register_renderer(events, OutputArea) {\n",
       "\n",
       "    function append_mime(data, metadata, element) {\n",
       "      // create a DOM node to render to\n",
       "      var toinsert = this.create_output_subarea(\n",
       "        metadata,\n",
       "        CLASS_NAME,\n",
       "        EXEC_MIME_TYPE\n",
       "      );\n",
       "      this.keyboard_manager.register_events(toinsert);\n",
       "      // Render to node\n",
       "      var props = {data: data, metadata: metadata[EXEC_MIME_TYPE]};\n",
       "      render(props, toinsert[toinsert.length - 1]);\n",
       "      element.append(toinsert);\n",
       "      return toinsert\n",
       "    }\n",
       "\n",
       "    /* Handle when an output is cleared or removed */\n",
       "    events.on('clear_output.CodeCell', handleClearOutput);\n",
       "    events.on('delete.Cell', handleClearOutput);\n",
       "\n",
       "    /* Handle when a new output is added */\n",
       "    events.on('output_added.OutputArea', handleAddOutput);\n",
       "\n",
       "    /**\n",
       "     * Register the mime type and append_mime function with output_area\n",
       "     */\n",
       "    OutputArea.prototype.register_mime_type(EXEC_MIME_TYPE, append_mime, {\n",
       "      /* Is output safe? */\n",
       "      safe: true,\n",
       "      /* Index of renderer in `output_area.display_order` */\n",
       "      index: 0\n",
       "    });\n",
       "  }\n",
       "\n",
       "  // register the mime type if in Jupyter Notebook environment and previously unregistered\n",
       "  if (root.Jupyter !== undefined) {\n",
       "    var events = require('base/js/events');\n",
       "    var OutputArea = require('notebook/js/outputarea').OutputArea;\n",
       "\n",
       "    if (OutputArea.prototype.mime_types().indexOf(EXEC_MIME_TYPE) == -1) {\n",
       "      register_renderer(events, OutputArea);\n",
       "    }\n",
       "  }\n",
       "\n",
       "  \n",
       "  if (typeof (root._bokeh_timeout) === \"undefined\" || force === true) {\n",
       "    root._bokeh_timeout = Date.now() + 5000;\n",
       "    root._bokeh_failed_load = false;\n",
       "  }\n",
       "\n",
       "  var NB_LOAD_WARNING = {'data': {'text/html':\n",
       "     \"<div style='background-color: #fdd'>\\n\"+\n",
       "     \"<p>\\n\"+\n",
       "     \"BokehJS does not appear to have successfully loaded. If loading BokehJS from CDN, this \\n\"+\n",
       "     \"may be due to a slow or bad network connection. Possible fixes:\\n\"+\n",
       "     \"</p>\\n\"+\n",
       "     \"<ul>\\n\"+\n",
       "     \"<li>re-rerun `output_notebook()` to attempt to load from CDN again, or</li>\\n\"+\n",
       "     \"<li>use INLINE resources instead, as so:</li>\\n\"+\n",
       "     \"</ul>\\n\"+\n",
       "     \"<code>\\n\"+\n",
       "     \"from bokeh.resources import INLINE\\n\"+\n",
       "     \"output_notebook(resources=INLINE)\\n\"+\n",
       "     \"</code>\\n\"+\n",
       "     \"</div>\"}};\n",
       "\n",
       "  function display_loaded() {\n",
       "    var el = document.getElementById(\"1002\");\n",
       "    if (el != null) {\n",
       "      el.textContent = \"BokehJS is loading...\";\n",
       "    }\n",
       "    if (root.Bokeh !== undefined) {\n",
       "      if (el != null) {\n",
       "        el.textContent = \"BokehJS \" + root.Bokeh.version + \" successfully loaded.\";\n",
       "      }\n",
       "    } else if (Date.now() < root._bokeh_timeout) {\n",
       "      setTimeout(display_loaded, 100)\n",
       "    }\n",
       "  }\n",
       "\n",
       "\n",
       "  function run_callbacks() {\n",
       "    try {\n",
       "      root._bokeh_onload_callbacks.forEach(function(callback) {\n",
       "        if (callback != null)\n",
       "          callback();\n",
       "      });\n",
       "    } finally {\n",
       "      delete root._bokeh_onload_callbacks\n",
       "    }\n",
       "    console.debug(\"Bokeh: all callbacks have finished\");\n",
       "  }\n",
       "\n",
       "  function load_libs(css_urls, js_urls, callback) {\n",
       "    if (css_urls == null) css_urls = [];\n",
       "    if (js_urls == null) js_urls = [];\n",
       "\n",
       "    root._bokeh_onload_callbacks.push(callback);\n",
       "    if (root._bokeh_is_loading > 0) {\n",
       "      console.debug(\"Bokeh: BokehJS is being loaded, scheduling callback at\", now());\n",
       "      return null;\n",
       "    }\n",
       "    if (js_urls == null || js_urls.length === 0) {\n",
       "      run_callbacks();\n",
       "      return null;\n",
       "    }\n",
       "    console.debug(\"Bokeh: BokehJS not loaded, scheduling load and callback at\", now());\n",
       "    root._bokeh_is_loading = css_urls.length + js_urls.length;\n",
       "\n",
       "    function on_load() {\n",
       "      root._bokeh_is_loading--;\n",
       "      if (root._bokeh_is_loading === 0) {\n",
       "        console.debug(\"Bokeh: all BokehJS libraries/stylesheets loaded\");\n",
       "        run_callbacks()\n",
       "      }\n",
       "    }\n",
       "\n",
       "    function on_error(url) {\n",
       "      console.error(\"failed to load \" + url);\n",
       "    }\n",
       "\n",
       "    for (let i = 0; i < css_urls.length; i++) {\n",
       "      const url = css_urls[i];\n",
       "      const element = document.createElement(\"link\");\n",
       "      element.onload = on_load;\n",
       "      element.onerror = on_error.bind(null, url);\n",
       "      element.rel = \"stylesheet\";\n",
       "      element.type = \"text/css\";\n",
       "      element.href = url;\n",
       "      console.debug(\"Bokeh: injecting link tag for BokehJS stylesheet: \", url);\n",
       "      document.body.appendChild(element);\n",
       "    }\n",
       "\n",
       "    const hashes = {\"https://cdn.bokeh.org/bokeh/release/bokeh-2.3.1.min.js\": \"YF85VygJKMVnHE+lLv2AM93Vbstr0yo2TbIu5v8se5Rq3UQAUmcuh4aaJwNlpKwa\", \"https://cdn.bokeh.org/bokeh/release/bokeh-widgets-2.3.1.min.js\": \"KKuas3gevv3PvrlkyCMzffFeaMq5we/a2QsP5AUoS3mJ0jmaCL7jirFJN3GoE/lM\", \"https://cdn.bokeh.org/bokeh/release/bokeh-tables-2.3.1.min.js\": \"MK/uFc3YT18pkvvXRl66tTHjP0/dxoSH2e/eiNMFIguKlun2+WVqaPTWmUy/zvh4\"};\n",
       "\n",
       "    for (let i = 0; i < js_urls.length; i++) {\n",
       "      const url = js_urls[i];\n",
       "      const element = document.createElement('script');\n",
       "      element.onload = on_load;\n",
       "      element.onerror = on_error.bind(null, url);\n",
       "      element.async = false;\n",
       "      element.src = url;\n",
       "      if (url in hashes) {\n",
       "        element.crossOrigin = \"anonymous\";\n",
       "        element.integrity = \"sha384-\" + hashes[url];\n",
       "      }\n",
       "      console.debug(\"Bokeh: injecting script tag for BokehJS library: \", url);\n",
       "      document.head.appendChild(element);\n",
       "    }\n",
       "  };\n",
       "\n",
       "  function inject_raw_css(css) {\n",
       "    const element = document.createElement(\"style\");\n",
       "    element.appendChild(document.createTextNode(css));\n",
       "    document.body.appendChild(element);\n",
       "  }\n",
       "\n",
       "  \n",
       "  var js_urls = [\"https://cdn.bokeh.org/bokeh/release/bokeh-2.3.1.min.js\", \"https://cdn.bokeh.org/bokeh/release/bokeh-widgets-2.3.1.min.js\", \"https://cdn.bokeh.org/bokeh/release/bokeh-tables-2.3.1.min.js\"];\n",
       "  var css_urls = [];\n",
       "  \n",
       "\n",
       "  var inline_js = [\n",
       "    function(Bokeh) {\n",
       "      Bokeh.set_log_level(\"info\");\n",
       "    },\n",
       "    function(Bokeh) {\n",
       "    \n",
       "    \n",
       "    }\n",
       "  ];\n",
       "\n",
       "  function run_inline_js() {\n",
       "    \n",
       "    if (root.Bokeh !== undefined || force === true) {\n",
       "      \n",
       "    for (var i = 0; i < inline_js.length; i++) {\n",
       "      inline_js[i].call(root, root.Bokeh);\n",
       "    }\n",
       "    if (force === true) {\n",
       "        display_loaded();\n",
       "      }} else if (Date.now() < root._bokeh_timeout) {\n",
       "      setTimeout(run_inline_js, 100);\n",
       "    } else if (!root._bokeh_failed_load) {\n",
       "      console.log(\"Bokeh: BokehJS failed to load within specified timeout.\");\n",
       "      root._bokeh_failed_load = true;\n",
       "    } else if (force !== true) {\n",
       "      var cell = $(document.getElementById(\"1002\")).parents('.cell').data().cell;\n",
       "      cell.output_area.append_execute_result(NB_LOAD_WARNING)\n",
       "    }\n",
       "\n",
       "  }\n",
       "\n",
       "  if (root._bokeh_is_loading === 0) {\n",
       "    console.debug(\"Bokeh: BokehJS loaded, going straight to plotting\");\n",
       "    run_inline_js();\n",
       "  } else {\n",
       "    load_libs(css_urls, js_urls, function() {\n",
       "      console.debug(\"Bokeh: BokehJS plotting callback run at\", now());\n",
       "      run_inline_js();\n",
       "    });\n",
       "  }\n",
       "}(window));"
      ],
      "application/vnd.bokehjs_load.v0+json": "\n(function(root) {\n  function now() {\n    return new Date();\n  }\n\n  var force = true;\n\n  if (typeof root._bokeh_onload_callbacks === \"undefined\" || force === true) {\n    root._bokeh_onload_callbacks = [];\n    root._bokeh_is_loading = undefined;\n  }\n\n  \n\n  \n  if (typeof (root._bokeh_timeout) === \"undefined\" || force === true) {\n    root._bokeh_timeout = Date.now() + 5000;\n    root._bokeh_failed_load = false;\n  }\n\n  var NB_LOAD_WARNING = {'data': {'text/html':\n     \"<div style='background-color: #fdd'>\\n\"+\n     \"<p>\\n\"+\n     \"BokehJS does not appear to have successfully loaded. If loading BokehJS from CDN, this \\n\"+\n     \"may be due to a slow or bad network connection. Possible fixes:\\n\"+\n     \"</p>\\n\"+\n     \"<ul>\\n\"+\n     \"<li>re-rerun `output_notebook()` to attempt to load from CDN again, or</li>\\n\"+\n     \"<li>use INLINE resources instead, as so:</li>\\n\"+\n     \"</ul>\\n\"+\n     \"<code>\\n\"+\n     \"from bokeh.resources import INLINE\\n\"+\n     \"output_notebook(resources=INLINE)\\n\"+\n     \"</code>\\n\"+\n     \"</div>\"}};\n\n  function display_loaded() {\n    var el = document.getElementById(\"1002\");\n    if (el != null) {\n      el.textContent = \"BokehJS is loading...\";\n    }\n    if (root.Bokeh !== undefined) {\n      if (el != null) {\n        el.textContent = \"BokehJS \" + root.Bokeh.version + \" successfully loaded.\";\n      }\n    } else if (Date.now() < root._bokeh_timeout) {\n      setTimeout(display_loaded, 100)\n    }\n  }\n\n\n  function run_callbacks() {\n    try {\n      root._bokeh_onload_callbacks.forEach(function(callback) {\n        if (callback != null)\n          callback();\n      });\n    } finally {\n      delete root._bokeh_onload_callbacks\n    }\n    console.debug(\"Bokeh: all callbacks have finished\");\n  }\n\n  function load_libs(css_urls, js_urls, callback) {\n    if (css_urls == null) css_urls = [];\n    if (js_urls == null) js_urls = [];\n\n    root._bokeh_onload_callbacks.push(callback);\n    if (root._bokeh_is_loading > 0) {\n      console.debug(\"Bokeh: BokehJS is being loaded, scheduling callback at\", now());\n      return null;\n    }\n    if (js_urls == null || js_urls.length === 0) {\n      run_callbacks();\n      return null;\n    }\n    console.debug(\"Bokeh: BokehJS not loaded, scheduling load and callback at\", now());\n    root._bokeh_is_loading = css_urls.length + js_urls.length;\n\n    function on_load() {\n      root._bokeh_is_loading--;\n      if (root._bokeh_is_loading === 0) {\n        console.debug(\"Bokeh: all BokehJS libraries/stylesheets loaded\");\n        run_callbacks()\n      }\n    }\n\n    function on_error(url) {\n      console.error(\"failed to load \" + url);\n    }\n\n    for (let i = 0; i < css_urls.length; i++) {\n      const url = css_urls[i];\n      const element = document.createElement(\"link\");\n      element.onload = on_load;\n      element.onerror = on_error.bind(null, url);\n      element.rel = \"stylesheet\";\n      element.type = \"text/css\";\n      element.href = url;\n      console.debug(\"Bokeh: injecting link tag for BokehJS stylesheet: \", url);\n      document.body.appendChild(element);\n    }\n\n    const hashes = {\"https://cdn.bokeh.org/bokeh/release/bokeh-2.3.1.min.js\": \"YF85VygJKMVnHE+lLv2AM93Vbstr0yo2TbIu5v8se5Rq3UQAUmcuh4aaJwNlpKwa\", \"https://cdn.bokeh.org/bokeh/release/bokeh-widgets-2.3.1.min.js\": \"KKuas3gevv3PvrlkyCMzffFeaMq5we/a2QsP5AUoS3mJ0jmaCL7jirFJN3GoE/lM\", \"https://cdn.bokeh.org/bokeh/release/bokeh-tables-2.3.1.min.js\": \"MK/uFc3YT18pkvvXRl66tTHjP0/dxoSH2e/eiNMFIguKlun2+WVqaPTWmUy/zvh4\"};\n\n    for (let i = 0; i < js_urls.length; i++) {\n      const url = js_urls[i];\n      const element = document.createElement('script');\n      element.onload = on_load;\n      element.onerror = on_error.bind(null, url);\n      element.async = false;\n      element.src = url;\n      if (url in hashes) {\n        element.crossOrigin = \"anonymous\";\n        element.integrity = \"sha384-\" + hashes[url];\n      }\n      console.debug(\"Bokeh: injecting script tag for BokehJS library: \", url);\n      document.head.appendChild(element);\n    }\n  };\n\n  function inject_raw_css(css) {\n    const element = document.createElement(\"style\");\n    element.appendChild(document.createTextNode(css));\n    document.body.appendChild(element);\n  }\n\n  \n  var js_urls = [\"https://cdn.bokeh.org/bokeh/release/bokeh-2.3.1.min.js\", \"https://cdn.bokeh.org/bokeh/release/bokeh-widgets-2.3.1.min.js\", \"https://cdn.bokeh.org/bokeh/release/bokeh-tables-2.3.1.min.js\"];\n  var css_urls = [];\n  \n\n  var inline_js = [\n    function(Bokeh) {\n      Bokeh.set_log_level(\"info\");\n    },\n    function(Bokeh) {\n    \n    \n    }\n  ];\n\n  function run_inline_js() {\n    \n    if (root.Bokeh !== undefined || force === true) {\n      \n    for (var i = 0; i < inline_js.length; i++) {\n      inline_js[i].call(root, root.Bokeh);\n    }\n    if (force === true) {\n        display_loaded();\n      }} else if (Date.now() < root._bokeh_timeout) {\n      setTimeout(run_inline_js, 100);\n    } else if (!root._bokeh_failed_load) {\n      console.log(\"Bokeh: BokehJS failed to load within specified timeout.\");\n      root._bokeh_failed_load = true;\n    } else if (force !== true) {\n      var cell = $(document.getElementById(\"1002\")).parents('.cell').data().cell;\n      cell.output_area.append_execute_result(NB_LOAD_WARNING)\n    }\n\n  }\n\n  if (root._bokeh_is_loading === 0) {\n    console.debug(\"Bokeh: BokehJS loaded, going straight to plotting\");\n    run_inline_js();\n  } else {\n    load_libs(css_urls, js_urls, function() {\n      console.debug(\"Bokeh: BokehJS plotting callback run at\", now());\n      run_inline_js();\n    });\n  }\n}(window));"
     },
     "metadata": {},
     "output_type": "display_data"
    }
   ],
   "source": [
    "import numpy as np\n",
    "import pandas as pd\n",
    "import time\n",
    "import string\n",
    "import re\n",
    "import math\n",
    "\n",
    "from collections import Counter\n",
    "\n",
    "from sklearn.model_selection import train_test_split, cross_val_score\n",
    "from sklearn.pipeline import make_pipeline\n",
    "from sklearn.feature_extraction.text import CountVectorizer, TfidfVectorizer\n",
    "from sklearn.linear_model import LinearRegression, Ridge, Lasso, TweedieRegressor,HuberRegressor\n",
    "from sklearn.naive_bayes import MultinomialNB\n",
    "from sklearn.metrics import mean_squared_error as mse\n",
    "\n",
    "\n",
    "import xgboost as xgb\n",
    "\n",
    "import tensorflow as tf\n",
    "from tensorflow import keras\n",
    "from tensorflow.keras.metrics import RootMeanSquaredError\n",
    "from tensorflow.keras.preprocessing.text import Tokenizer\n",
    "from tensorflow.keras.preprocessing.sequence import pad_sequences\n",
    "from tensorflow.keras.callbacks import EarlyStopping, ModelCheckpoint, LearningRateScheduler, ReduceLROnPlateau\n",
    "\n",
    "import kerastuner as kt\n",
    "\n",
    "import matplotlib.pyplot as plt\n",
    "import seaborn as sns\n",
    "from wordcloud import WordCloud\n",
    "\n",
    "from bokeh.plotting import figure\n",
    "from bokeh.models import ColumnDataSource\n",
    "from bokeh.io import curdoc, show, output_notebook\n",
    "output_notebook()\n",
    "\n",
    "import nltk\n",
    "from nltk import word_tokenize\n",
    "from nltk.stem.snowball import SnowballStemmer\n",
    "from nltk.corpus import stopwords\n",
    "from nltk import pos_tag\n",
    "stop_words = stopwords.words('english')\n",
    "\n",
    "import spacy\n",
    "nlp = spacy.load('en_core_web_lg')\n",
    "from spacy import displacy\n",
    "\n",
    "import transformers\n",
    "from transformers import BertTokenizer, TFBertModel, RobertaTokenizer, TFRobertaModel\n"
   ]
  },
  {
   "cell_type": "code",
   "execution_count": 3,
   "id": "violent-commissioner",
   "metadata": {
    "execution": {
     "iopub.execute_input": "2021-06-22T14:02:04.324729Z",
     "iopub.status.busy": "2021-06-22T14:02:04.324135Z",
     "iopub.status.idle": "2021-06-22T14:02:04.405020Z",
     "shell.execute_reply": "2021-06-22T14:02:04.405495Z",
     "shell.execute_reply.started": "2021-06-22T12:17:14.034449Z"
    },
    "papermill": {
     "duration": 0.162322,
     "end_time": "2021-06-22T14:02:04.405653",
     "exception": false,
     "start_time": "2021-06-22T14:02:04.243331",
     "status": "completed"
    },
    "tags": []
   },
   "outputs": [
    {
     "name": "stdout",
     "output_type": "stream",
     "text": [
      " Training dataset shape : (2834, 6)\n",
      " Testing dataset shape : (7, 4)\n"
     ]
    }
   ],
   "source": [
    "df_train = pd.read_csv('/kaggle/input/commonlitreadabilityprize/train.csv')\n",
    "df_test = pd.read_csv('/kaggle/input/commonlitreadabilityprize/test.csv')\n",
    "df_submission = pd.read_csv('/kaggle/input/commonlitreadabilityprize/sample_submission.csv')\n",
    "\n",
    "print(\" Training dataset shape : \" + str(df_train.shape))\n",
    "print(\" Testing dataset shape : \" + str(df_test.shape))"
   ]
  },
  {
   "cell_type": "code",
   "execution_count": 4,
   "id": "accessible-handle",
   "metadata": {
    "execution": {
     "iopub.execute_input": "2021-06-22T14:02:04.590937Z",
     "iopub.status.busy": "2021-06-22T14:02:04.589863Z",
     "iopub.status.idle": "2021-06-22T14:02:04.602184Z",
     "shell.execute_reply": "2021-06-22T14:02:04.601612Z",
     "shell.execute_reply.started": "2021-06-22T12:17:14.134219Z"
    },
    "papermill": {
     "duration": 0.115598,
     "end_time": "2021-06-22T14:02:04.602340",
     "exception": false,
     "start_time": "2021-06-22T14:02:04.486742",
     "status": "completed"
    },
    "tags": []
   },
   "outputs": [
    {
     "data": {
      "text/html": [
       "<div>\n",
       "<style scoped>\n",
       "    .dataframe tbody tr th:only-of-type {\n",
       "        vertical-align: middle;\n",
       "    }\n",
       "\n",
       "    .dataframe tbody tr th {\n",
       "        vertical-align: top;\n",
       "    }\n",
       "\n",
       "    .dataframe thead th {\n",
       "        text-align: right;\n",
       "    }\n",
       "</style>\n",
       "<table border=\"1\" class=\"dataframe\">\n",
       "  <thead>\n",
       "    <tr style=\"text-align: right;\">\n",
       "      <th></th>\n",
       "      <th>id</th>\n",
       "      <th>url_legal</th>\n",
       "      <th>license</th>\n",
       "      <th>excerpt</th>\n",
       "      <th>target</th>\n",
       "      <th>standard_error</th>\n",
       "    </tr>\n",
       "  </thead>\n",
       "  <tbody>\n",
       "    <tr>\n",
       "      <th>0</th>\n",
       "      <td>c12129c31</td>\n",
       "      <td>NaN</td>\n",
       "      <td>NaN</td>\n",
       "      <td>When the young people returned to the ballroom...</td>\n",
       "      <td>-0.340259</td>\n",
       "      <td>0.464009</td>\n",
       "    </tr>\n",
       "    <tr>\n",
       "      <th>1</th>\n",
       "      <td>85aa80a4c</td>\n",
       "      <td>NaN</td>\n",
       "      <td>NaN</td>\n",
       "      <td>All through dinner time, Mrs. Fayre was somewh...</td>\n",
       "      <td>-0.315372</td>\n",
       "      <td>0.480805</td>\n",
       "    </tr>\n",
       "    <tr>\n",
       "      <th>2</th>\n",
       "      <td>b69ac6792</td>\n",
       "      <td>NaN</td>\n",
       "      <td>NaN</td>\n",
       "      <td>As Roger had predicted, the snow departed as q...</td>\n",
       "      <td>-0.580118</td>\n",
       "      <td>0.476676</td>\n",
       "    </tr>\n",
       "    <tr>\n",
       "      <th>3</th>\n",
       "      <td>dd1000b26</td>\n",
       "      <td>NaN</td>\n",
       "      <td>NaN</td>\n",
       "      <td>And outside before the palace a great garden w...</td>\n",
       "      <td>-1.054013</td>\n",
       "      <td>0.450007</td>\n",
       "    </tr>\n",
       "    <tr>\n",
       "      <th>4</th>\n",
       "      <td>37c1b32fb</td>\n",
       "      <td>NaN</td>\n",
       "      <td>NaN</td>\n",
       "      <td>Once upon a time there were Three Bears who li...</td>\n",
       "      <td>0.247197</td>\n",
       "      <td>0.510845</td>\n",
       "    </tr>\n",
       "    <tr>\n",
       "      <th>...</th>\n",
       "      <td>...</td>\n",
       "      <td>...</td>\n",
       "      <td>...</td>\n",
       "      <td>...</td>\n",
       "      <td>...</td>\n",
       "      <td>...</td>\n",
       "    </tr>\n",
       "    <tr>\n",
       "      <th>2829</th>\n",
       "      <td>25ca8f498</td>\n",
       "      <td>https://sites.ehe.osu.edu/beyondpenguins/files...</td>\n",
       "      <td>CC BY-SA 3.0</td>\n",
       "      <td>When you think of dinosaurs and where they liv...</td>\n",
       "      <td>1.711390</td>\n",
       "      <td>0.646900</td>\n",
       "    </tr>\n",
       "    <tr>\n",
       "      <th>2830</th>\n",
       "      <td>2c26db523</td>\n",
       "      <td>https://en.wikibooks.org/wiki/Wikijunior:The_E...</td>\n",
       "      <td>CC BY-SA 3.0</td>\n",
       "      <td>So what is a solid? Solids are usually hard be...</td>\n",
       "      <td>0.189476</td>\n",
       "      <td>0.535648</td>\n",
       "    </tr>\n",
       "    <tr>\n",
       "      <th>2831</th>\n",
       "      <td>cd19e2350</td>\n",
       "      <td>https://en.wikibooks.org/wiki/Wikijunior:The_E...</td>\n",
       "      <td>CC BY-SA 3.0</td>\n",
       "      <td>The second state of matter we will discuss is ...</td>\n",
       "      <td>0.255209</td>\n",
       "      <td>0.483866</td>\n",
       "    </tr>\n",
       "    <tr>\n",
       "      <th>2832</th>\n",
       "      <td>15e2e9e7a</td>\n",
       "      <td>https://en.wikibooks.org/wiki/Geometry_for_Ele...</td>\n",
       "      <td>CC BY-SA 3.0</td>\n",
       "      <td>Solids are shapes that you can actually touch....</td>\n",
       "      <td>-0.215279</td>\n",
       "      <td>0.514128</td>\n",
       "    </tr>\n",
       "    <tr>\n",
       "      <th>2833</th>\n",
       "      <td>5b990ba77</td>\n",
       "      <td>https://en.wikibooks.org/wiki/Wikijunior:Biolo...</td>\n",
       "      <td>CC BY-SA 3.0</td>\n",
       "      <td>Animals are made of many cells. They eat thing...</td>\n",
       "      <td>0.300779</td>\n",
       "      <td>0.512379</td>\n",
       "    </tr>\n",
       "  </tbody>\n",
       "</table>\n",
       "<p>2834 rows × 6 columns</p>\n",
       "</div>"
      ],
      "text/plain": [
       "             id                                          url_legal  \\\n",
       "0     c12129c31                                                NaN   \n",
       "1     85aa80a4c                                                NaN   \n",
       "2     b69ac6792                                                NaN   \n",
       "3     dd1000b26                                                NaN   \n",
       "4     37c1b32fb                                                NaN   \n",
       "...         ...                                                ...   \n",
       "2829  25ca8f498  https://sites.ehe.osu.edu/beyondpenguins/files...   \n",
       "2830  2c26db523  https://en.wikibooks.org/wiki/Wikijunior:The_E...   \n",
       "2831  cd19e2350  https://en.wikibooks.org/wiki/Wikijunior:The_E...   \n",
       "2832  15e2e9e7a  https://en.wikibooks.org/wiki/Geometry_for_Ele...   \n",
       "2833  5b990ba77  https://en.wikibooks.org/wiki/Wikijunior:Biolo...   \n",
       "\n",
       "           license                                            excerpt  \\\n",
       "0              NaN  When the young people returned to the ballroom...   \n",
       "1              NaN  All through dinner time, Mrs. Fayre was somewh...   \n",
       "2              NaN  As Roger had predicted, the snow departed as q...   \n",
       "3              NaN  And outside before the palace a great garden w...   \n",
       "4              NaN  Once upon a time there were Three Bears who li...   \n",
       "...            ...                                                ...   \n",
       "2829  CC BY-SA 3.0  When you think of dinosaurs and where they liv...   \n",
       "2830  CC BY-SA 3.0  So what is a solid? Solids are usually hard be...   \n",
       "2831  CC BY-SA 3.0  The second state of matter we will discuss is ...   \n",
       "2832  CC BY-SA 3.0  Solids are shapes that you can actually touch....   \n",
       "2833  CC BY-SA 3.0  Animals are made of many cells. They eat thing...   \n",
       "\n",
       "        target  standard_error  \n",
       "0    -0.340259        0.464009  \n",
       "1    -0.315372        0.480805  \n",
       "2    -0.580118        0.476676  \n",
       "3    -1.054013        0.450007  \n",
       "4     0.247197        0.510845  \n",
       "...        ...             ...  \n",
       "2829  1.711390        0.646900  \n",
       "2830  0.189476        0.535648  \n",
       "2831  0.255209        0.483866  \n",
       "2832 -0.215279        0.514128  \n",
       "2833  0.300779        0.512379  \n",
       "\n",
       "[2834 rows x 6 columns]"
      ]
     },
     "execution_count": 4,
     "metadata": {},
     "output_type": "execute_result"
    }
   ],
   "source": [
    "df_train"
   ]
  },
  {
   "cell_type": "code",
   "execution_count": 5,
   "id": "unusual-lawsuit",
   "metadata": {
    "execution": {
     "iopub.execute_input": "2021-06-22T14:02:04.765110Z",
     "iopub.status.busy": "2021-06-22T14:02:04.764307Z",
     "iopub.status.idle": "2021-06-22T14:02:04.767912Z",
     "shell.execute_reply": "2021-06-22T14:02:04.767509Z",
     "shell.execute_reply.started": "2021-06-22T12:17:14.165311Z"
    },
    "papermill": {
     "duration": 0.087761,
     "end_time": "2021-06-22T14:02:04.768021",
     "exception": false,
     "start_time": "2021-06-22T14:02:04.680260",
     "status": "completed"
    },
    "tags": []
   },
   "outputs": [
    {
     "data": {
      "text/html": [
       "<div>\n",
       "<style scoped>\n",
       "    .dataframe tbody tr th:only-of-type {\n",
       "        vertical-align: middle;\n",
       "    }\n",
       "\n",
       "    .dataframe tbody tr th {\n",
       "        vertical-align: top;\n",
       "    }\n",
       "\n",
       "    .dataframe thead th {\n",
       "        text-align: right;\n",
       "    }\n",
       "</style>\n",
       "<table border=\"1\" class=\"dataframe\">\n",
       "  <thead>\n",
       "    <tr style=\"text-align: right;\">\n",
       "      <th></th>\n",
       "      <th>id</th>\n",
       "      <th>url_legal</th>\n",
       "      <th>license</th>\n",
       "      <th>excerpt</th>\n",
       "    </tr>\n",
       "  </thead>\n",
       "  <tbody>\n",
       "    <tr>\n",
       "      <th>0</th>\n",
       "      <td>c0f722661</td>\n",
       "      <td>NaN</td>\n",
       "      <td>NaN</td>\n",
       "      <td>My hope lay in Jack's promise that he would ke...</td>\n",
       "    </tr>\n",
       "    <tr>\n",
       "      <th>1</th>\n",
       "      <td>f0953f0a5</td>\n",
       "      <td>NaN</td>\n",
       "      <td>NaN</td>\n",
       "      <td>Dotty continued to go to Mrs. Gray's every nig...</td>\n",
       "    </tr>\n",
       "    <tr>\n",
       "      <th>2</th>\n",
       "      <td>0df072751</td>\n",
       "      <td>NaN</td>\n",
       "      <td>NaN</td>\n",
       "      <td>It was a bright and cheerful scene that greete...</td>\n",
       "    </tr>\n",
       "    <tr>\n",
       "      <th>3</th>\n",
       "      <td>04caf4e0c</td>\n",
       "      <td>https://en.wikipedia.org/wiki/Cell_division</td>\n",
       "      <td>CC BY-SA 3.0</td>\n",
       "      <td>Cell division is the process by which a parent...</td>\n",
       "    </tr>\n",
       "    <tr>\n",
       "      <th>4</th>\n",
       "      <td>0e63f8bea</td>\n",
       "      <td>https://en.wikipedia.org/wiki/Debugging</td>\n",
       "      <td>CC BY-SA 3.0</td>\n",
       "      <td>Debugging is the process of finding and resolv...</td>\n",
       "    </tr>\n",
       "    <tr>\n",
       "      <th>5</th>\n",
       "      <td>12537fe78</td>\n",
       "      <td>NaN</td>\n",
       "      <td>NaN</td>\n",
       "      <td>To explain transitivity, let us look first at ...</td>\n",
       "    </tr>\n",
       "    <tr>\n",
       "      <th>6</th>\n",
       "      <td>965e592c0</td>\n",
       "      <td>https://www.africanstorybook.org/#</td>\n",
       "      <td>CC BY 4.0</td>\n",
       "      <td>Milka and John are playing in the garden. Her ...</td>\n",
       "    </tr>\n",
       "  </tbody>\n",
       "</table>\n",
       "</div>"
      ],
      "text/plain": [
       "          id                                    url_legal       license  \\\n",
       "0  c0f722661                                          NaN           NaN   \n",
       "1  f0953f0a5                                          NaN           NaN   \n",
       "2  0df072751                                          NaN           NaN   \n",
       "3  04caf4e0c  https://en.wikipedia.org/wiki/Cell_division  CC BY-SA 3.0   \n",
       "4  0e63f8bea      https://en.wikipedia.org/wiki/Debugging  CC BY-SA 3.0   \n",
       "5  12537fe78                                          NaN           NaN   \n",
       "6  965e592c0           https://www.africanstorybook.org/#     CC BY 4.0   \n",
       "\n",
       "                                             excerpt  \n",
       "0  My hope lay in Jack's promise that he would ke...  \n",
       "1  Dotty continued to go to Mrs. Gray's every nig...  \n",
       "2  It was a bright and cheerful scene that greete...  \n",
       "3  Cell division is the process by which a parent...  \n",
       "4  Debugging is the process of finding and resolv...  \n",
       "5  To explain transitivity, let us look first at ...  \n",
       "6  Milka and John are playing in the garden. Her ...  "
      ]
     },
     "execution_count": 5,
     "metadata": {},
     "output_type": "execute_result"
    }
   ],
   "source": [
    "df_test"
   ]
  },
  {
   "cell_type": "code",
   "execution_count": 6,
   "id": "roman-explanation",
   "metadata": {
    "execution": {
     "iopub.execute_input": "2021-06-22T14:02:04.927467Z",
     "iopub.status.busy": "2021-06-22T14:02:04.926711Z",
     "iopub.status.idle": "2021-06-22T14:02:04.929813Z",
     "shell.execute_reply": "2021-06-22T14:02:04.930180Z",
     "shell.execute_reply.started": "2021-06-22T12:17:14.180626Z"
    },
    "papermill": {
     "duration": 0.087172,
     "end_time": "2021-06-22T14:02:04.930329",
     "exception": false,
     "start_time": "2021-06-22T14:02:04.843157",
     "status": "completed"
    },
    "tags": []
   },
   "outputs": [
    {
     "data": {
      "text/html": [
       "<div>\n",
       "<style scoped>\n",
       "    .dataframe tbody tr th:only-of-type {\n",
       "        vertical-align: middle;\n",
       "    }\n",
       "\n",
       "    .dataframe tbody tr th {\n",
       "        vertical-align: top;\n",
       "    }\n",
       "\n",
       "    .dataframe thead th {\n",
       "        text-align: right;\n",
       "    }\n",
       "</style>\n",
       "<table border=\"1\" class=\"dataframe\">\n",
       "  <thead>\n",
       "    <tr style=\"text-align: right;\">\n",
       "      <th></th>\n",
       "      <th>id</th>\n",
       "      <th>target</th>\n",
       "    </tr>\n",
       "  </thead>\n",
       "  <tbody>\n",
       "    <tr>\n",
       "      <th>0</th>\n",
       "      <td>c0f722661</td>\n",
       "      <td>0.0</td>\n",
       "    </tr>\n",
       "    <tr>\n",
       "      <th>1</th>\n",
       "      <td>f0953f0a5</td>\n",
       "      <td>0.0</td>\n",
       "    </tr>\n",
       "    <tr>\n",
       "      <th>2</th>\n",
       "      <td>0df072751</td>\n",
       "      <td>0.0</td>\n",
       "    </tr>\n",
       "    <tr>\n",
       "      <th>3</th>\n",
       "      <td>04caf4e0c</td>\n",
       "      <td>0.0</td>\n",
       "    </tr>\n",
       "    <tr>\n",
       "      <th>4</th>\n",
       "      <td>0e63f8bea</td>\n",
       "      <td>0.0</td>\n",
       "    </tr>\n",
       "    <tr>\n",
       "      <th>5</th>\n",
       "      <td>12537fe78</td>\n",
       "      <td>0.0</td>\n",
       "    </tr>\n",
       "    <tr>\n",
       "      <th>6</th>\n",
       "      <td>965e592c0</td>\n",
       "      <td>0.0</td>\n",
       "    </tr>\n",
       "  </tbody>\n",
       "</table>\n",
       "</div>"
      ],
      "text/plain": [
       "          id  target\n",
       "0  c0f722661     0.0\n",
       "1  f0953f0a5     0.0\n",
       "2  0df072751     0.0\n",
       "3  04caf4e0c     0.0\n",
       "4  0e63f8bea     0.0\n",
       "5  12537fe78     0.0\n",
       "6  965e592c0     0.0"
      ]
     },
     "execution_count": 6,
     "metadata": {},
     "output_type": "execute_result"
    }
   ],
   "source": [
    "df_submission"
   ]
  },
  {
   "cell_type": "code",
   "execution_count": 7,
   "id": "thirty-captain",
   "metadata": {
    "execution": {
     "iopub.execute_input": "2021-06-22T14:02:05.089782Z",
     "iopub.status.busy": "2021-06-22T14:02:05.089018Z",
     "iopub.status.idle": "2021-06-22T14:02:05.093112Z",
     "shell.execute_reply": "2021-06-22T14:02:05.093545Z",
     "shell.execute_reply.started": "2021-06-22T12:17:14.193621Z"
    },
    "papermill": {
     "duration": 0.085353,
     "end_time": "2021-06-22T14:02:05.093684",
     "exception": false,
     "start_time": "2021-06-22T14:02:05.008331",
     "status": "completed"
    },
    "tags": []
   },
   "outputs": [
    {
     "data": {
      "text/plain": [
       "'And outside before the palace a great garden was walled round, filled full of stately fruit-trees, gray olives and sweet figs, and pomegranates, pears, and apples, which bore the whole year round. For the rich south-west wind fed them, till pear grew ripe on pear, fig on fig, and grape on grape, all the winter and the spring. And at the farther end gay flower-beds bloomed through all seasons of the year; and two fair fountains rose, and ran, one through the garden grounds, and one beneath the palace gate, to water all the town. Such noble gifts the heavens had given to Alcinous the wise.\\nSo they went in, and saw him sitting, like Poseidon, on his throne, with his golden sceptre by him, in garments stiff with gold, and in his hand a sculptured goblet, as he pledged the merchant kings; and beside him stood Arete, his wise and lovely queen, and leaned against a pillar as she spun her golden threads.'"
      ]
     },
     "execution_count": 7,
     "metadata": {},
     "output_type": "execute_result"
    }
   ],
   "source": [
    "df_train['excerpt'][3]"
   ]
  },
  {
   "cell_type": "markdown",
   "id": "mighty-avatar",
   "metadata": {
    "papermill": {
     "duration": 0.0761,
     "end_time": "2021-06-22T14:02:05.247390",
     "exception": false,
     "start_time": "2021-06-22T14:02:05.171290",
     "status": "completed"
    },
    "tags": []
   },
   "source": [
    "## EDA\n",
    "\n",
    "Lets start with null values "
   ]
  },
  {
   "cell_type": "code",
   "execution_count": 8,
   "id": "adjustable-tiffany",
   "metadata": {
    "execution": {
     "iopub.execute_input": "2021-06-22T14:02:05.406892Z",
     "iopub.status.busy": "2021-06-22T14:02:05.406180Z",
     "iopub.status.idle": "2021-06-22T14:02:05.409137Z",
     "shell.execute_reply": "2021-06-22T14:02:05.409640Z",
     "shell.execute_reply.started": "2021-06-22T12:17:14.204016Z"
    },
    "papermill": {
     "duration": 0.086441,
     "end_time": "2021-06-22T14:02:05.409770",
     "exception": false,
     "start_time": "2021-06-22T14:02:05.323329",
     "status": "completed"
    },
    "tags": []
   },
   "outputs": [
    {
     "data": {
      "text/plain": [
       "id                   0\n",
       "url_legal         2004\n",
       "license           2004\n",
       "excerpt              0\n",
       "target               0\n",
       "standard_error       0\n",
       "dtype: int64"
      ]
     },
     "execution_count": 8,
     "metadata": {},
     "output_type": "execute_result"
    }
   ],
   "source": [
    "df_train.isnull().sum()"
   ]
  },
  {
   "cell_type": "code",
   "execution_count": 9,
   "id": "hispanic-hudson",
   "metadata": {
    "execution": {
     "iopub.execute_input": "2021-06-22T14:02:05.568225Z",
     "iopub.status.busy": "2021-06-22T14:02:05.567531Z",
     "iopub.status.idle": "2021-06-22T14:02:05.570505Z",
     "shell.execute_reply": "2021-06-22T14:02:05.570929Z",
     "shell.execute_reply.started": "2021-06-22T12:17:14.219212Z"
    },
    "papermill": {
     "duration": 0.084429,
     "end_time": "2021-06-22T14:02:05.571060",
     "exception": false,
     "start_time": "2021-06-22T14:02:05.486631",
     "status": "completed"
    },
    "tags": []
   },
   "outputs": [
    {
     "data": {
      "text/plain": [
       "id           0\n",
       "url_legal    4\n",
       "license      4\n",
       "excerpt      0\n",
       "dtype: int64"
      ]
     },
     "execution_count": 9,
     "metadata": {},
     "output_type": "execute_result"
    }
   ],
   "source": [
    "df_test.isnull().sum()"
   ]
  },
  {
   "cell_type": "markdown",
   "id": "sound-secretary",
   "metadata": {
    "papermill": {
     "duration": 0.075669,
     "end_time": "2021-06-22T14:02:05.722703",
     "exception": false,
     "start_time": "2021-06-22T14:02:05.647034",
     "status": "completed"
    },
    "tags": []
   },
   "source": [
    "From the above results we can say that only url_legal and license columns appear to be having missing values"
   ]
  },
  {
   "cell_type": "markdown",
   "id": "earlier-surgeon",
   "metadata": {
    "papermill": {
     "duration": 0.075994,
     "end_time": "2021-06-22T14:02:05.875094",
     "exception": false,
     "start_time": "2021-06-22T14:02:05.799100",
     "status": "completed"
    },
    "tags": []
   },
   "source": [
    "### Target Distribution and std_error distribution"
   ]
  },
  {
   "cell_type": "code",
   "execution_count": 10,
   "id": "numerical-february",
   "metadata": {
    "execution": {
     "iopub.execute_input": "2021-06-22T14:02:06.046528Z",
     "iopub.status.busy": "2021-06-22T14:02:06.045846Z",
     "iopub.status.idle": "2021-06-22T14:02:06.287693Z",
     "shell.execute_reply": "2021-06-22T14:02:06.288068Z",
     "shell.execute_reply.started": "2021-06-22T12:17:14.229550Z"
    },
    "papermill": {
     "duration": 0.336609,
     "end_time": "2021-06-22T14:02:06.288229",
     "exception": false,
     "start_time": "2021-06-22T14:02:05.951620",
     "status": "completed"
    },
    "tags": []
   },
   "outputs": [
    {
     "name": "stderr",
     "output_type": "stream",
     "text": [
      "/opt/conda/lib/python3.7/site-packages/seaborn/distributions.py:2557: FutureWarning: `distplot` is a deprecated function and will be removed in a future version. Please adapt your code to use either `displot` (a figure-level function with similar flexibility) or `histplot` (an axes-level function for histograms).\n",
      "  warnings.warn(msg, FutureWarning)\n"
     ]
    },
    {
     "data": {
      "image/png": "[encoded data removed]",
      "text/plain": [
       "<Figure size 1440x432 with 1 Axes>"
      ]
     },
     "metadata": {
      "needs_background": "light"
     },
     "output_type": "display_data"
    }
   ],
   "source": [
    "# Train\n",
    "fig, ax = plt.subplots(1, 1, figsize=(20, 6))\n",
    "sns.distplot(df_train['target'], ax=ax, color ='green')\n",
    "plt.show()"
   ]
  },
  {
   "cell_type": "code",
   "execution_count": 11,
   "id": "short-check",
   "metadata": {
    "execution": {
     "iopub.execute_input": "2021-06-22T14:02:06.463679Z",
     "iopub.status.busy": "2021-06-22T14:02:06.462884Z",
     "iopub.status.idle": "2021-06-22T14:02:06.704272Z",
     "shell.execute_reply": "2021-06-22T14:02:06.704676Z",
     "shell.execute_reply.started": "2021-06-22T12:17:14.524599Z"
    },
    "papermill": {
     "duration": 0.338722,
     "end_time": "2021-06-22T14:02:06.704819",
     "exception": false,
     "start_time": "2021-06-22T14:02:06.366097",
     "status": "completed"
    },
    "tags": []
   },
   "outputs": [
    {
     "name": "stderr",
     "output_type": "stream",
     "text": [
      "/opt/conda/lib/python3.7/site-packages/seaborn/distributions.py:2557: FutureWarning: `distplot` is a deprecated function and will be removed in a future version. Please adapt your code to use either `displot` (a figure-level function with similar flexibility) or `histplot` (an axes-level function for histograms).\n",
      "  warnings.warn(msg, FutureWarning)\n"
     ]
    },
    {
     "data": {
      "image/png": "[encoded data removed]",
      "text/plain": [
       "<Figure size 1440x432 with 1 Axes>"
      ]
     },
     "metadata": {
      "needs_background": "light"
     },
     "output_type": "display_data"
    }
   ],
   "source": [
    "fig, ax = plt.subplots(1, 1, figsize=(20, 6))\n",
    "sns.distplot(df_train['standard_error'], ax=ax, color ='green')\n",
    "plt.show()"
   ]
  },
  {
   "cell_type": "markdown",
   "id": "valued-movement",
   "metadata": {
    "papermill": {
     "duration": 0.078928,
     "end_time": "2021-06-22T14:02:06.863253",
     "exception": false,
     "start_time": "2021-06-22T14:02:06.784325",
     "status": "completed"
    },
    "tags": []
   },
   "source": [
    "### Lets Find Length of the excerpt column and Count of number of words in the excerpt column"
   ]
  },
  {
   "cell_type": "code",
   "execution_count": 12,
   "id": "governing-tourism",
   "metadata": {
    "execution": {
     "iopub.execute_input": "2021-06-22T14:02:07.056192Z",
     "iopub.status.busy": "2021-06-22T14:02:07.055358Z",
     "iopub.status.idle": "2021-06-22T14:02:07.057883Z",
     "shell.execute_reply": "2021-06-22T14:02:07.057490Z",
     "shell.execute_reply.started": "2021-06-22T12:17:14.804601Z"
    },
    "papermill": {
     "duration": 0.11555,
     "end_time": "2021-06-22T14:02:07.058003",
     "exception": false,
     "start_time": "2021-06-22T14:02:06.942453",
     "status": "completed"
    },
    "tags": []
   },
   "outputs": [],
   "source": [
    "df_train['excerpt_len'] = df_train['excerpt'].apply(\n",
    "    lambda x : len(x)\n",
    ")\n",
    "df_train['excerpt_word_count'] = df_train['excerpt'].apply(\n",
    "    lambda x : len(x.split(' '))\n",
    ")"
   ]
  },
  {
   "cell_type": "code",
   "execution_count": 13,
   "id": "acknowledged-complaint",
   "metadata": {
    "execution": {
     "iopub.execute_input": "2021-06-22T14:02:07.233789Z",
     "iopub.status.busy": "2021-06-22T14:02:07.232978Z",
     "iopub.status.idle": "2021-06-22T14:02:07.430522Z",
     "shell.execute_reply": "2021-06-22T14:02:07.431134Z",
     "shell.execute_reply.started": "2021-06-22T12:17:14.842798Z"
    },
    "papermill": {
     "duration": 0.293636,
     "end_time": "2021-06-22T14:02:07.431320",
     "exception": false,
     "start_time": "2021-06-22T14:02:07.137684",
     "status": "completed"
    },
    "tags": []
   },
   "outputs": [
    {
     "name": "stderr",
     "output_type": "stream",
     "text": [
      "/opt/conda/lib/python3.7/site-packages/seaborn/distributions.py:2557: FutureWarning: `distplot` is a deprecated function and will be removed in a future version. Please adapt your code to use either `displot` (a figure-level function with similar flexibility) or `histplot` (an axes-level function for histograms).\n",
      "  warnings.warn(msg, FutureWarning)\n"
     ]
    },
    {
     "data": {
      "image/png": "[encoded data removed]",
      "text/plain": [
       "<Figure size 1440x432 with 1 Axes>"
      ]
     },
     "metadata": {
      "needs_background": "light"
     },
     "output_type": "display_data"
    }
   ],
   "source": [
    "# Train\n",
    "fig, ax = plt.subplots(1, 1, figsize=(20, 6))\n",
    "sns.distplot(df_train['excerpt_len'], ax=ax, color ='green')\n",
    "plt.show()"
   ]
  },
  {
   "cell_type": "code",
   "execution_count": 14,
   "id": "industrial-stake",
   "metadata": {
    "execution": {
     "iopub.execute_input": "2021-06-22T14:02:07.617365Z",
     "iopub.status.busy": "2021-06-22T14:02:07.616584Z",
     "iopub.status.idle": "2021-06-22T14:02:07.780798Z",
     "shell.execute_reply": "2021-06-22T14:02:07.781385Z",
     "shell.execute_reply.started": "2021-06-22T12:17:15.071837Z"
    },
    "papermill": {
     "duration": 0.269994,
     "end_time": "2021-06-22T14:02:07.781568",
     "exception": false,
     "start_time": "2021-06-22T14:02:07.511574",
     "status": "completed"
    },
    "tags": []
   },
   "outputs": [
    {
     "name": "stderr",
     "output_type": "stream",
     "text": [
      "/opt/conda/lib/python3.7/site-packages/seaborn/distributions.py:2557: FutureWarning: `distplot` is a deprecated function and will be removed in a future version. Please adapt your code to use either `displot` (a figure-level function with similar flexibility) or `histplot` (an axes-level function for histograms).\n",
      "  warnings.warn(msg, FutureWarning)\n"
     ]
    },
    {
     "data": {
      "image/png": "[encoded data removed]",
      "text/plain": [
       "<Figure size 1440x432 with 1 Axes>"
      ]
     },
     "metadata": {
      "needs_background": "light"
     },
     "output_type": "display_data"
    }
   ],
   "source": [
    "# Train\n",
    "fig, ax = plt.subplots(1, 1, figsize=(20, 6))\n",
    "sns.distplot(df_train['excerpt_word_count'], ax=ax, color ='green')\n",
    "plt.show()"
   ]
  },
  {
   "cell_type": "markdown",
   "id": "expanded-basics",
   "metadata": {
    "papermill": {
     "duration": 0.082285,
     "end_time": "2021-06-22T14:02:07.945987",
     "exception": false,
     "start_time": "2021-06-22T14:02:07.863702",
     "status": "completed"
    },
    "tags": []
   },
   "source": [
    "#### Vocabulary and its frequency before performing and data preprocessing "
   ]
  },
  {
   "cell_type": "code",
   "execution_count": 15,
   "id": "latter-medication",
   "metadata": {
    "execution": {
     "iopub.execute_input": "2021-06-22T14:02:08.163457Z",
     "iopub.status.busy": "2021-06-22T14:02:08.152098Z",
     "iopub.status.idle": "2021-06-22T14:02:08.246894Z",
     "shell.execute_reply": "2021-06-22T14:02:08.247493Z",
     "shell.execute_reply.started": "2021-06-22T12:17:15.267847Z"
    },
    "papermill": {
     "duration": 0.220257,
     "end_time": "2021-06-22T14:02:08.247683",
     "exception": false,
     "start_time": "2021-06-22T14:02:08.027426",
     "status": "completed"
    },
    "tags": []
   },
   "outputs": [
    {
     "name": "stdout",
     "output_type": "stream",
     "text": [
      "51038\n"
     ]
    }
   ],
   "source": [
    "results = Counter()\n",
    "df_train['excerpt'].str.lower().str.split().apply(results.update)\n",
    "print(len(results.keys()))"
   ]
  },
  {
   "cell_type": "code",
   "execution_count": 16,
   "id": "distinguished-montana",
   "metadata": {
    "execution": {
     "iopub.execute_input": "2021-06-22T14:02:08.452105Z",
     "iopub.status.busy": "2021-06-22T14:02:08.451224Z",
     "iopub.status.idle": "2021-06-22T14:02:08.824503Z",
     "shell.execute_reply": "2021-06-22T14:02:08.823185Z",
     "shell.execute_reply.started": "2021-06-22T12:17:15.409090Z"
    },
    "papermill": {
     "duration": 0.493685,
     "end_time": "2021-06-22T14:02:08.824646",
     "exception": false,
     "start_time": "2021-06-22T14:02:08.330961",
     "status": "completed"
    },
    "tags": []
   },
   "outputs": [],
   "source": [
    "Word_Freq=df_train.excerpt.str.split(expand=True).stack().value_counts().reset_index()"
   ]
  },
  {
   "cell_type": "code",
   "execution_count": 17,
   "id": "comic-recovery",
   "metadata": {
    "execution": {
     "iopub.execute_input": "2021-06-22T14:02:08.994410Z",
     "iopub.status.busy": "2021-06-22T14:02:08.993574Z",
     "iopub.status.idle": "2021-06-22T14:02:09.206540Z",
     "shell.execute_reply": "2021-06-22T14:02:09.206049Z",
     "shell.execute_reply.started": "2021-06-22T12:17:15.859982Z"
    },
    "papermill": {
     "duration": 0.298448,
     "end_time": "2021-06-22T14:02:09.206677",
     "exception": false,
     "start_time": "2021-06-22T14:02:08.908229",
     "status": "completed"
    },
    "tags": []
   },
   "outputs": [],
   "source": [
    "Word_Freq.to_csv('Train_Word_Freq.csv',index=False)"
   ]
  },
  {
   "cell_type": "code",
   "execution_count": 18,
   "id": "direct-glenn",
   "metadata": {
    "execution": {
     "iopub.execute_input": "2021-06-22T14:02:09.397990Z",
     "iopub.status.busy": "2021-06-22T14:02:09.396528Z",
     "iopub.status.idle": "2021-06-22T14:02:09.398785Z",
     "shell.execute_reply": "2021-06-22T14:02:09.399241Z",
     "shell.execute_reply.started": "2021-06-22T12:17:16.083680Z"
    },
    "papermill": {
     "duration": 0.109011,
     "end_time": "2021-06-22T14:02:09.399373",
     "exception": false,
     "start_time": "2021-06-22T14:02:09.290362",
     "status": "completed"
    },
    "tags": []
   },
   "outputs": [],
   "source": [
    "Word_Freq_Test=df_test.excerpt.str.split(expand=True).stack().value_counts().reset_index()"
   ]
  },
  {
   "cell_type": "code",
   "execution_count": 19,
   "id": "mobile-feelings",
   "metadata": {
    "execution": {
     "iopub.execute_input": "2021-06-22T14:02:09.567802Z",
     "iopub.status.busy": "2021-06-22T14:02:09.567007Z",
     "iopub.status.idle": "2021-06-22T14:02:09.575268Z",
     "shell.execute_reply": "2021-06-22T14:02:09.575664Z",
     "shell.execute_reply.started": "2021-06-22T12:17:16.109697Z"
    },
    "papermill": {
     "duration": 0.094349,
     "end_time": "2021-06-22T14:02:09.575787",
     "exception": false,
     "start_time": "2021-06-22T14:02:09.481438",
     "status": "completed"
    },
    "tags": []
   },
   "outputs": [
    {
     "data": {
      "text/html": [
       "<div>\n",
       "<style scoped>\n",
       "    .dataframe tbody tr th:only-of-type {\n",
       "        vertical-align: middle;\n",
       "    }\n",
       "\n",
       "    .dataframe tbody tr th {\n",
       "        vertical-align: top;\n",
       "    }\n",
       "\n",
       "    .dataframe thead th {\n",
       "        text-align: right;\n",
       "    }\n",
       "</style>\n",
       "<table border=\"1\" class=\"dataframe\">\n",
       "  <thead>\n",
       "    <tr style=\"text-align: right;\">\n",
       "      <th></th>\n",
       "      <th>id</th>\n",
       "      <th>url_legal</th>\n",
       "      <th>license</th>\n",
       "      <th>excerpt</th>\n",
       "    </tr>\n",
       "  </thead>\n",
       "  <tbody>\n",
       "    <tr>\n",
       "      <th>0</th>\n",
       "      <td>c0f722661</td>\n",
       "      <td>NaN</td>\n",
       "      <td>NaN</td>\n",
       "      <td>My hope lay in Jack's promise that he would ke...</td>\n",
       "    </tr>\n",
       "    <tr>\n",
       "      <th>1</th>\n",
       "      <td>f0953f0a5</td>\n",
       "      <td>NaN</td>\n",
       "      <td>NaN</td>\n",
       "      <td>Dotty continued to go to Mrs. Gray's every nig...</td>\n",
       "    </tr>\n",
       "    <tr>\n",
       "      <th>2</th>\n",
       "      <td>0df072751</td>\n",
       "      <td>NaN</td>\n",
       "      <td>NaN</td>\n",
       "      <td>It was a bright and cheerful scene that greete...</td>\n",
       "    </tr>\n",
       "    <tr>\n",
       "      <th>3</th>\n",
       "      <td>04caf4e0c</td>\n",
       "      <td>https://en.wikipedia.org/wiki/Cell_division</td>\n",
       "      <td>CC BY-SA 3.0</td>\n",
       "      <td>Cell division is the process by which a parent...</td>\n",
       "    </tr>\n",
       "    <tr>\n",
       "      <th>4</th>\n",
       "      <td>0e63f8bea</td>\n",
       "      <td>https://en.wikipedia.org/wiki/Debugging</td>\n",
       "      <td>CC BY-SA 3.0</td>\n",
       "      <td>Debugging is the process of finding and resolv...</td>\n",
       "    </tr>\n",
       "    <tr>\n",
       "      <th>5</th>\n",
       "      <td>12537fe78</td>\n",
       "      <td>NaN</td>\n",
       "      <td>NaN</td>\n",
       "      <td>To explain transitivity, let us look first at ...</td>\n",
       "    </tr>\n",
       "    <tr>\n",
       "      <th>6</th>\n",
       "      <td>965e592c0</td>\n",
       "      <td>https://www.africanstorybook.org/#</td>\n",
       "      <td>CC BY 4.0</td>\n",
       "      <td>Milka and John are playing in the garden. Her ...</td>\n",
       "    </tr>\n",
       "  </tbody>\n",
       "</table>\n",
       "</div>"
      ],
      "text/plain": [
       "          id                                    url_legal       license  \\\n",
       "0  c0f722661                                          NaN           NaN   \n",
       "1  f0953f0a5                                          NaN           NaN   \n",
       "2  0df072751                                          NaN           NaN   \n",
       "3  04caf4e0c  https://en.wikipedia.org/wiki/Cell_division  CC BY-SA 3.0   \n",
       "4  0e63f8bea      https://en.wikipedia.org/wiki/Debugging  CC BY-SA 3.0   \n",
       "5  12537fe78                                          NaN           NaN   \n",
       "6  965e592c0           https://www.africanstorybook.org/#     CC BY 4.0   \n",
       "\n",
       "                                             excerpt  \n",
       "0  My hope lay in Jack's promise that he would ke...  \n",
       "1  Dotty continued to go to Mrs. Gray's every nig...  \n",
       "2  It was a bright and cheerful scene that greete...  \n",
       "3  Cell division is the process by which a parent...  \n",
       "4  Debugging is the process of finding and resolv...  \n",
       "5  To explain transitivity, let us look first at ...  \n",
       "6  Milka and John are playing in the garden. Her ...  "
      ]
     },
     "execution_count": 19,
     "metadata": {},
     "output_type": "execute_result"
    }
   ],
   "source": [
    "df_test"
   ]
  },
  {
   "cell_type": "code",
   "execution_count": 20,
   "id": "legitimate-phone",
   "metadata": {
    "execution": {
     "iopub.execute_input": "2021-06-22T14:02:09.748267Z",
     "iopub.status.busy": "2021-06-22T14:02:09.747584Z",
     "iopub.status.idle": "2021-06-22T14:02:09.750576Z",
     "shell.execute_reply": "2021-06-22T14:02:09.750933Z",
     "shell.execute_reply.started": "2021-06-22T12:17:16.122596Z"
    },
    "papermill": {
     "duration": 0.093197,
     "end_time": "2021-06-22T14:02:09.751062",
     "exception": false,
     "start_time": "2021-06-22T14:02:09.657865",
     "status": "completed"
    },
    "tags": []
   },
   "outputs": [
    {
     "data": {
      "text/plain": [
       "0            the\n",
       "1            and\n",
       "2             to\n",
       "3              a\n",
       "4             of\n",
       "         ...    \n",
       "621        hear.\n",
       "622         fees\n",
       "623       asking\n",
       "624    operation\n",
       "625        Katie\n",
       "Name: index, Length: 626, dtype: object"
      ]
     },
     "execution_count": 20,
     "metadata": {},
     "output_type": "execute_result"
    }
   ],
   "source": [
    "Word_Freq_Test['index']"
   ]
  },
  {
   "cell_type": "code",
   "execution_count": 21,
   "id": "extraordinary-handle",
   "metadata": {
    "execution": {
     "iopub.execute_input": "2021-06-22T14:02:09.939875Z",
     "iopub.status.busy": "2021-06-22T14:02:09.938448Z",
     "iopub.status.idle": "2021-06-22T14:02:09.940635Z",
     "shell.execute_reply": "2021-06-22T14:02:09.941123Z",
     "shell.execute_reply.started": "2021-06-22T12:17:16.134365Z"
    },
    "papermill": {
     "duration": 0.107674,
     "end_time": "2021-06-22T14:02:09.941269",
     "exception": false,
     "start_time": "2021-06-22T14:02:09.833595",
     "status": "completed"
    },
    "tags": []
   },
   "outputs": [],
   "source": [
    "common_Words=list(set(Word_Freq_Test['index']) & set(Word_Freq['index']))"
   ]
  },
  {
   "cell_type": "code",
   "execution_count": 22,
   "id": "ongoing-retreat",
   "metadata": {
    "execution": {
     "iopub.execute_input": "2021-06-22T14:02:10.110536Z",
     "iopub.status.busy": "2021-06-22T14:02:10.109843Z",
     "iopub.status.idle": "2021-06-22T14:02:10.113191Z",
     "shell.execute_reply": "2021-06-22T14:02:10.112798Z",
     "shell.execute_reply.started": "2021-06-22T12:17:16.163875Z"
    },
    "papermill": {
     "duration": 0.089742,
     "end_time": "2021-06-22T14:02:10.113313",
     "exception": false,
     "start_time": "2021-06-22T14:02:10.023571",
     "status": "completed"
    },
    "tags": []
   },
   "outputs": [
    {
     "data": {
      "text/plain": [
       "533"
      ]
     },
     "execution_count": 22,
     "metadata": {},
     "output_type": "execute_result"
    }
   ],
   "source": [
    "len(common_Words)"
   ]
  },
  {
   "cell_type": "markdown",
   "id": "miniature-kennedy",
   "metadata": {
    "papermill": {
     "duration": 0.082331,
     "end_time": "2021-06-22T14:02:10.280344",
     "exception": false,
     "start_time": "2021-06-22T14:02:10.198013",
     "status": "completed"
    },
    "tags": []
   },
   "source": [
    "### Top N-Grams and Visualization"
   ]
  },
  {
   "cell_type": "code",
   "execution_count": 23,
   "id": "furnished-cooper",
   "metadata": {
    "execution": {
     "iopub.execute_input": "2021-06-22T14:02:10.456812Z",
     "iopub.status.busy": "2021-06-22T14:02:10.456019Z",
     "iopub.status.idle": "2021-06-22T14:02:10.458120Z",
     "shell.execute_reply": "2021-06-22T14:02:10.458566Z",
     "shell.execute_reply.started": "2021-06-22T12:17:16.176685Z"
    },
    "papermill": {
     "duration": 0.095308,
     "end_time": "2021-06-22T14:02:10.458692",
     "exception": false,
     "start_time": "2021-06-22T14:02:10.363384",
     "status": "completed"
    },
    "tags": []
   },
   "outputs": [],
   "source": [
    "def get_top_n_words(corpus, n = None):\n",
    "    \"\"\"\n",
    "    A function that returns the top 'n' unigrams used in the corpus\n",
    "    \"\"\"\n",
    "    vec = CountVectorizer().fit(corpus)\n",
    "    bag_of_words = vec.transform(corpus) \n",
    "    sum_words = bag_of_words.sum(axis=0) \n",
    "    words_freq = [(word, sum_words[0, idx]) for word, idx in vec.vocabulary_.items()] \n",
    "    freq_sorted = sorted(words_freq, key = lambda x: x[1], reverse = True)\n",
    "    return freq_sorted[:n]\n",
    "\n",
    "def get_top_n_bigram(corpus, n = None):\n",
    "    \"\"\"\n",
    "    A function that returns the top 'n' bigrams used in the corpus\n",
    "    \"\"\"\n",
    "    vec = CountVectorizer(ngram_range = (2, 2)).fit(corpus)\n",
    "    bag_of_words = vec.transform(corpus)\n",
    "    sum_words = bag_of_words.sum(axis = 0) \n",
    "    words_freq = [(word, sum_words[0, idx]) for word, idx in vec.vocabulary_.items()]\n",
    "    freq_sorted = sorted(words_freq, key = lambda x: x[1], reverse=True)\n",
    "    return freq_sorted[:n]\n",
    "\n",
    "def get_top_n_trigram(corpus, n = None):\n",
    "    \"\"\"\n",
    "    A function that returns the top 'n' bigrams used in the corpus\n",
    "    \"\"\"\n",
    "    vec = CountVectorizer(ngram_range = (3, 3)).fit(corpus)\n",
    "    bag_of_words = vec.transform(corpus)\n",
    "    sum_words = bag_of_words.sum(axis = 0) \n",
    "    words_freq = [(word, sum_words[0, idx]) for word, idx in vec.vocabulary_.items()]\n",
    "    freq_sorted = sorted(words_freq, key = lambda x: x[1], reverse=True)\n",
    "    return freq_sorted[:n]"
   ]
  },
  {
   "cell_type": "code",
   "execution_count": 24,
   "id": "optional-district",
   "metadata": {
    "execution": {
     "iopub.execute_input": "2021-06-22T14:02:10.667853Z",
     "iopub.status.busy": "2021-06-22T14:02:10.657613Z",
     "iopub.status.idle": "2021-06-22T14:02:11.837297Z",
     "shell.execute_reply": "2021-06-22T14:02:11.836532Z",
     "shell.execute_reply.started": "2021-06-22T12:17:16.194462Z"
    },
    "papermill": {
     "duration": 1.295964,
     "end_time": "2021-06-22T14:02:11.837419",
     "exception": false,
     "start_time": "2021-06-22T14:02:10.541455",
     "status": "completed"
    },
    "tags": []
   },
   "outputs": [
    {
     "data": {
      "text/html": [
       "\n",
       "\n",
       "\n",
       "\n",
       "\n",
       "\n",
       "  <div class=\"bk-root\" id=\"00a5737f-206e-4029-bc72-3d2c2d69d71b\" data-root-id=\"1004\"></div>\n"
      ]
     },
     "metadata": {},
     "output_type": "display_data"
    },
    {
     "data": {
      "application/javascript": [
       "(function(root) {\n",
       "  function embed_document(root) {\n",
       "    \n",
       "  var docs_json = {\"bca0924d-3954-47fb-b227-6faa0902c51b\":{\"defs\":[],\"roots\":{\"references\":[{\"attributes\":{\"background_fill_color\":\"#20262B\",\"below\":[{\"id\":\"1015\"}],\"border_fill_color\":\"#15191C\",\"center\":[{\"id\":\"1017\"},{\"id\":\"1021\"}],\"height\":400,\"left\":[{\"id\":\"1018\"}],\"outline_line_alpha\":0.25,\"outline_line_color\":\"#E0E0E0\",\"renderers\":[{\"id\":\"1028\"}],\"title\":{\"id\":\"1005\"},\"toolbar\":{\"id\":\"1023\"},\"width\":800,\"x_range\":{\"id\":\"1007\"},\"x_scale\":{\"id\":\"1011\"},\"y_range\":{\"id\":\"1009\"},\"y_scale\":{\"id\":\"1013\"}},\"id\":\"1004\",\"subtype\":\"Figure\",\"type\":\"Plot\"},{\"attributes\":{\"fill_alpha\":{\"value\":0.1},\"fill_color\":{\"field\":\"color\"},\"line_alpha\":{\"value\":0.1},\"line_color\":{\"field\":\"color\"},\"top\":{\"field\":\"counts\"},\"width\":{\"value\":0.8},\"x\":{\"field\":\"Word\"}},\"id\":\"1027\",\"type\":\"VBar\"},{\"attributes\":{},\"id\":\"1016\",\"type\":\"CategoricalTicker\"},{\"attributes\":{},\"id\":\"1034\",\"type\":\"BasicTickFormatter\"},{\"attributes\":{\"axis_label_standoff\":10,\"axis_label_text_color\":\"#E0E0E0\",\"axis_label_text_font\":\"Helvetica\",\"axis_label_text_font_size\":\"1.25em\",\"axis_label_text_font_style\":\"normal\",\"axis_line_alpha\":0,\"axis_line_color\":\"#E0E0E0\",\"formatter\":{\"id\":\"1031\"},\"major_label_orientation\":\"vertical\",\"major_label_policy\":{\"id\":\"1033\"},\"major_label_text_color\":\"#E0E0E0\",\"major_label_text_font\":\"Helvetica\",\"major_label_text_font_size\":\"1.025em\",\"major_tick_line_alpha\":0,\"major_tick_line_color\":\"#E0E0E0\",\"minor_tick_line_alpha\":0,\"minor_tick_line_color\":\"#E0E0E0\",\"ticker\":{\"id\":\"1016\"}},\"id\":\"1015\",\"type\":\"CategoricalAxis\"},{\"attributes\":{\"data_source\":{\"id\":\"1003\"},\"glyph\":{\"id\":\"1026\"},\"hover_glyph\":null,\"muted_glyph\":null,\"nonselection_glyph\":{\"id\":\"1027\"},\"view\":{\"id\":\"1029\"}},\"id\":\"1028\",\"type\":\"GlyphRenderer\"},{\"attributes\":{\"data\":{\"Word\":[\"the\",\"and\",\"of\",\"to\",\"in\",\"was\",\"is\",\"that\",\"it\",\"he\",\"as\",\"for\",\"with\",\"his\",\"on\",\"they\",\"had\",\"are\",\"at\",\"be\"],\"color\":[\"#6baed6\",\"#6baed6\",\"#6baed6\",\"#6baed6\",\"#6baed6\",\"#6baed6\",\"#6baed6\",\"#6baed6\",\"#6baed6\",\"#6baed6\",\"#6baed6\",\"#6baed6\",\"#6baed6\",\"#6baed6\",\"#6baed6\",\"#6baed6\",\"#6baed6\",\"#6baed6\",\"#6baed6\",\"#6baed6\"],\"counts\":[33881,16942,15314,12861,9129,5785,5345,5328,5179,4753,3855,3821,3568,3408,3077,3002,2802,2721,2585,2483]},\"selected\":{\"id\":\"1037\"},\"selection_policy\":{\"id\":\"1038\"}},\"id\":\"1003\",\"type\":\"ColumnDataSource\"},{\"attributes\":{},\"id\":\"1031\",\"type\":\"CategoricalTickFormatter\"},{\"attributes\":{},\"id\":\"1037\",\"type\":\"Selection\"},{\"attributes\":{\"callback\":null,\"tooltips\":\"@Word: @counts\"},\"id\":\"1022\",\"type\":\"HoverTool\"},{\"attributes\":{\"factors\":[\"the\",\"and\",\"of\",\"to\",\"in\",\"was\",\"is\",\"that\",\"it\",\"he\",\"as\",\"for\",\"with\",\"his\",\"on\",\"they\",\"had\",\"are\",\"at\",\"be\"]},\"id\":\"1007\",\"type\":\"FactorRange\"},{\"attributes\":{},\"id\":\"1036\",\"type\":\"AllLabels\"},{\"attributes\":{},\"id\":\"1038\",\"type\":\"UnionRenderers\"},{\"attributes\":{},\"id\":\"1033\",\"type\":\"AllLabels\"},{\"attributes\":{\"active_multi\":null,\"tools\":[{\"id\":\"1022\"}]},\"id\":\"1023\",\"type\":\"Toolbar\"},{\"attributes\":{\"axis_label_standoff\":10,\"axis_label_text_color\":\"#E0E0E0\",\"axis_label_text_font\":\"Helvetica\",\"axis_label_text_font_size\":\"1.25em\",\"axis_label_text_font_style\":\"normal\",\"axis_line_alpha\":0,\"axis_line_color\":\"#E0E0E0\",\"formatter\":{\"id\":\"1034\"},\"major_label_policy\":{\"id\":\"1036\"},\"major_label_text_color\":\"#E0E0E0\",\"major_label_text_font\":\"Helvetica\",\"major_label_text_font_size\":\"1.025em\",\"major_tick_line_alpha\":0,\"major_tick_line_color\":\"#E0E0E0\",\"minor_tick_line_alpha\":0,\"minor_tick_line_color\":\"#E0E0E0\",\"ticker\":{\"id\":\"1019\"}},\"id\":\"1018\",\"type\":\"LinearAxis\"},{\"attributes\":{},\"id\":\"1013\",\"type\":\"LinearScale\"},{\"attributes\":{\"fill_color\":{\"field\":\"color\"},\"line_color\":{\"field\":\"color\"},\"top\":{\"field\":\"counts\"},\"width\":{\"value\":0.8},\"x\":{\"field\":\"Word\"}},\"id\":\"1026\",\"type\":\"VBar\"},{\"attributes\":{\"start\":0},\"id\":\"1009\",\"type\":\"DataRange1d\"},{\"attributes\":{\"source\":{\"id\":\"1003\"}},\"id\":\"1029\",\"type\":\"CDSView\"},{\"attributes\":{\"axis\":{\"id\":\"1015\"},\"grid_line_alpha\":0.25,\"grid_line_color\":null,\"ticker\":null},\"id\":\"1017\",\"type\":\"Grid\"},{\"attributes\":{},\"id\":\"1011\",\"type\":\"CategoricalScale\"},{\"attributes\":{\"align\":\"center\",\"text\":\"Top Unigrams\",\"text_color\":\"#E0E0E0\",\"text_font\":\"Helvetica\",\"text_font_size\":\"1.15em\"},\"id\":\"1005\",\"type\":\"Title\"},{\"attributes\":{},\"id\":\"1019\",\"type\":\"BasicTicker\"},{\"attributes\":{\"axis\":{\"id\":\"1018\"},\"dimension\":1,\"grid_line_alpha\":0.25,\"grid_line_color\":\"#E0E0E0\",\"ticker\":null},\"id\":\"1021\",\"type\":\"Grid\"}],\"root_ids\":[\"1004\"]},\"title\":\"Bokeh Application\",\"version\":\"2.3.1\"}};\n",
       "  var render_items = [{\"docid\":\"bca0924d-3954-47fb-b227-6faa0902c51b\",\"root_ids\":[\"1004\"],\"roots\":{\"1004\":\"00a5737f-206e-4029-bc72-3d2c2d69d71b\"}}];\n",
       "  root.Bokeh.embed.embed_items_notebook(docs_json, render_items);\n",
       "\n",
       "  }\n",
       "  if (root.Bokeh !== undefined) {\n",
       "    embed_document(root);\n",
       "  } else {\n",
       "    var attempts = 0;\n",
       "    var timer = setInterval(function(root) {\n",
       "      if (root.Bokeh !== undefined) {\n",
       "        clearInterval(timer);\n",
       "        embed_document(root);\n",
       "      } else {\n",
       "        attempts++;\n",
       "        if (attempts > 100) {\n",
       "          clearInterval(timer);\n",
       "          console.log(\"Bokeh: ERROR: Unable to run BokehJS code because BokehJS library is missing\");\n",
       "        }\n",
       "      }\n",
       "    }, 10, root)\n",
       "  }\n",
       "})(window);"
      ],
      "application/vnd.bokehjs_exec.v0+json": ""
     },
     "metadata": {
      "application/vnd.bokehjs_exec.v0+json": {
       "id": "1004"
      }
     },
     "output_type": "display_data"
    }
   ],
   "source": [
    "top_unigram = get_top_n_words(df_train['excerpt'], 20)\n",
    "words = [i[0] for i in top_unigram]\n",
    "count = [i[1] for i in top_unigram]\n",
    "source = ColumnDataSource(data = dict(Word = words, counts = count, color = ['#6baed6'] * 20))\n",
    "\n",
    "p = figure(x_range = words, plot_height = 400, plot_width = 800, title = \"Top Unigrams\", tools = \"hover\", tooltips = \"@Word: @counts\")\n",
    "p.vbar(x = 'Word', top = 'counts', width = 0.8, source = source, color = 'color')\n",
    "curdoc().theme = 'dark_minimal'\n",
    "p.xgrid.grid_line_color = None\n",
    "p.y_range.start = 0\n",
    "p.title.align = 'center'\n",
    "p.xaxis.major_label_orientation = \"vertical\"\n",
    "show(p)"
   ]
  },
  {
   "cell_type": "code",
   "execution_count": 25,
   "id": "present-winning",
   "metadata": {
    "execution": {
     "iopub.execute_input": "2021-06-22T14:02:12.060528Z",
     "iopub.status.busy": "2021-06-22T14:02:12.034781Z",
     "iopub.status.idle": "2021-06-22T14:02:14.382992Z",
     "shell.execute_reply": "2021-06-22T14:02:14.383372Z",
     "shell.execute_reply.started": "2021-06-22T12:17:17.239763Z"
    },
    "papermill": {
     "duration": 2.460866,
     "end_time": "2021-06-22T14:02:14.383529",
     "exception": false,
     "start_time": "2021-06-22T14:02:11.922663",
     "status": "completed"
    },
    "tags": []
   },
   "outputs": [
    {
     "data": {
      "text/html": [
       "\n",
       "\n",
       "\n",
       "\n",
       "\n",
       "\n",
       "  <div class=\"bk-root\" id=\"818da98f-1391-484e-8b51-6ba0bac69145\" data-root-id=\"1085\"></div>\n"
      ]
     },
     "metadata": {},
     "output_type": "display_data"
    },
    {
     "data": {
      "application/javascript": [
       "(function(root) {\n",
       "  function embed_document(root) {\n",
       "    \n",
       "  var docs_json = {\"d45ae4b5-2f7f-4e1e-af70-aeff03cff973\":{\"defs\":[],\"roots\":{\"references\":[{\"attributes\":{\"background_fill_color\":\"#20262B\",\"below\":[{\"id\":\"1096\"}],\"border_fill_color\":\"#15191C\",\"center\":[{\"id\":\"1098\"},{\"id\":\"1102\"}],\"height\":400,\"left\":[{\"id\":\"1099\"}],\"outline_line_alpha\":0.25,\"outline_line_color\":\"#E0E0E0\",\"renderers\":[{\"id\":\"1109\"}],\"title\":{\"id\":\"1086\"},\"toolbar\":{\"id\":\"1104\"},\"width\":800,\"x_range\":{\"id\":\"1088\"},\"x_scale\":{\"id\":\"1092\"},\"y_range\":{\"id\":\"1090\"},\"y_scale\":{\"id\":\"1094\"}},\"id\":\"1085\",\"subtype\":\"Figure\",\"type\":\"Plot\"},{\"attributes\":{},\"id\":\"1094\",\"type\":\"LinearScale\"},{\"attributes\":{\"align\":\"center\",\"text\":\"Top Bigrams\",\"text_color\":\"#E0E0E0\",\"text_font\":\"Helvetica\",\"text_font_size\":\"1.15em\"},\"id\":\"1086\",\"type\":\"Title\"},{\"attributes\":{},\"id\":\"1127\",\"type\":\"Selection\"},{\"attributes\":{\"axis\":{\"id\":\"1099\"},\"dimension\":1,\"grid_line_alpha\":0.25,\"grid_line_color\":\"#E0E0E0\",\"ticker\":null},\"id\":\"1102\",\"type\":\"Grid\"},{\"attributes\":{\"axis\":{\"id\":\"1096\"},\"grid_line_alpha\":0.25,\"grid_line_color\":null,\"ticker\":null},\"id\":\"1098\",\"type\":\"Grid\"},{\"attributes\":{\"data\":{\"Word\":[\"of the\",\"in the\",\"to the\",\"and the\",\"on the\",\"it was\",\"it is\",\"at the\",\"to be\",\"from the\",\"for the\",\"he was\",\"by the\",\"that the\",\"with the\",\"he had\",\"into the\",\"all the\",\"is the\",\"as the\"],\"color\":[\"#a1dab4\",\"#a1dab4\",\"#a1dab4\",\"#a1dab4\",\"#a1dab4\",\"#a1dab4\",\"#a1dab4\",\"#a1dab4\",\"#a1dab4\",\"#a1dab4\",\"#a1dab4\",\"#a1dab4\",\"#a1dab4\",\"#a1dab4\",\"#a1dab4\",\"#a1dab4\",\"#a1dab4\",\"#a1dab4\",\"#a1dab4\",\"#a1dab4\"],\"counts\":[4115,2801,1740,1281,1134,909,843,784,784,765,692,631,593,578,537,452,442,434,429,391]},\"selected\":{\"id\":\"1127\"},\"selection_policy\":{\"id\":\"1128\"}},\"id\":\"1084\",\"type\":\"ColumnDataSource\"},{\"attributes\":{\"data_source\":{\"id\":\"1084\"},\"glyph\":{\"id\":\"1107\"},\"hover_glyph\":null,\"muted_glyph\":null,\"nonselection_glyph\":{\"id\":\"1108\"},\"view\":{\"id\":\"1110\"}},\"id\":\"1109\",\"type\":\"GlyphRenderer\"},{\"attributes\":{\"source\":{\"id\":\"1084\"}},\"id\":\"1110\",\"type\":\"CDSView\"},{\"attributes\":{},\"id\":\"1121\",\"type\":\"CategoricalTickFormatter\"},{\"attributes\":{},\"id\":\"1097\",\"type\":\"CategoricalTicker\"},{\"attributes\":{},\"id\":\"1124\",\"type\":\"BasicTickFormatter\"},{\"attributes\":{},\"id\":\"1128\",\"type\":\"UnionRenderers\"},{\"attributes\":{\"fill_color\":{\"field\":\"color\"},\"line_color\":{\"field\":\"color\"},\"top\":{\"field\":\"counts\"},\"width\":{\"value\":0.8},\"x\":{\"field\":\"Word\"}},\"id\":\"1107\",\"type\":\"VBar\"},{\"attributes\":{\"axis_label_standoff\":10,\"axis_label_text_color\":\"#E0E0E0\",\"axis_label_text_font\":\"Helvetica\",\"axis_label_text_font_size\":\"1.25em\",\"axis_label_text_font_style\":\"normal\",\"axis_line_alpha\":0,\"axis_line_color\":\"#E0E0E0\",\"formatter\":{\"id\":\"1121\"},\"major_label_orientation\":\"vertical\",\"major_label_policy\":{\"id\":\"1123\"},\"major_label_text_color\":\"#E0E0E0\",\"major_label_text_font\":\"Helvetica\",\"major_label_text_font_size\":\"1.025em\",\"major_tick_line_alpha\":0,\"major_tick_line_color\":\"#E0E0E0\",\"minor_tick_line_alpha\":0,\"minor_tick_line_color\":\"#E0E0E0\",\"ticker\":{\"id\":\"1097\"}},\"id\":\"1096\",\"type\":\"CategoricalAxis\"},{\"attributes\":{\"factors\":[\"of the\",\"in the\",\"to the\",\"and the\",\"on the\",\"it was\",\"it is\",\"at the\",\"to be\",\"from the\",\"for the\",\"he was\",\"by the\",\"that the\",\"with the\",\"he had\",\"into the\",\"all the\",\"is the\",\"as the\"]},\"id\":\"1088\",\"type\":\"FactorRange\"},{\"attributes\":{},\"id\":\"1100\",\"type\":\"BasicTicker\"},{\"attributes\":{},\"id\":\"1092\",\"type\":\"CategoricalScale\"},{\"attributes\":{\"axis_label_standoff\":10,\"axis_label_text_color\":\"#E0E0E0\",\"axis_label_text_font\":\"Helvetica\",\"axis_label_text_font_size\":\"1.25em\",\"axis_label_text_font_style\":\"normal\",\"axis_line_alpha\":0,\"axis_line_color\":\"#E0E0E0\",\"formatter\":{\"id\":\"1124\"},\"major_label_policy\":{\"id\":\"1126\"},\"major_label_text_color\":\"#E0E0E0\",\"major_label_text_font\":\"Helvetica\",\"major_label_text_font_size\":\"1.025em\",\"major_tick_line_alpha\":0,\"major_tick_line_color\":\"#E0E0E0\",\"minor_tick_line_alpha\":0,\"minor_tick_line_color\":\"#E0E0E0\",\"ticker\":{\"id\":\"1100\"}},\"id\":\"1099\",\"type\":\"LinearAxis\"},{\"attributes\":{\"callback\":null,\"tooltips\":\"@Word: @counts\"},\"id\":\"1103\",\"type\":\"HoverTool\"},{\"attributes\":{},\"id\":\"1126\",\"type\":\"AllLabels\"},{\"attributes\":{},\"id\":\"1123\",\"type\":\"AllLabels\"},{\"attributes\":{\"active_multi\":null,\"tools\":[{\"id\":\"1103\"}]},\"id\":\"1104\",\"type\":\"Toolbar\"},{\"attributes\":{\"fill_alpha\":{\"value\":0.1},\"fill_color\":{\"field\":\"color\"},\"line_alpha\":{\"value\":0.1},\"line_color\":{\"field\":\"color\"},\"top\":{\"field\":\"counts\"},\"width\":{\"value\":0.8},\"x\":{\"field\":\"Word\"}},\"id\":\"1108\",\"type\":\"VBar\"},{\"attributes\":{\"start\":0},\"id\":\"1090\",\"type\":\"DataRange1d\"}],\"root_ids\":[\"1085\"]},\"title\":\"Bokeh Application\",\"version\":\"2.3.1\"}};\n",
       "  var render_items = [{\"docid\":\"d45ae4b5-2f7f-4e1e-af70-aeff03cff973\",\"root_ids\":[\"1085\"],\"roots\":{\"1085\":\"818da98f-1391-484e-8b51-6ba0bac69145\"}}];\n",
       "  root.Bokeh.embed.embed_items_notebook(docs_json, render_items);\n",
       "\n",
       "  }\n",
       "  if (root.Bokeh !== undefined) {\n",
       "    embed_document(root);\n",
       "  } else {\n",
       "    var attempts = 0;\n",
       "    var timer = setInterval(function(root) {\n",
       "      if (root.Bokeh !== undefined) {\n",
       "        clearInterval(timer);\n",
       "        embed_document(root);\n",
       "      } else {\n",
       "        attempts++;\n",
       "        if (attempts > 100) {\n",
       "          clearInterval(timer);\n",
       "          console.log(\"Bokeh: ERROR: Unable to run BokehJS code because BokehJS library is missing\");\n",
       "        }\n",
       "      }\n",
       "    }, 10, root)\n",
       "  }\n",
       "})(window);"
      ],
      "application/vnd.bokehjs_exec.v0+json": ""
     },
     "metadata": {
      "application/vnd.bokehjs_exec.v0+json": {
       "id": "1085"
      }
     },
     "output_type": "display_data"
    }
   ],
   "source": [
    "top_bigram = get_top_n_bigram(df_train['excerpt'], 20)\n",
    "words = [i[0] for i in top_bigram]\n",
    "count = [i[1] for i in top_bigram]\n",
    "source = ColumnDataSource(data = dict(Word = words, counts = count, color = ['#a1dab4'] * 20))\n",
    "\n",
    "p1 = figure(x_range = words, plot_height = 400, plot_width = 800, title = \"Top Bigrams\", tools = \"hover\", tooltips = \"@Word: @counts\")\n",
    "p1.vbar(x = 'Word', top = 'counts', width = 0.8, source = source, color = 'color')\n",
    "# curdoc().theme = 'dark_minimal'\n",
    "p1.xgrid.grid_line_color = None\n",
    "p1.title.align = 'center'\n",
    "p1.y_range.start = 0\n",
    "p1.xaxis.major_label_orientation = \"vertical\"\n",
    "show(p1)"
   ]
  },
  {
   "cell_type": "code",
   "execution_count": 26,
   "id": "popular-associate",
   "metadata": {
    "execution": {
     "iopub.execute_input": "2021-06-22T14:02:14.605526Z",
     "iopub.status.busy": "2021-06-22T14:02:14.595250Z",
     "iopub.status.idle": "2021-06-22T14:02:17.971220Z",
     "shell.execute_reply": "2021-06-22T14:02:17.971662Z",
     "shell.execute_reply.started": "2021-06-22T12:17:19.702562Z"
    },
    "papermill": {
     "duration": 3.502165,
     "end_time": "2021-06-22T14:02:17.971804",
     "exception": false,
     "start_time": "2021-06-22T14:02:14.469639",
     "status": "completed"
    },
    "tags": []
   },
   "outputs": [
    {
     "data": {
      "text/html": [
       "\n",
       "\n",
       "\n",
       "\n",
       "\n",
       "\n",
       "  <div class=\"bk-root\" id=\"856c0ad4-9ec6-46f8-af8e-ca53e0022dfc\" data-root-id=\"1175\"></div>\n"
      ]
     },
     "metadata": {},
     "output_type": "display_data"
    },
    {
     "data": {
      "application/javascript": [
       "(function(root) {\n",
       "  function embed_document(root) {\n",
       "    \n",
       "  var docs_json = {\"cf15db93-a3ec-4762-b1fd-3ec86f9c776e\":{\"defs\":[],\"roots\":{\"references\":[{\"attributes\":{\"background_fill_color\":\"#20262B\",\"below\":[{\"id\":\"1186\"}],\"border_fill_color\":\"#15191C\",\"center\":[{\"id\":\"1188\"},{\"id\":\"1192\"}],\"height\":400,\"left\":[{\"id\":\"1189\"}],\"outline_line_alpha\":0.25,\"outline_line_color\":\"#E0E0E0\",\"renderers\":[{\"id\":\"1199\"}],\"title\":{\"id\":\"1176\"},\"toolbar\":{\"id\":\"1194\"},\"width\":800,\"x_range\":{\"id\":\"1178\"},\"x_scale\":{\"id\":\"1182\"},\"y_range\":{\"id\":\"1180\"},\"y_scale\":{\"id\":\"1184\"}},\"id\":\"1175\",\"subtype\":\"Figure\",\"type\":\"Plot\"},{\"attributes\":{\"source\":{\"id\":\"1174\"}},\"id\":\"1200\",\"type\":\"CDSView\"},{\"attributes\":{},\"id\":\"1184\",\"type\":\"LinearScale\"},{\"attributes\":{},\"id\":\"1223\",\"type\":\"BasicTickFormatter\"},{\"attributes\":{\"callback\":null,\"tooltips\":\"@Word: @counts\"},\"id\":\"1193\",\"type\":\"HoverTool\"},{\"attributes\":{\"factors\":[\"one of the\",\"out of the\",\"part of the\",\"the united states\",\"as well as\",\"he did not\",\"as soon as\",\"at the same\",\"and in the\",\"some of the\",\"the end of\",\"that he was\",\"side of the\",\"in the world\",\"the same time\",\"end of the\",\"it is the\",\"that it was\",\"in front of\",\"be able to\"]},\"id\":\"1178\",\"type\":\"FactorRange\"},{\"attributes\":{},\"id\":\"1227\",\"type\":\"UnionRenderers\"},{\"attributes\":{},\"id\":\"1182\",\"type\":\"CategoricalScale\"},{\"attributes\":{\"fill_alpha\":{\"value\":0.1},\"fill_color\":{\"field\":\"color\"},\"line_alpha\":{\"value\":0.1},\"line_color\":{\"field\":\"color\"},\"top\":{\"field\":\"counts\"},\"width\":{\"value\":0.8},\"x\":{\"field\":\"Word\"}},\"id\":\"1198\",\"type\":\"VBar\"},{\"attributes\":{\"axis\":{\"id\":\"1186\"},\"grid_line_alpha\":0.25,\"grid_line_color\":null,\"ticker\":null},\"id\":\"1188\",\"type\":\"Grid\"},{\"attributes\":{\"data_source\":{\"id\":\"1174\"},\"glyph\":{\"id\":\"1197\"},\"hover_glyph\":null,\"muted_glyph\":null,\"nonselection_glyph\":{\"id\":\"1198\"},\"view\":{\"id\":\"1200\"}},\"id\":\"1199\",\"type\":\"GlyphRenderer\"},{\"attributes\":{\"fill_color\":{\"field\":\"color\"},\"line_color\":{\"field\":\"color\"},\"top\":{\"field\":\"counts\"},\"width\":{\"value\":0.8},\"x\":{\"field\":\"Word\"}},\"id\":\"1197\",\"type\":\"VBar\"},{\"attributes\":{},\"id\":\"1187\",\"type\":\"CategoricalTicker\"},{\"attributes\":{},\"id\":\"1225\",\"type\":\"AllLabels\"},{\"attributes\":{\"data\":{\"Word\":[\"one of the\",\"out of the\",\"part of the\",\"the united states\",\"as well as\",\"he did not\",\"as soon as\",\"at the same\",\"and in the\",\"some of the\",\"the end of\",\"that he was\",\"side of the\",\"in the world\",\"the same time\",\"end of the\",\"it is the\",\"that it was\",\"in front of\",\"be able to\"],\"color\":[\"#a1dab4\",\"#a1dab4\",\"#a1dab4\",\"#a1dab4\",\"#a1dab4\",\"#a1dab4\",\"#a1dab4\",\"#a1dab4\",\"#a1dab4\",\"#a1dab4\",\"#a1dab4\",\"#a1dab4\",\"#a1dab4\",\"#a1dab4\",\"#a1dab4\",\"#a1dab4\",\"#a1dab4\",\"#a1dab4\",\"#a1dab4\",\"#a1dab4\"],\"counts\":[207,143,117,91,87,82,71,71,67,64,63,61,60,59,58,56,56,55,54,54]},\"selected\":{\"id\":\"1226\"},\"selection_policy\":{\"id\":\"1227\"}},\"id\":\"1174\",\"type\":\"ColumnDataSource\"},{\"attributes\":{\"axis\":{\"id\":\"1189\"},\"dimension\":1,\"grid_line_alpha\":0.25,\"grid_line_color\":\"#E0E0E0\",\"ticker\":null},\"id\":\"1192\",\"type\":\"Grid\"},{\"attributes\":{\"active_multi\":null,\"tools\":[{\"id\":\"1193\"}]},\"id\":\"1194\",\"type\":\"Toolbar\"},{\"attributes\":{},\"id\":\"1220\",\"type\":\"CategoricalTickFormatter\"},{\"attributes\":{},\"id\":\"1190\",\"type\":\"BasicTicker\"},{\"attributes\":{\"start\":0},\"id\":\"1180\",\"type\":\"DataRange1d\"},{\"attributes\":{\"axis_label_standoff\":10,\"axis_label_text_color\":\"#E0E0E0\",\"axis_label_text_font\":\"Helvetica\",\"axis_label_text_font_size\":\"1.25em\",\"axis_label_text_font_style\":\"normal\",\"axis_line_alpha\":0,\"axis_line_color\":\"#E0E0E0\",\"formatter\":{\"id\":\"1220\"},\"major_label_orientation\":\"vertical\",\"major_label_policy\":{\"id\":\"1222\"},\"major_label_text_color\":\"#E0E0E0\",\"major_label_text_font\":\"Helvetica\",\"major_label_text_font_size\":\"1.025em\",\"major_tick_line_alpha\":0,\"major_tick_line_color\":\"#E0E0E0\",\"minor_tick_line_alpha\":0,\"minor_tick_line_color\":\"#E0E0E0\",\"ticker\":{\"id\":\"1187\"}},\"id\":\"1186\",\"type\":\"CategoricalAxis\"},{\"attributes\":{\"align\":\"center\",\"text\":\"Top Bigrams\",\"text_color\":\"#E0E0E0\",\"text_font\":\"Helvetica\",\"text_font_size\":\"1.15em\"},\"id\":\"1176\",\"type\":\"Title\"},{\"attributes\":{},\"id\":\"1222\",\"type\":\"AllLabels\"},{\"attributes\":{\"axis_label_standoff\":10,\"axis_label_text_color\":\"#E0E0E0\",\"axis_label_text_font\":\"Helvetica\",\"axis_label_text_font_size\":\"1.25em\",\"axis_label_text_font_style\":\"normal\",\"axis_line_alpha\":0,\"axis_line_color\":\"#E0E0E0\",\"formatter\":{\"id\":\"1223\"},\"major_label_policy\":{\"id\":\"1225\"},\"major_label_text_color\":\"#E0E0E0\",\"major_label_text_font\":\"Helvetica\",\"major_label_text_font_size\":\"1.025em\",\"major_tick_line_alpha\":0,\"major_tick_line_color\":\"#E0E0E0\",\"minor_tick_line_alpha\":0,\"minor_tick_line_color\":\"#E0E0E0\",\"ticker\":{\"id\":\"1190\"}},\"id\":\"1189\",\"type\":\"LinearAxis\"},{\"attributes\":{},\"id\":\"1226\",\"type\":\"Selection\"}],\"root_ids\":[\"1175\"]},\"title\":\"Bokeh Application\",\"version\":\"2.3.1\"}};\n",
       "  var render_items = [{\"docid\":\"cf15db93-a3ec-4762-b1fd-3ec86f9c776e\",\"root_ids\":[\"1175\"],\"roots\":{\"1175\":\"856c0ad4-9ec6-46f8-af8e-ca53e0022dfc\"}}];\n",
       "  root.Bokeh.embed.embed_items_notebook(docs_json, render_items);\n",
       "\n",
       "  }\n",
       "  if (root.Bokeh !== undefined) {\n",
       "    embed_document(root);\n",
       "  } else {\n",
       "    var attempts = 0;\n",
       "    var timer = setInterval(function(root) {\n",
       "      if (root.Bokeh !== undefined) {\n",
       "        clearInterval(timer);\n",
       "        embed_document(root);\n",
       "      } else {\n",
       "        attempts++;\n",
       "        if (attempts > 100) {\n",
       "          clearInterval(timer);\n",
       "          console.log(\"Bokeh: ERROR: Unable to run BokehJS code because BokehJS library is missing\");\n",
       "        }\n",
       "      }\n",
       "    }, 10, root)\n",
       "  }\n",
       "})(window);"
      ],
      "application/vnd.bokehjs_exec.v0+json": ""
     },
     "metadata": {
      "application/vnd.bokehjs_exec.v0+json": {
       "id": "1175"
      }
     },
     "output_type": "display_data"
    }
   ],
   "source": [
    "top_bigram = get_top_n_trigram(df_train['excerpt'], 20)\n",
    "words = [i[0] for i in top_bigram]\n",
    "count = [i[1] for i in top_bigram]\n",
    "source = ColumnDataSource(data = dict(Word = words, counts = count, color = ['#a1dab4'] * 20))\n",
    "\n",
    "p1 = figure(x_range = words, plot_height = 400, plot_width = 800, title = \"Top Bigrams\", tools = \"hover\", tooltips = \"@Word: @counts\")\n",
    "p1.vbar(x = 'Word', top = 'counts', width = 0.8, source = source, color = 'color')\n",
    "# curdoc().theme = 'dark_minimal'\n",
    "p1.xgrid.grid_line_color = None\n",
    "p1.title.align = 'center'\n",
    "p1.y_range.start = 0\n",
    "p1.xaxis.major_label_orientation = \"vertical\"\n",
    "show(p1)"
   ]
  },
  {
   "cell_type": "markdown",
   "id": "cross-degree",
   "metadata": {
    "papermill": {
     "duration": 0.086305,
     "end_time": "2021-06-22T14:02:18.143761",
     "exception": false,
     "start_time": "2021-06-22T14:02:18.057456",
     "status": "completed"
    },
    "tags": []
   },
   "source": [
    "We can see from the plots we have so many unwanted tokens. We need to remove them and clean the data"
   ]
  },
  {
   "cell_type": "markdown",
   "id": "physical-choir",
   "metadata": {
    "papermill": {
     "duration": 0.085165,
     "end_time": "2021-06-22T14:02:18.314692",
     "exception": false,
     "start_time": "2021-06-22T14:02:18.229527",
     "status": "completed"
    },
    "tags": []
   },
   "source": [
    "## Data Preprocessing\n",
    "\n",
    "Data preprocessing is the process of converting raw data into a well-readable format to be used by a machine learning model.\n",
    "\n",
    "### Data Cleaning\n",
    "Here We will be doing list of things:\n",
    "* Stop Word Removal: While doing Vectorization, we assign some number or we transform it into a vector, extremely common words like ‘the’, ‘and’, etc. will become very important features while they add little meaning to the text. Your model can often be improved if you don’t take those words into account. Stop words are just a list of words you don’t want to use as features. \n",
    "* Punctuation Removal\n",
    "* URL/ Links Removal\n",
    "* Removal of Numbers \n",
    "* Non- Ascii Characters removal\n",
    "* Lemmatization"
   ]
  },
  {
   "cell_type": "code",
   "execution_count": 27,
   "id": "amber-geometry",
   "metadata": {
    "execution": {
     "iopub.execute_input": "2021-06-22T14:02:18.520556Z",
     "iopub.status.busy": "2021-06-22T14:02:18.519917Z",
     "iopub.status.idle": "2021-06-22T14:02:18.571840Z",
     "shell.execute_reply": "2021-06-22T14:02:18.571254Z",
     "shell.execute_reply.started": "2021-06-22T12:17:23.426546Z"
    },
    "papermill": {
     "duration": 0.164236,
     "end_time": "2021-06-22T14:02:18.572017",
     "exception": false,
     "start_time": "2021-06-22T14:02:18.407781",
     "status": "completed"
    },
    "tags": []
   },
   "outputs": [
    {
     "name": "stdout",
     "output_type": "stream",
     "text": [
      "\u001b[1mText before removeStopwords function: \u001b[0mThen the man took off his hat and walked away, and Philip and his sister went home. She seemed different, somehow, and he was sent to bed a little earlier than usual, but he could not go to sleep for a long time, because he heard the front-door bell ring and afterwards a man's voice and Helen's going on and on in the little drawing-room under the room which was his bedroom. He went to sleep at last, and when he woke up in the morning it was raining, and the sky was grey and miserable. He lost his collar-stud, he tore one of his stockings as he pulled it on, he pinched his finger in the door, and he dropped his tooth-mug, with water in it too, and the mug was broken and the water went into his boots. There are mornings, you know, when things happen like that. This was one of them.\n",
      "\u001b[1mText after removeStopwords function: \u001b[0m  man took hat walked away , Philip sister went home . different , , sent bed little earlier usual , sleep long time , heard - door bell ring man voice Helen going little drawing - room room bedroom . went sleep , woke morning raining , sky grey miserable . lost collar - stud , tore stockings pulled , pinched finger door , dropped tooth - mug , water , mug broken water went boots . mornings , know , things happen like . .\n"
     ]
    }
   ],
   "source": [
    "def removeStopwords(text):\n",
    "    doc = nlp(text)\n",
    "    clean_text = ' '\n",
    "    for txt in doc:\n",
    "        if (txt.is_stop == False):\n",
    "            clean_text = clean_text + \" \" + str(txt)        \n",
    "    \n",
    "    return clean_text\n",
    "\n",
    "print(\"\\033[1mText before removeStopwords function: \\033[0m\" + df_train['excerpt'][20])\n",
    "print(\"\\033[1mText after removeStopwords function: \\033[0m\" + removeStopwords(df_train['excerpt'][20]))"
   ]
  },
  {
   "cell_type": "code",
   "execution_count": 28,
   "id": "federal-syndicate",
   "metadata": {
    "execution": {
     "iopub.execute_input": "2021-06-22T14:02:18.768950Z",
     "iopub.status.busy": "2021-06-22T14:02:18.768323Z",
     "iopub.status.idle": "2021-06-22T14:02:18.771974Z",
     "shell.execute_reply": "2021-06-22T14:02:18.771556Z",
     "shell.execute_reply.started": "2021-06-22T12:17:23.487625Z"
    },
    "papermill": {
     "duration": 0.097439,
     "end_time": "2021-06-22T14:02:18.772086",
     "exception": false,
     "start_time": "2021-06-22T14:02:18.674647",
     "status": "completed"
    },
    "tags": []
   },
   "outputs": [
    {
     "name": "stdout",
     "output_type": "stream",
     "text": [
      "\u001b[1mText before removePunctuations function: \u001b[0mThen the man took off his hat and walked away, and Philip and his sister went home. She seemed different, somehow, and he was sent to bed a little earlier than usual, but he could not go to sleep for a long time, because he heard the front-door bell ring and afterwards a man's voice and Helen's going on and on in the little drawing-room under the room which was his bedroom. He went to sleep at last, and when he woke up in the morning it was raining, and the sky was grey and miserable. He lost his collar-stud, he tore one of his stockings as he pulled it on, he pinched his finger in the door, and he dropped his tooth-mug, with water in it too, and the mug was broken and the water went into his boots. There are mornings, you know, when things happen like that. This was one of them.\n",
      "\n",
      "\n",
      "\u001b[1mText after removePunctuations function: \u001b[0mThen the man took off his hat and walked away and Philip and his sister went home She seemed different somehow and he was sent to bed a little earlier than usual but he could not go to sleep for a long time because he heard the frontdoor bell ring and afterwards a mans voice and Helens going on and on in the little drawingroom under the room which was his bedroom He went to sleep at last and when he woke up in the morning it was raining and the sky was grey and miserable He lost his collarstud he tore one of his stockings as he pulled it on he pinched his finger in the door and he dropped his toothmug with water in it too and the mug was broken and the water went into his boots There are mornings you know when things happen like that This was one of them\n"
     ]
    }
   ],
   "source": [
    "def removePunctuations(text):\n",
    "    return text.translate(str.maketrans('', '', string.punctuation))\n",
    "\n",
    "print(\"\\033[1mText before removePunctuations function: \\033[0m\" + df_train['excerpt'][20])\n",
    "print(\"\\n\")\n",
    "print(\"\\033[1mText after removePunctuations function: \\033[0m\" + removePunctuations(df_train['excerpt'][20]))"
   ]
  },
  {
   "cell_type": "code",
   "execution_count": 29,
   "id": "whole-console",
   "metadata": {
    "execution": {
     "iopub.execute_input": "2021-06-22T14:02:18.955111Z",
     "iopub.status.busy": "2021-06-22T14:02:18.954571Z",
     "iopub.status.idle": "2021-06-22T14:02:18.958472Z",
     "shell.execute_reply": "2021-06-22T14:02:18.958049Z",
     "shell.execute_reply.started": "2021-06-22T12:17:23.495702Z"
    },
    "papermill": {
     "duration": 0.099803,
     "end_time": "2021-06-22T14:02:18.958585",
     "exception": false,
     "start_time": "2021-06-22T14:02:18.858782",
     "status": "completed"
    },
    "tags": []
   },
   "outputs": [],
   "source": [
    "def removeLinks(text):\n",
    "    clean_text = re.sub('https?://\\S+|www\\.\\S+', '', text)\n",
    "    #https? will match both http and https\n",
    "    #A|B, where A and B can be arbitrary REs, creates a regular expression that will match either A or B.\n",
    "    #\\S Matches any character which is not a whitespace character.\n",
    "    #+ Causes the resulting RE to match 1 or more repetitions of the preceding RE. ab+ will match ‘a’ followed by any non-zero number of ‘b’s; it will not match just ‘a’.\n",
    "    return clean_text"
   ]
  },
  {
   "cell_type": "code",
   "execution_count": 30,
   "id": "dated-fellow",
   "metadata": {
    "execution": {
     "iopub.execute_input": "2021-06-22T14:02:19.135866Z",
     "iopub.status.busy": "2021-06-22T14:02:19.135191Z",
     "iopub.status.idle": "2021-06-22T14:02:19.138136Z",
     "shell.execute_reply": "2021-06-22T14:02:19.138524Z",
     "shell.execute_reply.started": "2021-06-22T12:17:23.508467Z"
    },
    "papermill": {
     "duration": 0.094387,
     "end_time": "2021-06-22T14:02:19.138652",
     "exception": false,
     "start_time": "2021-06-22T14:02:19.044265",
     "status": "completed"
    },
    "tags": []
   },
   "outputs": [
    {
     "data": {
      "text/plain": [
       "('CR 7', 'CR ')"
      ]
     },
     "execution_count": 30,
     "metadata": {},
     "output_type": "execute_result"
    }
   ],
   "source": [
    "def removeNumbers(text):\n",
    "    clean_text = re.sub(r'\\d+', '', text)\n",
    "    return clean_text\n",
    "\n",
    "test_string = \"CR 7\"\n",
    "(test_string,removeNumbers(test_string))"
   ]
  },
  {
   "cell_type": "code",
   "execution_count": 31,
   "id": "first-sudan",
   "metadata": {
    "execution": {
     "iopub.execute_input": "2021-06-22T14:02:19.365625Z",
     "iopub.status.busy": "2021-06-22T14:02:19.364720Z",
     "iopub.status.idle": "2021-06-22T14:02:19.366533Z",
     "shell.execute_reply": "2021-06-22T14:02:19.367229Z",
     "shell.execute_reply.started": "2021-06-22T12:17:23.528253Z"
    },
    "papermill": {
     "duration": 0.142701,
     "end_time": "2021-06-22T14:02:19.367423",
     "exception": false,
     "start_time": "2021-06-22T14:02:19.224722",
     "status": "completed"
    },
    "tags": []
   },
   "outputs": [],
   "source": [
    "def clean(text):\n",
    "    text = text.lower() #Lets make it lowercase\n",
    "    text = removeStopwords(text)\n",
    "    text = removePunctuations(text)\n",
    "    text = removeNumbers(text)\n",
    "    text = removeLinks(text)\n",
    "    return text"
   ]
  },
  {
   "cell_type": "code",
   "execution_count": 32,
   "id": "turkish-allah",
   "metadata": {
    "execution": {
     "iopub.execute_input": "2021-06-22T14:02:19.653929Z",
     "iopub.status.busy": "2021-06-22T14:02:19.653136Z",
     "iopub.status.idle": "2021-06-22T14:03:39.846761Z",
     "shell.execute_reply": "2021-06-22T14:03:39.847243Z",
     "shell.execute_reply.started": "2021-06-22T12:17:23.537919Z"
    },
    "papermill": {
     "duration": 80.341876,
     "end_time": "2021-06-22T14:03:39.847398",
     "exception": false,
     "start_time": "2021-06-22T14:02:19.505522",
     "status": "completed"
    },
    "tags": []
   },
   "outputs": [
    {
     "data": {
      "text/html": [
       "<div>\n",
       "<style scoped>\n",
       "    .dataframe tbody tr th:only-of-type {\n",
       "        vertical-align: middle;\n",
       "    }\n",
       "\n",
       "    .dataframe tbody tr th {\n",
       "        vertical-align: top;\n",
       "    }\n",
       "\n",
       "    .dataframe thead th {\n",
       "        text-align: right;\n",
       "    }\n",
       "</style>\n",
       "<table border=\"1\" class=\"dataframe\">\n",
       "  <thead>\n",
       "    <tr style=\"text-align: right;\">\n",
       "      <th></th>\n",
       "      <th>id</th>\n",
       "      <th>url_legal</th>\n",
       "      <th>license</th>\n",
       "      <th>excerpt</th>\n",
       "      <th>target</th>\n",
       "      <th>standard_error</th>\n",
       "      <th>excerpt_len</th>\n",
       "      <th>excerpt_word_count</th>\n",
       "      <th>excerpt_clean</th>\n",
       "    </tr>\n",
       "  </thead>\n",
       "  <tbody>\n",
       "    <tr>\n",
       "      <th>0</th>\n",
       "      <td>c12129c31</td>\n",
       "      <td>NaN</td>\n",
       "      <td>NaN</td>\n",
       "      <td>When the young people returned to the ballroom...</td>\n",
       "      <td>-0.340259</td>\n",
       "      <td>0.464009</td>\n",
       "      <td>992</td>\n",
       "      <td>174</td>\n",
       "      <td>young people returned ballroom  presented de...</td>\n",
       "    </tr>\n",
       "    <tr>\n",
       "      <th>1</th>\n",
       "      <td>85aa80a4c</td>\n",
       "      <td>NaN</td>\n",
       "      <td>NaN</td>\n",
       "      <td>All through dinner time, Mrs. Fayre was somewh...</td>\n",
       "      <td>-0.315372</td>\n",
       "      <td>0.480805</td>\n",
       "      <td>937</td>\n",
       "      <td>164</td>\n",
       "      <td>dinner time  mrs  fayre somewhat silent  eye...</td>\n",
       "    </tr>\n",
       "    <tr>\n",
       "      <th>2</th>\n",
       "      <td>b69ac6792</td>\n",
       "      <td>NaN</td>\n",
       "      <td>NaN</td>\n",
       "      <td>As Roger had predicted, the snow departed as q...</td>\n",
       "      <td>-0.580118</td>\n",
       "      <td>0.476676</td>\n",
       "      <td>908</td>\n",
       "      <td>162</td>\n",
       "      <td>roger predicted  snow departed quickly came ...</td>\n",
       "    </tr>\n",
       "    <tr>\n",
       "      <th>3</th>\n",
       "      <td>dd1000b26</td>\n",
       "      <td>NaN</td>\n",
       "      <td>NaN</td>\n",
       "      <td>And outside before the palace a great garden w...</td>\n",
       "      <td>-1.054013</td>\n",
       "      <td>0.450007</td>\n",
       "      <td>909</td>\n",
       "      <td>163</td>\n",
       "      <td>outside palace great garden walled round  fi...</td>\n",
       "    </tr>\n",
       "    <tr>\n",
       "      <th>4</th>\n",
       "      <td>37c1b32fb</td>\n",
       "      <td>NaN</td>\n",
       "      <td>NaN</td>\n",
       "      <td>Once upon a time there were Three Bears who li...</td>\n",
       "      <td>0.247197</td>\n",
       "      <td>0.510845</td>\n",
       "      <td>723</td>\n",
       "      <td>147</td>\n",
       "      <td>time bears lived house wood  little  small  ...</td>\n",
       "    </tr>\n",
       "  </tbody>\n",
       "</table>\n",
       "</div>"
      ],
      "text/plain": [
       "          id url_legal license  \\\n",
       "0  c12129c31       NaN     NaN   \n",
       "1  85aa80a4c       NaN     NaN   \n",
       "2  b69ac6792       NaN     NaN   \n",
       "3  dd1000b26       NaN     NaN   \n",
       "4  37c1b32fb       NaN     NaN   \n",
       "\n",
       "                                             excerpt    target  \\\n",
       "0  When the young people returned to the ballroom... -0.340259   \n",
       "1  All through dinner time, Mrs. Fayre was somewh... -0.315372   \n",
       "2  As Roger had predicted, the snow departed as q... -0.580118   \n",
       "3  And outside before the palace a great garden w... -1.054013   \n",
       "4  Once upon a time there were Three Bears who li...  0.247197   \n",
       "\n",
       "   standard_error  excerpt_len  excerpt_word_count  \\\n",
       "0        0.464009          992                 174   \n",
       "1        0.480805          937                 164   \n",
       "2        0.476676          908                 162   \n",
       "3        0.450007          909                 163   \n",
       "4        0.510845          723                 147   \n",
       "\n",
       "                                       excerpt_clean  \n",
       "0    young people returned ballroom  presented de...  \n",
       "1    dinner time  mrs  fayre somewhat silent  eye...  \n",
       "2    roger predicted  snow departed quickly came ...  \n",
       "3    outside palace great garden walled round  fi...  \n",
       "4    time bears lived house wood  little  small  ...  "
      ]
     },
     "execution_count": 32,
     "metadata": {},
     "output_type": "execute_result"
    }
   ],
   "source": [
    "df_train['excerpt_clean'] = df_train['excerpt'].apply(clean)\n",
    "df_test['excerpt_clean'] = df_test['excerpt'].apply(clean)\n",
    "\n",
    "df_train['excerpt_clean'] = df_train['excerpt_clean'].str.encode('ascii', 'ignore').str.decode('ascii')\n",
    "df_test['excerpt_clean'] = df_test['excerpt_clean'].str.encode('ascii', 'ignore').str.decode('ascii')\n",
    "\n",
    "df_train.head()"
   ]
  },
  {
   "cell_type": "code",
   "execution_count": 33,
   "id": "plastic-chaos",
   "metadata": {
    "execution": {
     "iopub.execute_input": "2021-06-22T14:03:40.040426Z",
     "iopub.status.busy": "2021-06-22T14:03:40.039531Z",
     "iopub.status.idle": "2021-06-22T14:03:40.043059Z",
     "shell.execute_reply": "2021-06-22T14:03:40.043501Z",
     "shell.execute_reply.started": "2021-06-22T12:25:31.440902Z"
    },
    "papermill": {
     "duration": 0.106017,
     "end_time": "2021-06-22T14:03:40.043632",
     "exception": false,
     "start_time": "2021-06-22T14:03:39.937615",
     "status": "completed"
    },
    "tags": []
   },
   "outputs": [
    {
     "data": {
      "text/html": [
       "<div>\n",
       "<style scoped>\n",
       "    .dataframe tbody tr th:only-of-type {\n",
       "        vertical-align: middle;\n",
       "    }\n",
       "\n",
       "    .dataframe tbody tr th {\n",
       "        vertical-align: top;\n",
       "    }\n",
       "\n",
       "    .dataframe thead th {\n",
       "        text-align: right;\n",
       "    }\n",
       "</style>\n",
       "<table border=\"1\" class=\"dataframe\">\n",
       "  <thead>\n",
       "    <tr style=\"text-align: right;\">\n",
       "      <th></th>\n",
       "      <th>id</th>\n",
       "      <th>url_legal</th>\n",
       "      <th>license</th>\n",
       "      <th>excerpt</th>\n",
       "      <th>target</th>\n",
       "      <th>standard_error</th>\n",
       "      <th>excerpt_len</th>\n",
       "      <th>excerpt_word_count</th>\n",
       "      <th>excerpt_clean</th>\n",
       "    </tr>\n",
       "  </thead>\n",
       "  <tbody>\n",
       "    <tr>\n",
       "      <th>0</th>\n",
       "      <td>c12129c31</td>\n",
       "      <td>NaN</td>\n",
       "      <td>NaN</td>\n",
       "      <td>When the young people returned to the ballroom...</td>\n",
       "      <td>-0.340259</td>\n",
       "      <td>0.464009</td>\n",
       "      <td>992</td>\n",
       "      <td>174</td>\n",
       "      <td>young people returned ballroom  presented de...</td>\n",
       "    </tr>\n",
       "    <tr>\n",
       "      <th>1</th>\n",
       "      <td>85aa80a4c</td>\n",
       "      <td>NaN</td>\n",
       "      <td>NaN</td>\n",
       "      <td>All through dinner time, Mrs. Fayre was somewh...</td>\n",
       "      <td>-0.315372</td>\n",
       "      <td>0.480805</td>\n",
       "      <td>937</td>\n",
       "      <td>164</td>\n",
       "      <td>dinner time  mrs  fayre somewhat silent  eye...</td>\n",
       "    </tr>\n",
       "    <tr>\n",
       "      <th>2</th>\n",
       "      <td>b69ac6792</td>\n",
       "      <td>NaN</td>\n",
       "      <td>NaN</td>\n",
       "      <td>As Roger had predicted, the snow departed as q...</td>\n",
       "      <td>-0.580118</td>\n",
       "      <td>0.476676</td>\n",
       "      <td>908</td>\n",
       "      <td>162</td>\n",
       "      <td>roger predicted  snow departed quickly came ...</td>\n",
       "    </tr>\n",
       "    <tr>\n",
       "      <th>3</th>\n",
       "      <td>dd1000b26</td>\n",
       "      <td>NaN</td>\n",
       "      <td>NaN</td>\n",
       "      <td>And outside before the palace a great garden w...</td>\n",
       "      <td>-1.054013</td>\n",
       "      <td>0.450007</td>\n",
       "      <td>909</td>\n",
       "      <td>163</td>\n",
       "      <td>outside palace great garden walled round  fi...</td>\n",
       "    </tr>\n",
       "    <tr>\n",
       "      <th>4</th>\n",
       "      <td>37c1b32fb</td>\n",
       "      <td>NaN</td>\n",
       "      <td>NaN</td>\n",
       "      <td>Once upon a time there were Three Bears who li...</td>\n",
       "      <td>0.247197</td>\n",
       "      <td>0.510845</td>\n",
       "      <td>723</td>\n",
       "      <td>147</td>\n",
       "      <td>time bears lived house wood  little  small  ...</td>\n",
       "    </tr>\n",
       "  </tbody>\n",
       "</table>\n",
       "</div>"
      ],
      "text/plain": [
       "          id url_legal license  \\\n",
       "0  c12129c31       NaN     NaN   \n",
       "1  85aa80a4c       NaN     NaN   \n",
       "2  b69ac6792       NaN     NaN   \n",
       "3  dd1000b26       NaN     NaN   \n",
       "4  37c1b32fb       NaN     NaN   \n",
       "\n",
       "                                             excerpt    target  \\\n",
       "0  When the young people returned to the ballroom... -0.340259   \n",
       "1  All through dinner time, Mrs. Fayre was somewh... -0.315372   \n",
       "2  As Roger had predicted, the snow departed as q... -0.580118   \n",
       "3  And outside before the palace a great garden w... -1.054013   \n",
       "4  Once upon a time there were Three Bears who li...  0.247197   \n",
       "\n",
       "   standard_error  excerpt_len  excerpt_word_count  \\\n",
       "0        0.464009          992                 174   \n",
       "1        0.480805          937                 164   \n",
       "2        0.476676          908                 162   \n",
       "3        0.450007          909                 163   \n",
       "4        0.510845          723                 147   \n",
       "\n",
       "                                       excerpt_clean  \n",
       "0    young people returned ballroom  presented de...  \n",
       "1    dinner time  mrs  fayre somewhat silent  eye...  \n",
       "2    roger predicted  snow departed quickly came ...  \n",
       "3    outside palace great garden walled round  fi...  \n",
       "4    time bears lived house wood  little  small  ...  "
      ]
     },
     "execution_count": 33,
     "metadata": {},
     "output_type": "execute_result"
    }
   ],
   "source": [
    "df_train.head()"
   ]
  },
  {
   "cell_type": "code",
   "execution_count": 34,
   "id": "finnish-contrary",
   "metadata": {
    "execution": {
     "iopub.execute_input": "2021-06-22T14:03:40.345009Z",
     "iopub.status.busy": "2021-06-22T14:03:40.319725Z",
     "iopub.status.idle": "2021-06-22T14:03:40.349600Z",
     "shell.execute_reply": "2021-06-22T14:03:40.349143Z",
     "shell.execute_reply.started": "2021-06-22T12:18:40.621966Z"
    },
    "papermill": {
     "duration": 0.16962,
     "end_time": "2021-06-22T14:03:40.349725",
     "exception": false,
     "start_time": "2021-06-22T14:03:40.180105",
     "status": "completed"
    },
    "tags": []
   },
   "outputs": [
    {
     "name": "stdout",
     "output_type": "stream",
     "text": [
      "26120\n"
     ]
    }
   ],
   "source": [
    "results = Counter()\n",
    "df_train['excerpt_clean'].str.lower().str.split().apply(results.update)\n",
    "print(len(results.keys()))"
   ]
  },
  {
   "cell_type": "code",
   "execution_count": 35,
   "id": "geographic-techno",
   "metadata": {
    "execution": {
     "iopub.execute_input": "2021-06-22T14:03:40.571383Z",
     "iopub.status.busy": "2021-06-22T14:03:40.566149Z",
     "iopub.status.idle": "2021-06-22T14:03:41.128272Z",
     "shell.execute_reply": "2021-06-22T14:03:41.127847Z",
     "shell.execute_reply.started": "2021-06-22T12:18:40.693558Z"
    },
    "papermill": {
     "duration": 0.686097,
     "end_time": "2021-06-22T14:03:41.128393",
     "exception": false,
     "start_time": "2021-06-22T14:03:40.442296",
     "status": "completed"
    },
    "tags": []
   },
   "outputs": [
    {
     "data": {
      "text/html": [
       "\n",
       "\n",
       "\n",
       "\n",
       "\n",
       "\n",
       "  <div class=\"bk-root\" id=\"09e40627-9e7b-4084-8a5e-69d1091ee8bb\" data-root-id=\"1274\"></div>\n"
      ]
     },
     "metadata": {},
     "output_type": "display_data"
    },
    {
     "data": {
      "application/javascript": [
       "(function(root) {\n",
       "  function embed_document(root) {\n",
       "    \n",
       "  var docs_json = {\"bad11eb1-d121-493d-85a6-dde1aa5114fa\":{\"defs\":[],\"roots\":{\"references\":[{\"attributes\":{\"background_fill_color\":\"#20262B\",\"below\":[{\"id\":\"1285\"}],\"border_fill_color\":\"#15191C\",\"center\":[{\"id\":\"1287\"},{\"id\":\"1291\"}],\"height\":400,\"left\":[{\"id\":\"1288\"}],\"outline_line_alpha\":0.25,\"outline_line_color\":\"#E0E0E0\",\"renderers\":[{\"id\":\"1298\"}],\"title\":{\"id\":\"1275\"},\"toolbar\":{\"id\":\"1293\"},\"width\":800,\"x_range\":{\"id\":\"1277\"},\"x_scale\":{\"id\":\"1281\"},\"y_range\":{\"id\":\"1279\"},\"y_scale\":{\"id\":\"1283\"}},\"id\":\"1274\",\"subtype\":\"Figure\",\"type\":\"Plot\"},{\"attributes\":{\"align\":\"center\",\"text\":\"Top Unigrams\",\"text_color\":\"#E0E0E0\",\"text_font\":\"Helvetica\",\"text_font_size\":\"1.15em\"},\"id\":\"1275\",\"type\":\"Title\"},{\"attributes\":{\"data_source\":{\"id\":\"1273\"},\"glyph\":{\"id\":\"1296\"},\"hover_glyph\":null,\"muted_glyph\":null,\"nonselection_glyph\":{\"id\":\"1297\"},\"view\":{\"id\":\"1299\"}},\"id\":\"1298\",\"type\":\"GlyphRenderer\"},{\"attributes\":{\"source\":{\"id\":\"1273\"}},\"id\":\"1299\",\"type\":\"CDSView\"},{\"attributes\":{\"fill_alpha\":{\"value\":0.1},\"fill_color\":{\"field\":\"color\"},\"line_alpha\":{\"value\":0.1},\"line_color\":{\"field\":\"color\"},\"top\":{\"field\":\"counts\"},\"width\":{\"value\":0.8},\"x\":{\"field\":\"Word\"}},\"id\":\"1297\",\"type\":\"VBar\"},{\"attributes\":{},\"id\":\"1289\",\"type\":\"BasicTicker\"},{\"attributes\":{\"active_multi\":null,\"tools\":[{\"id\":\"1292\"}]},\"id\":\"1293\",\"type\":\"Toolbar\"},{\"attributes\":{\"factors\":[\"little\",\"said\",\"time\",\"like\",\"people\",\"great\",\"water\",\"day\",\"called\",\"old\",\"came\",\"way\",\"went\",\"long\",\"man\",\"good\",\"new\",\"come\",\"found\",\"away\"]},\"id\":\"1277\",\"type\":\"FactorRange\"},{\"attributes\":{\"data\":{\"Word\":[\"little\",\"said\",\"time\",\"like\",\"people\",\"great\",\"water\",\"day\",\"called\",\"old\",\"came\",\"way\",\"went\",\"long\",\"man\",\"good\",\"new\",\"come\",\"found\",\"away\"],\"color\":[\"#6baed6\",\"#6baed6\",\"#6baed6\",\"#6baed6\",\"#6baed6\",\"#6baed6\",\"#6baed6\",\"#6baed6\",\"#6baed6\",\"#6baed6\",\"#6baed6\",\"#6baed6\",\"#6baed6\",\"#6baed6\",\"#6baed6\",\"#6baed6\",\"#6baed6\",\"#6baed6\",\"#6baed6\",\"#6baed6\"],\"counts\":[1136,1112,919,837,750,702,671,661,647,624,609,588,577,576,546,542,459,449,439,439]},\"selected\":{\"id\":\"1334\"},\"selection_policy\":{\"id\":\"1335\"}},\"id\":\"1273\",\"type\":\"ColumnDataSource\"},{\"attributes\":{},\"id\":\"1331\",\"type\":\"BasicTickFormatter\"},{\"attributes\":{\"axis\":{\"id\":\"1288\"},\"dimension\":1,\"grid_line_alpha\":0.25,\"grid_line_color\":\"#E0E0E0\",\"ticker\":null},\"id\":\"1291\",\"type\":\"Grid\"},{\"attributes\":{\"axis\":{\"id\":\"1285\"},\"grid_line_alpha\":0.25,\"grid_line_color\":null,\"ticker\":null},\"id\":\"1287\",\"type\":\"Grid\"},{\"attributes\":{},\"id\":\"1334\",\"type\":\"Selection\"},{\"attributes\":{},\"id\":\"1283\",\"type\":\"LinearScale\"},{\"attributes\":{},\"id\":\"1328\",\"type\":\"CategoricalTickFormatter\"},{\"attributes\":{},\"id\":\"1281\",\"type\":\"CategoricalScale\"},{\"attributes\":{},\"id\":\"1286\",\"type\":\"CategoricalTicker\"},{\"attributes\":{\"axis_label_standoff\":10,\"axis_label_text_color\":\"#E0E0E0\",\"axis_label_text_font\":\"Helvetica\",\"axis_label_text_font_size\":\"1.25em\",\"axis_label_text_font_style\":\"normal\",\"axis_line_alpha\":0,\"axis_line_color\":\"#E0E0E0\",\"formatter\":{\"id\":\"1328\"},\"major_label_orientation\":\"vertical\",\"major_label_policy\":{\"id\":\"1330\"},\"major_label_text_color\":\"#E0E0E0\",\"major_label_text_font\":\"Helvetica\",\"major_label_text_font_size\":\"1.025em\",\"major_tick_line_alpha\":0,\"major_tick_line_color\":\"#E0E0E0\",\"minor_tick_line_alpha\":0,\"minor_tick_line_color\":\"#E0E0E0\",\"ticker\":{\"id\":\"1286\"}},\"id\":\"1285\",\"type\":\"CategoricalAxis\"},{\"attributes\":{},\"id\":\"1333\",\"type\":\"AllLabels\"},{\"attributes\":{\"fill_color\":{\"field\":\"color\"},\"line_color\":{\"field\":\"color\"},\"top\":{\"field\":\"counts\"},\"width\":{\"value\":0.8},\"x\":{\"field\":\"Word\"}},\"id\":\"1296\",\"type\":\"VBar\"},{\"attributes\":{\"start\":0},\"id\":\"1279\",\"type\":\"DataRange1d\"},{\"attributes\":{},\"id\":\"1330\",\"type\":\"AllLabels\"},{\"attributes\":{\"callback\":null,\"tooltips\":\"@Word: @counts\"},\"id\":\"1292\",\"type\":\"HoverTool\"},{\"attributes\":{},\"id\":\"1335\",\"type\":\"UnionRenderers\"},{\"attributes\":{\"axis_label_standoff\":10,\"axis_label_text_color\":\"#E0E0E0\",\"axis_label_text_font\":\"Helvetica\",\"axis_label_text_font_size\":\"1.25em\",\"axis_label_text_font_style\":\"normal\",\"axis_line_alpha\":0,\"axis_line_color\":\"#E0E0E0\",\"formatter\":{\"id\":\"1331\"},\"major_label_policy\":{\"id\":\"1333\"},\"major_label_text_color\":\"#E0E0E0\",\"major_label_text_font\":\"Helvetica\",\"major_label_text_font_size\":\"1.025em\",\"major_tick_line_alpha\":0,\"major_tick_line_color\":\"#E0E0E0\",\"minor_tick_line_alpha\":0,\"minor_tick_line_color\":\"#E0E0E0\",\"ticker\":{\"id\":\"1289\"}},\"id\":\"1288\",\"type\":\"LinearAxis\"}],\"root_ids\":[\"1274\"]},\"title\":\"Bokeh Application\",\"version\":\"2.3.1\"}};\n",
       "  var render_items = [{\"docid\":\"bad11eb1-d121-493d-85a6-dde1aa5114fa\",\"root_ids\":[\"1274\"],\"roots\":{\"1274\":\"09e40627-9e7b-4084-8a5e-69d1091ee8bb\"}}];\n",
       "  root.Bokeh.embed.embed_items_notebook(docs_json, render_items);\n",
       "\n",
       "  }\n",
       "  if (root.Bokeh !== undefined) {\n",
       "    embed_document(root);\n",
       "  } else {\n",
       "    var attempts = 0;\n",
       "    var timer = setInterval(function(root) {\n",
       "      if (root.Bokeh !== undefined) {\n",
       "        clearInterval(timer);\n",
       "        embed_document(root);\n",
       "      } else {\n",
       "        attempts++;\n",
       "        if (attempts > 100) {\n",
       "          clearInterval(timer);\n",
       "          console.log(\"Bokeh: ERROR: Unable to run BokehJS code because BokehJS library is missing\");\n",
       "        }\n",
       "      }\n",
       "    }, 10, root)\n",
       "  }\n",
       "})(window);"
      ],
      "application/vnd.bokehjs_exec.v0+json": ""
     },
     "metadata": {
      "application/vnd.bokehjs_exec.v0+json": {
       "id": "1274"
      }
     },
     "output_type": "display_data"
    }
   ],
   "source": [
    "top_unigram = get_top_n_words(df_train['excerpt_clean'], 20)\n",
    "words = [i[0] for i in top_unigram]\n",
    "count = [i[1] for i in top_unigram]\n",
    "source = ColumnDataSource(data = dict(Word = words, counts = count, color = ['#6baed6'] * 20))\n",
    "\n",
    "p = figure(x_range = words, plot_height = 400, plot_width = 800, title = \"Top Unigrams\", tools = \"hover\", tooltips = \"@Word: @counts\")\n",
    "p.vbar(x = 'Word', top = 'counts', width = 0.8, source = source, color = 'color')\n",
    "curdoc().theme = 'dark_minimal'\n",
    "p.xgrid.grid_line_color = None\n",
    "p.y_range.start = 0\n",
    "p.title.align = 'center'\n",
    "p.xaxis.major_label_orientation = \"vertical\"\n",
    "show(p)"
   ]
  },
  {
   "cell_type": "code",
   "execution_count": 36,
   "id": "possible-arcade",
   "metadata": {
    "execution": {
     "iopub.execute_input": "2021-06-22T14:03:41.368644Z",
     "iopub.status.busy": "2021-06-22T14:03:41.363516Z",
     "iopub.status.idle": "2021-06-22T14:03:42.800765Z",
     "shell.execute_reply": "2021-06-22T14:03:42.800230Z",
     "shell.execute_reply.started": "2021-06-22T12:18:41.272399Z"
    },
    "papermill": {
     "duration": 1.573665,
     "end_time": "2021-06-22T14:03:42.800906",
     "exception": false,
     "start_time": "2021-06-22T14:03:41.227241",
     "status": "completed"
    },
    "tags": []
   },
   "outputs": [
    {
     "data": {
      "text/html": [
       "\n",
       "\n",
       "\n",
       "\n",
       "\n",
       "\n",
       "  <div class=\"bk-root\" id=\"fa5c5c4d-5bca-495d-be92-5b5eda757a8d\" data-root-id=\"1382\"></div>\n"
      ]
     },
     "metadata": {},
     "output_type": "display_data"
    },
    {
     "data": {
      "application/javascript": [
       "(function(root) {\n",
       "  function embed_document(root) {\n",
       "    \n",
       "  var docs_json = {\"1c744166-6c80-4668-912f-0334e8eae9e8\":{\"defs\":[],\"roots\":{\"references\":[{\"attributes\":{\"background_fill_color\":\"#20262B\",\"below\":[{\"id\":\"1393\"}],\"border_fill_color\":\"#15191C\",\"center\":[{\"id\":\"1395\"},{\"id\":\"1399\"}],\"height\":400,\"left\":[{\"id\":\"1396\"}],\"outline_line_alpha\":0.25,\"outline_line_color\":\"#E0E0E0\",\"renderers\":[{\"id\":\"1406\"}],\"title\":{\"id\":\"1383\"},\"toolbar\":{\"id\":\"1401\"},\"width\":800,\"x_range\":{\"id\":\"1385\"},\"x_scale\":{\"id\":\"1389\"},\"y_range\":{\"id\":\"1387\"},\"y_scale\":{\"id\":\"1391\"}},\"id\":\"1382\",\"subtype\":\"Figure\",\"type\":\"Plot\"},{\"attributes\":{},\"id\":\"1448\",\"type\":\"BasicTickFormatter\"},{\"attributes\":{},\"id\":\"1394\",\"type\":\"CategoricalTicker\"},{\"attributes\":{},\"id\":\"1397\",\"type\":\"BasicTicker\"},{\"attributes\":{},\"id\":\"1452\",\"type\":\"UnionRenderers\"},{\"attributes\":{},\"id\":\"1391\",\"type\":\"LinearScale\"},{\"attributes\":{\"source\":{\"id\":\"1381\"}},\"id\":\"1407\",\"type\":\"CDSView\"},{\"attributes\":{\"axis_label_standoff\":10,\"axis_label_text_color\":\"#E0E0E0\",\"axis_label_text_font\":\"Helvetica\",\"axis_label_text_font_size\":\"1.25em\",\"axis_label_text_font_style\":\"normal\",\"axis_line_alpha\":0,\"axis_line_color\":\"#E0E0E0\",\"formatter\":{\"id\":\"1448\"},\"major_label_policy\":{\"id\":\"1450\"},\"major_label_text_color\":\"#E0E0E0\",\"major_label_text_font\":\"Helvetica\",\"major_label_text_font_size\":\"1.025em\",\"major_tick_line_alpha\":0,\"major_tick_line_color\":\"#E0E0E0\",\"minor_tick_line_alpha\":0,\"minor_tick_line_color\":\"#E0E0E0\",\"ticker\":{\"id\":\"1397\"}},\"id\":\"1396\",\"type\":\"LinearAxis\"},{\"attributes\":{},\"id\":\"1450\",\"type\":\"AllLabels\"},{\"attributes\":{\"callback\":null,\"tooltips\":\"@Word: @counts\"},\"id\":\"1400\",\"type\":\"HoverTool\"},{\"attributes\":{\"fill_color\":{\"field\":\"color\"},\"line_color\":{\"field\":\"color\"},\"top\":{\"field\":\"counts\"},\"width\":{\"value\":0.8},\"x\":{\"field\":\"Word\"}},\"id\":\"1404\",\"type\":\"VBar\"},{\"attributes\":{\"active_multi\":null,\"tools\":[{\"id\":\"1400\"}]},\"id\":\"1401\",\"type\":\"Toolbar\"},{\"attributes\":{\"axis_label_standoff\":10,\"axis_label_text_color\":\"#E0E0E0\",\"axis_label_text_font\":\"Helvetica\",\"axis_label_text_font_size\":\"1.25em\",\"axis_label_text_font_style\":\"normal\",\"axis_line_alpha\":0,\"axis_line_color\":\"#E0E0E0\",\"formatter\":{\"id\":\"1445\"},\"major_label_orientation\":\"vertical\",\"major_label_policy\":{\"id\":\"1447\"},\"major_label_text_color\":\"#E0E0E0\",\"major_label_text_font\":\"Helvetica\",\"major_label_text_font_size\":\"1.025em\",\"major_tick_line_alpha\":0,\"major_tick_line_color\":\"#E0E0E0\",\"minor_tick_line_alpha\":0,\"minor_tick_line_color\":\"#E0E0E0\",\"ticker\":{\"id\":\"1394\"}},\"id\":\"1393\",\"type\":\"CategoricalAxis\"},{\"attributes\":{\"start\":0},\"id\":\"1387\",\"type\":\"DataRange1d\"},{\"attributes\":{\"fill_alpha\":{\"value\":0.1},\"fill_color\":{\"field\":\"color\"},\"line_alpha\":{\"value\":0.1},\"line_color\":{\"field\":\"color\"},\"top\":{\"field\":\"counts\"},\"width\":{\"value\":0.8},\"x\":{\"field\":\"Word\"}},\"id\":\"1405\",\"type\":\"VBar\"},{\"attributes\":{\"axis\":{\"id\":\"1396\"},\"dimension\":1,\"grid_line_alpha\":0.25,\"grid_line_color\":\"#E0E0E0\",\"ticker\":null},\"id\":\"1399\",\"type\":\"Grid\"},{\"attributes\":{},\"id\":\"1389\",\"type\":\"CategoricalScale\"},{\"attributes\":{\"align\":\"center\",\"text\":\"Top Bigrams\",\"text_color\":\"#E0E0E0\",\"text_font\":\"Helvetica\",\"text_font_size\":\"1.15em\"},\"id\":\"1383\",\"type\":\"Title\"},{\"attributes\":{},\"id\":\"1447\",\"type\":\"AllLabels\"},{\"attributes\":{\"factors\":[\"united states\",\"years ago\",\"years old\",\"long time\",\"little girl\",\"th century\",\"old man\",\"new york\",\"little boy\",\"carbon dioxide\",\"old woman\",\"young man\",\"far away\",\"world war\",\"poor little\",\"living things\",\"great deal\",\"great britain\",\"solar system\",\"said mother\"]},\"id\":\"1385\",\"type\":\"FactorRange\"},{\"attributes\":{},\"id\":\"1451\",\"type\":\"Selection\"},{\"attributes\":{\"axis\":{\"id\":\"1393\"},\"grid_line_alpha\":0.25,\"grid_line_color\":null,\"ticker\":null},\"id\":\"1395\",\"type\":\"Grid\"},{\"attributes\":{\"data_source\":{\"id\":\"1381\"},\"glyph\":{\"id\":\"1404\"},\"hover_glyph\":null,\"muted_glyph\":null,\"nonselection_glyph\":{\"id\":\"1405\"},\"view\":{\"id\":\"1407\"}},\"id\":\"1406\",\"type\":\"GlyphRenderer\"},{\"attributes\":{\"data\":{\"Word\":[\"united states\",\"years ago\",\"years old\",\"long time\",\"little girl\",\"th century\",\"old man\",\"new york\",\"little boy\",\"carbon dioxide\",\"old woman\",\"young man\",\"far away\",\"world war\",\"poor little\",\"living things\",\"great deal\",\"great britain\",\"solar system\",\"said mother\"],\"color\":[\"#a1dab4\",\"#a1dab4\",\"#a1dab4\",\"#a1dab4\",\"#a1dab4\",\"#a1dab4\",\"#a1dab4\",\"#a1dab4\",\"#a1dab4\",\"#a1dab4\",\"#a1dab4\",\"#a1dab4\",\"#a1dab4\",\"#a1dab4\",\"#a1dab4\",\"#a1dab4\",\"#a1dab4\",\"#a1dab4\",\"#a1dab4\",\"#a1dab4\"],\"counts\":[100,77,58,58,56,55,49,46,44,38,31,30,29,29,27,27,26,26,26,25]},\"selected\":{\"id\":\"1451\"},\"selection_policy\":{\"id\":\"1452\"}},\"id\":\"1381\",\"type\":\"ColumnDataSource\"},{\"attributes\":{},\"id\":\"1445\",\"type\":\"CategoricalTickFormatter\"}],\"root_ids\":[\"1382\"]},\"title\":\"Bokeh Application\",\"version\":\"2.3.1\"}};\n",
       "  var render_items = [{\"docid\":\"1c744166-6c80-4668-912f-0334e8eae9e8\",\"root_ids\":[\"1382\"],\"roots\":{\"1382\":\"fa5c5c4d-5bca-495d-be92-5b5eda757a8d\"}}];\n",
       "  root.Bokeh.embed.embed_items_notebook(docs_json, render_items);\n",
       "\n",
       "  }\n",
       "  if (root.Bokeh !== undefined) {\n",
       "    embed_document(root);\n",
       "  } else {\n",
       "    var attempts = 0;\n",
       "    var timer = setInterval(function(root) {\n",
       "      if (root.Bokeh !== undefined) {\n",
       "        clearInterval(timer);\n",
       "        embed_document(root);\n",
       "      } else {\n",
       "        attempts++;\n",
       "        if (attempts > 100) {\n",
       "          clearInterval(timer);\n",
       "          console.log(\"Bokeh: ERROR: Unable to run BokehJS code because BokehJS library is missing\");\n",
       "        }\n",
       "      }\n",
       "    }, 10, root)\n",
       "  }\n",
       "})(window);"
      ],
      "application/vnd.bokehjs_exec.v0+json": ""
     },
     "metadata": {
      "application/vnd.bokehjs_exec.v0+json": {
       "id": "1382"
      }
     },
     "output_type": "display_data"
    }
   ],
   "source": [
    "top_bigram = get_top_n_bigram(df_train['excerpt_clean'], 20)\n",
    "words = [i[0] for i in top_bigram]\n",
    "count = [i[1] for i in top_bigram]\n",
    "source = ColumnDataSource(data = dict(Word = words, counts = count, color = ['#a1dab4'] * 20))\n",
    "\n",
    "p1 = figure(x_range = words, plot_height = 400, plot_width = 800, title = \"Top Bigrams\", tools = \"hover\", tooltips = \"@Word: @counts\")\n",
    "p1.vbar(x = 'Word', top = 'counts', width = 0.8, source = source, color = 'color')\n",
    "# curdoc().theme = 'dark_minimal'\n",
    "p1.xgrid.grid_line_color = None\n",
    "p1.title.align = 'center'\n",
    "p1.y_range.start = 0\n",
    "p1.xaxis.major_label_orientation = \"vertical\"\n",
    "show(p1)"
   ]
  },
  {
   "cell_type": "code",
   "execution_count": 37,
   "id": "promotional-penguin",
   "metadata": {
    "execution": {
     "iopub.execute_input": "2021-06-22T14:03:43.040329Z",
     "iopub.status.busy": "2021-06-22T14:03:43.025128Z",
     "iopub.status.idle": "2021-06-22T14:03:44.501766Z",
     "shell.execute_reply": "2021-06-22T14:03:44.501344Z",
     "shell.execute_reply.started": "2021-06-22T12:18:42.749688Z"
    },
    "papermill": {
     "duration": 1.60778,
     "end_time": "2021-06-22T14:03:44.501886",
     "exception": false,
     "start_time": "2021-06-22T14:03:42.894106",
     "status": "completed"
    },
    "tags": []
   },
   "outputs": [
    {
     "data": {
      "text/html": [
       "\n",
       "\n",
       "\n",
       "\n",
       "\n",
       "\n",
       "  <div class=\"bk-root\" id=\"960c5077-0993-4697-bb16-8f2326e6ed68\" data-root-id=\"1499\"></div>\n"
      ]
     },
     "metadata": {},
     "output_type": "display_data"
    },
    {
     "data": {
      "application/javascript": [
       "(function(root) {\n",
       "  function embed_document(root) {\n",
       "    \n",
       "  var docs_json = {\"2ac89c9c-8555-47ad-9854-e7ccfb716fe3\":{\"defs\":[],\"roots\":{\"references\":[{\"attributes\":{\"background_fill_color\":\"#20262B\",\"below\":[{\"id\":\"1510\"}],\"border_fill_color\":\"#15191C\",\"center\":[{\"id\":\"1512\"},{\"id\":\"1516\"}],\"height\":400,\"left\":[{\"id\":\"1513\"}],\"outline_line_alpha\":0.25,\"outline_line_color\":\"#E0E0E0\",\"renderers\":[{\"id\":\"1523\"}],\"title\":{\"id\":\"1500\"},\"toolbar\":{\"id\":\"1518\"},\"width\":800,\"x_range\":{\"id\":\"1502\"},\"x_scale\":{\"id\":\"1506\"},\"y_range\":{\"id\":\"1504\"},\"y_scale\":{\"id\":\"1508\"}},\"id\":\"1499\",\"subtype\":\"Figure\",\"type\":\"Plot\"},{\"attributes\":{\"active_multi\":null,\"tools\":[{\"id\":\"1517\"}]},\"id\":\"1518\",\"type\":\"Toolbar\"},{\"attributes\":{\"axis_label_standoff\":10,\"axis_label_text_color\":\"#E0E0E0\",\"axis_label_text_font\":\"Helvetica\",\"axis_label_text_font_size\":\"1.25em\",\"axis_label_text_font_style\":\"normal\",\"axis_line_alpha\":0,\"axis_line_color\":\"#E0E0E0\",\"formatter\":{\"id\":\"1571\"},\"major_label_orientation\":\"vertical\",\"major_label_policy\":{\"id\":\"1573\"},\"major_label_text_color\":\"#E0E0E0\",\"major_label_text_font\":\"Helvetica\",\"major_label_text_font_size\":\"1.025em\",\"major_tick_line_alpha\":0,\"major_tick_line_color\":\"#E0E0E0\",\"minor_tick_line_alpha\":0,\"minor_tick_line_color\":\"#E0E0E0\",\"ticker\":{\"id\":\"1511\"}},\"id\":\"1510\",\"type\":\"CategoricalAxis\"},{\"attributes\":{},\"id\":\"1573\",\"type\":\"AllLabels\"},{\"attributes\":{\"source\":{\"id\":\"1498\"}},\"id\":\"1524\",\"type\":\"CDSView\"},{\"attributes\":{\"fill_alpha\":{\"value\":0.1},\"fill_color\":{\"field\":\"color\"},\"line_alpha\":{\"value\":0.1},\"line_color\":{\"field\":\"color\"},\"top\":{\"field\":\"counts\"},\"width\":{\"value\":0.8},\"x\":{\"field\":\"Word\"}},\"id\":\"1522\",\"type\":\"VBar\"},{\"attributes\":{},\"id\":\"1514\",\"type\":\"BasicTicker\"},{\"attributes\":{\"axis\":{\"id\":\"1510\"},\"grid_line_alpha\":0.25,\"grid_line_color\":null,\"ticker\":null},\"id\":\"1512\",\"type\":\"Grid\"},{\"attributes\":{\"axis_label_standoff\":10,\"axis_label_text_color\":\"#E0E0E0\",\"axis_label_text_font\":\"Helvetica\",\"axis_label_text_font_size\":\"1.25em\",\"axis_label_text_font_style\":\"normal\",\"axis_line_alpha\":0,\"axis_line_color\":\"#E0E0E0\",\"formatter\":{\"id\":\"1574\"},\"major_label_policy\":{\"id\":\"1576\"},\"major_label_text_color\":\"#E0E0E0\",\"major_label_text_font\":\"Helvetica\",\"major_label_text_font_size\":\"1.025em\",\"major_tick_line_alpha\":0,\"major_tick_line_color\":\"#E0E0E0\",\"minor_tick_line_alpha\":0,\"minor_tick_line_color\":\"#E0E0E0\",\"ticker\":{\"id\":\"1514\"}},\"id\":\"1513\",\"type\":\"LinearAxis\"},{\"attributes\":{\"axis\":{\"id\":\"1513\"},\"dimension\":1,\"grid_line_alpha\":0.25,\"grid_line_color\":\"#E0E0E0\",\"ticker\":null},\"id\":\"1516\",\"type\":\"Grid\"},{\"attributes\":{},\"id\":\"1571\",\"type\":\"CategoricalTickFormatter\"},{\"attributes\":{\"start\":0},\"id\":\"1504\",\"type\":\"DataRange1d\"},{\"attributes\":{},\"id\":\"1574\",\"type\":\"BasicTickFormatter\"},{\"attributes\":{\"align\":\"center\",\"text\":\"Top Bigrams\",\"text_color\":\"#E0E0E0\",\"text_font\":\"Helvetica\",\"text_font_size\":\"1.15em\"},\"id\":\"1500\",\"type\":\"Title\"},{\"attributes\":{},\"id\":\"1578\",\"type\":\"UnionRenderers\"},{\"attributes\":{\"data_source\":{\"id\":\"1498\"},\"glyph\":{\"id\":\"1521\"},\"hover_glyph\":null,\"muted_glyph\":null,\"nonselection_glyph\":{\"id\":\"1522\"},\"view\":{\"id\":\"1524\"}},\"id\":\"1523\",\"type\":\"GlyphRenderer\"},{\"attributes\":{},\"id\":\"1576\",\"type\":\"AllLabels\"},{\"attributes\":{},\"id\":\"1506\",\"type\":\"CategoricalScale\"},{\"attributes\":{},\"id\":\"1511\",\"type\":\"CategoricalTicker\"},{\"attributes\":{},\"id\":\"1577\",\"type\":\"Selection\"},{\"attributes\":{},\"id\":\"1508\",\"type\":\"LinearScale\"},{\"attributes\":{\"factors\":[\"world war ii\",\"long time ago\",\"th th centuries\",\"late th century\",\"traumatic brain injury\",\"old man said\",\"million years ago\",\"long term memory\",\"cold cat gives\",\"cat gives dog\",\"government united states\",\"little half chick\",\"seven years old\",\"red riding hood\",\"war united states\",\"mid ocean ridge\",\"planet solar system\",\"cotton seed oil\",\"white blood cells\",\"early th century\"]},\"id\":\"1502\",\"type\":\"FactorRange\"},{\"attributes\":{\"data\":{\"Word\":[\"world war ii\",\"long time ago\",\"th th centuries\",\"late th century\",\"traumatic brain injury\",\"old man said\",\"million years ago\",\"long term memory\",\"cold cat gives\",\"cat gives dog\",\"government united states\",\"little half chick\",\"seven years old\",\"red riding hood\",\"war united states\",\"mid ocean ridge\",\"planet solar system\",\"cotton seed oil\",\"white blood cells\",\"early th century\"],\"color\":[\"#a1dab4\",\"#a1dab4\",\"#a1dab4\",\"#a1dab4\",\"#a1dab4\",\"#a1dab4\",\"#a1dab4\",\"#a1dab4\",\"#a1dab4\",\"#a1dab4\",\"#a1dab4\",\"#a1dab4\",\"#a1dab4\",\"#a1dab4\",\"#a1dab4\",\"#a1dab4\",\"#a1dab4\",\"#a1dab4\",\"#a1dab4\",\"#a1dab4\"],\"counts\":[17,10,9,9,9,8,8,7,7,7,7,7,6,6,6,6,6,6,5,5]},\"selected\":{\"id\":\"1577\"},\"selection_policy\":{\"id\":\"1578\"}},\"id\":\"1498\",\"type\":\"ColumnDataSource\"},{\"attributes\":{\"callback\":null,\"tooltips\":\"@Word: @counts\"},\"id\":\"1517\",\"type\":\"HoverTool\"},{\"attributes\":{\"fill_color\":{\"field\":\"color\"},\"line_color\":{\"field\":\"color\"},\"top\":{\"field\":\"counts\"},\"width\":{\"value\":0.8},\"x\":{\"field\":\"Word\"}},\"id\":\"1521\",\"type\":\"VBar\"}],\"root_ids\":[\"1499\"]},\"title\":\"Bokeh Application\",\"version\":\"2.3.1\"}};\n",
       "  var render_items = [{\"docid\":\"2ac89c9c-8555-47ad-9854-e7ccfb716fe3\",\"root_ids\":[\"1499\"],\"roots\":{\"1499\":\"960c5077-0993-4697-bb16-8f2326e6ed68\"}}];\n",
       "  root.Bokeh.embed.embed_items_notebook(docs_json, render_items);\n",
       "\n",
       "  }\n",
       "  if (root.Bokeh !== undefined) {\n",
       "    embed_document(root);\n",
       "  } else {\n",
       "    var attempts = 0;\n",
       "    var timer = setInterval(function(root) {\n",
       "      if (root.Bokeh !== undefined) {\n",
       "        clearInterval(timer);\n",
       "        embed_document(root);\n",
       "      } else {\n",
       "        attempts++;\n",
       "        if (attempts > 100) {\n",
       "          clearInterval(timer);\n",
       "          console.log(\"Bokeh: ERROR: Unable to run BokehJS code because BokehJS library is missing\");\n",
       "        }\n",
       "      }\n",
       "    }, 10, root)\n",
       "  }\n",
       "})(window);"
      ],
      "application/vnd.bokehjs_exec.v0+json": ""
     },
     "metadata": {
      "application/vnd.bokehjs_exec.v0+json": {
       "id": "1499"
      }
     },
     "output_type": "display_data"
    }
   ],
   "source": [
    "top_bigram = get_top_n_trigram(df_train['excerpt_clean'], 20)\n",
    "words = [i[0] for i in top_bigram]\n",
    "count = [i[1] for i in top_bigram]\n",
    "source = ColumnDataSource(data = dict(Word = words, counts = count, color = ['#a1dab4'] * 20))\n",
    "\n",
    "p1 = figure(x_range = words, plot_height = 400, plot_width = 800, title = \"Top Bigrams\", tools = \"hover\", tooltips = \"@Word: @counts\")\n",
    "p1.vbar(x = 'Word', top = 'counts', width = 0.8, source = source, color = 'color')\n",
    "# curdoc().theme = 'dark_minimal'\n",
    "p1.xgrid.grid_line_color = None\n",
    "p1.title.align = 'center'\n",
    "p1.y_range.start = 0\n",
    "p1.xaxis.major_label_orientation = \"vertical\"\n",
    "show(p1)"
   ]
  },
  {
   "cell_type": "markdown",
   "id": "pregnant-barrier",
   "metadata": {
    "papermill": {
     "duration": 0.089688,
     "end_time": "2021-06-22T14:03:44.681764",
     "exception": false,
     "start_time": "2021-06-22T14:03:44.592076",
     "status": "completed"
    },
    "tags": []
   },
   "source": [
    "### Stemming"
   ]
  },
  {
   "cell_type": "code",
   "execution_count": 38,
   "id": "enormous-palace",
   "metadata": {
    "execution": {
     "iopub.execute_input": "2021-06-22T14:03:44.876473Z",
     "iopub.status.busy": "2021-06-22T14:03:44.875615Z",
     "iopub.status.idle": "2021-06-22T14:03:44.895183Z",
     "shell.execute_reply": "2021-06-22T14:03:44.894754Z",
     "shell.execute_reply.started": "2021-06-22T12:18:44.303998Z"
    },
    "papermill": {
     "duration": 0.124138,
     "end_time": "2021-06-22T14:03:44.895311",
     "exception": false,
     "start_time": "2021-06-22T14:03:44.771173",
     "status": "completed"
    },
    "tags": []
   },
   "outputs": [
    {
     "name": "stdout",
     "output_type": "stream",
     "text": [
      "All --> all\n",
      "through --> through\n",
      "dinner --> dinner\n",
      "time, --> time,\n",
      "Mrs. --> mrs.\n",
      "Fayre --> fayr\n",
      "was --> was\n",
      "somewhat --> somewhat\n",
      "silent, --> silent,\n",
      "her --> her\n",
      "eyes --> eye\n",
      "resting --> rest\n",
      "on --> on\n",
      "Dolly --> dolli\n",
      "with --> with\n",
      "a --> a\n",
      "wistful, --> wistful,\n",
      "uncertain --> uncertain\n",
      "expression. --> expression.\n",
      "She --> she\n",
      "wanted --> want\n",
      "to --> to\n",
      "give --> give\n",
      "the --> the\n",
      "child --> child\n",
      "the --> the\n",
      "pleasure --> pleasur\n",
      "she --> she\n",
      "craved, --> craved,\n",
      "but --> but\n",
      "she --> she\n",
      "had --> had\n",
      "hard --> hard\n",
      "work --> work\n",
      "to --> to\n",
      "bring --> bring\n",
      "herself --> herself\n",
      "to --> to\n",
      "the --> the\n",
      "point --> point\n",
      "of --> of\n",
      "overcoming --> overcom\n",
      "her --> her\n",
      "own --> own\n",
      "objections. --> objections.\n",
      "At --> at\n",
      "last, --> last,\n",
      "however, --> however,\n",
      "when --> when\n",
      "the --> the\n",
      "meal --> meal\n",
      "was --> was\n",
      "nearly --> near\n",
      "over, --> over,\n",
      "she --> she\n",
      "smiled --> smile\n",
      "at --> at\n",
      "her --> her\n",
      "little --> littl\n",
      "daughter, --> daughter,\n",
      "and --> and\n",
      "said, --> said,\n",
      "\"All --> \"all\n",
      "right, --> right,\n",
      "Dolly, --> dolly,\n",
      "you --> you\n",
      "may --> may\n",
      "go.\" --> go.\"\n",
      "\"Oh, --> \"oh,\n",
      "mother!\" --> mother!\"\n",
      "Dolly --> dolli\n",
      "cried, --> cried,\n",
      "overwhelmed --> overwhelm\n",
      "with --> with\n",
      "sudden --> sudden\n",
      "delight. --> delight.\n",
      "\"Really? --> \"really?\n",
      "Oh, --> oh,\n",
      "I --> i\n",
      "am --> am\n",
      "so --> so\n",
      "glad! --> glad!\n",
      "Are --> are\n",
      "you --> you\n",
      "sure --> sure\n",
      "you're --> you'r\n",
      "willing?\" --> willing?\"\n",
      "\"I've --> \"i'v\n",
      "persuaded --> persuad\n",
      "myself --> myself\n",
      "to --> to\n",
      "be --> be\n",
      "willing, --> willing,\n",
      "against --> against\n",
      "my --> my\n",
      "will,\" --> will,\"\n",
      "returned --> return\n",
      "Mrs. --> mrs.\n",
      "Fayre, --> fayre,\n",
      "whimsically. --> whimsically.\n",
      "\"I --> \"i\n",
      "confess --> confess\n",
      "I --> i\n",
      "just --> just\n",
      "hate --> hate\n",
      "to --> to\n",
      "have --> have\n",
      "you --> you\n",
      "go, --> go,\n",
      "but --> but\n",
      "I --> i\n",
      "can't --> can't\n",
      "bear --> bear\n",
      "to --> to\n",
      "deprive --> depriv\n",
      "you --> you\n",
      "of --> of\n",
      "the --> the\n",
      "pleasure --> pleasur\n",
      "trip. --> trip.\n",
      "And, --> and,\n",
      "as --> as\n",
      "you --> you\n",
      "say, --> say,\n",
      "it --> it\n",
      "would --> would\n",
      "also --> also\n",
      "keep --> keep\n",
      "Dotty --> dotti\n",
      "at --> at\n",
      "home, --> home,\n",
      "and --> and\n",
      "so, --> so,\n",
      "altogether, --> altogether,\n",
      "I --> i\n",
      "think --> think\n",
      "I --> i\n",
      "shall --> shall\n",
      "have --> have\n",
      "to --> to\n",
      "give --> give\n",
      "in.\" --> in.\"\n",
      "\"Oh, --> \"oh,\n",
      "you --> you\n",
      "angel --> angel\n",
      "mother! --> mother!\n",
      "You --> you\n",
      "blessed --> bless\n",
      "lady! --> lady!\n",
      "How --> how\n",
      "good --> good\n",
      "you --> you\n",
      "are!\" --> are!\"\n",
      "And --> and\n",
      "Dolly --> dolli\n",
      "flew --> flew\n",
      "around --> around\n",
      "the --> the\n",
      "table --> tabl\n",
      "and --> and\n",
      "gave --> gave\n",
      "her --> her\n",
      "mother --> mother\n",
      "a --> a\n",
      "hug --> hug\n",
      "that --> that\n",
      "nearly --> near\n",
      "suffocated --> suffoc\n",
      "her. --> her.\n"
     ]
    }
   ],
   "source": [
    "stemmer = SnowballStemmer(language='english')\n",
    "\n",
    "tokens = df_train['excerpt'][1].split()\n",
    "clean_text = ' '\n",
    "\n",
    "for token in tokens:\n",
    "    print(token + ' --> ' + stemmer.stem(token))"
   ]
  },
  {
   "cell_type": "code",
   "execution_count": 39,
   "id": "random-league",
   "metadata": {
    "execution": {
     "iopub.execute_input": "2021-06-22T14:03:45.083857Z",
     "iopub.status.busy": "2021-06-22T14:03:45.083266Z",
     "iopub.status.idle": "2021-06-22T14:03:45.087227Z",
     "shell.execute_reply": "2021-06-22T14:03:45.086493Z",
     "shell.execute_reply.started": "2021-06-22T12:18:44.336392Z"
    },
    "papermill": {
     "duration": 0.101857,
     "end_time": "2021-06-22T14:03:45.087385",
     "exception": false,
     "start_time": "2021-06-22T14:03:44.985528",
     "status": "completed"
    },
    "tags": []
   },
   "outputs": [
    {
     "name": "stdout",
     "output_type": "stream",
     "text": [
      "\u001b[1mText before stemWord function: \u001b[0mAll through dinner time, Mrs. Fayre was somewhat silent, her eyes resting on Dolly with a wistful, uncertain expression. She wanted to give the child the pleasure she craved, but she had hard work to bring herself to the point of overcoming her own objections.\n",
      "At last, however, when the meal was nearly over, she smiled at her little daughter, and said, \"All right, Dolly, you may go.\"\n",
      "\"Oh, mother!\" Dolly cried, overwhelmed with sudden delight. \"Really?\n",
      "Oh, I am so glad! Are you sure you're willing?\"\n",
      "\"I've persuaded myself to be willing, against my will,\" returned Mrs. Fayre, whimsically. \"I confess I just hate to have you go, but I can't bear to deprive you of the pleasure trip. And, as you say, it would also keep Dotty at home, and so, altogether, I think I shall have to give in.\"\n",
      "\"Oh, you angel mother! You blessed lady! How good you are!\" And Dolly flew around the table and gave her mother a hug that nearly suffocated her.\n",
      "\u001b[1mText after stemWord function: \u001b[0m  all through dinner time, mrs. fayr was somewhat silent, her eye rest on dolli with a wistful, uncertain expression. she want to give the child the pleasur she craved, but she had hard work to bring herself to the point of overcom her own objections. at last, however, when the meal was near over, she smile at her littl daughter, and said, \"all right, dolly, you may go.\" \"oh, mother!\" dolli cried, overwhelm with sudden delight. \"really? oh, i am so glad! are you sure you'r willing?\" \"i'v persuad myself to be willing, against my will,\" return mrs. fayre, whimsically. \"i confess i just hate to have you go, but i can't bear to depriv you of the pleasur trip. and, as you say, it would also keep dotti at home, and so, altogether, i think i shall have to give in.\" \"oh, you angel mother! you bless lady! how good you are!\" and dolli flew around the tabl and gave her mother a hug that near suffoc her.\n"
     ]
    }
   ],
   "source": [
    "def stemWord(text):\n",
    "    stemmer = SnowballStemmer(language='english')\n",
    "    tokens = text.split()\n",
    "    clean_text = ' '\n",
    "    for token in tokens:\n",
    "        clean_text = clean_text + \" \" + stemmer.stem(token)      \n",
    "    \n",
    "    return clean_text\n",
    "\n",
    "print(\"\\033[1mText before stemWord function: \\033[0m\" + df_train['excerpt'][1])\n",
    "print(\"\\033[1mText after stemWord function: \\033[0m\" + stemWord(df_train['excerpt'][1]))"
   ]
  },
  {
   "cell_type": "code",
   "execution_count": 40,
   "id": "formed-rugby",
   "metadata": {
    "execution": {
     "iopub.execute_input": "2021-06-22T14:03:45.299578Z",
     "iopub.status.busy": "2021-06-22T14:03:45.284182Z",
     "iopub.status.idle": "2021-06-22T14:03:48.501935Z",
     "shell.execute_reply": "2021-06-22T14:03:48.501484Z",
     "shell.execute_reply.started": "2021-06-22T12:18:44.347096Z"
    },
    "papermill": {
     "duration": 3.323156,
     "end_time": "2021-06-22T14:03:48.502062",
     "exception": false,
     "start_time": "2021-06-22T14:03:45.178906",
     "status": "completed"
    },
    "tags": []
   },
   "outputs": [],
   "source": [
    "df_train['excerpt_clean_Stem'] = df_train['excerpt_clean'].apply(stemWord)\n",
    "df_test['excerpt_clean_Stem'] = df_test['excerpt_clean'].apply(stemWord)"
   ]
  },
  {
   "cell_type": "markdown",
   "id": "center-bishop",
   "metadata": {
    "papermill": {
     "duration": 0.094247,
     "end_time": "2021-06-22T14:03:48.687518",
     "exception": false,
     "start_time": "2021-06-22T14:03:48.593271",
     "status": "completed"
    },
    "tags": []
   },
   "source": [
    "#### Lemmatization"
   ]
  },
  {
   "cell_type": "code",
   "execution_count": 41,
   "id": "liked-shell",
   "metadata": {
    "execution": {
     "iopub.execute_input": "2021-06-22T14:03:48.884749Z",
     "iopub.status.busy": "2021-06-22T14:03:48.883623Z",
     "iopub.status.idle": "2021-06-22T14:03:48.885618Z",
     "shell.execute_reply": "2021-06-22T14:03:48.886098Z",
     "shell.execute_reply.started": "2021-06-22T12:18:48.349258Z"
    },
    "papermill": {
     "duration": 0.101504,
     "end_time": "2021-06-22T14:03:48.886241",
     "exception": false,
     "start_time": "2021-06-22T14:03:48.784737",
     "status": "completed"
    },
    "tags": []
   },
   "outputs": [],
   "source": [
    "def lemmatizeWord(text):\n",
    "    tokens=nlp(text)\n",
    "    clean_text = ' '\n",
    "    for token in tokens:\n",
    "        clean_text = clean_text + \" \" + token.lemma_      \n",
    "    \n",
    "    return clean_text"
   ]
  },
  {
   "cell_type": "code",
   "execution_count": 42,
   "id": "naval-borough",
   "metadata": {
    "execution": {
     "iopub.execute_input": "2021-06-22T14:03:49.074077Z",
     "iopub.status.busy": "2021-06-22T14:03:49.073244Z",
     "iopub.status.idle": "2021-06-22T14:04:35.436172Z",
     "shell.execute_reply": "2021-06-22T14:04:35.435719Z",
     "shell.execute_reply.started": "2021-06-22T12:18:48.362351Z"
    },
    "papermill": {
     "duration": 46.458323,
     "end_time": "2021-06-22T14:04:35.436319",
     "exception": false,
     "start_time": "2021-06-22T14:03:48.977996",
     "status": "completed"
    },
    "tags": []
   },
   "outputs": [],
   "source": [
    "df_train['excerpt_clean_Lemm'] = df_train['excerpt_clean'].apply(lemmatizeWord)\n",
    "df_test['excerpt_clean_Lemm'] = df_test['excerpt_clean'].apply(lemmatizeWord)"
   ]
  },
  {
   "cell_type": "code",
   "execution_count": 43,
   "id": "assisted-basis",
   "metadata": {
    "execution": {
     "iopub.execute_input": "2021-06-22T14:04:35.656527Z",
     "iopub.status.busy": "2021-06-22T14:04:35.643478Z",
     "iopub.status.idle": "2021-06-22T14:04:35.685940Z",
     "shell.execute_reply": "2021-06-22T14:04:35.686318Z",
     "shell.execute_reply.started": "2021-06-22T12:19:32.563668Z"
    },
    "papermill": {
     "duration": 0.157292,
     "end_time": "2021-06-22T14:04:35.686477",
     "exception": false,
     "start_time": "2021-06-22T14:04:35.529185",
     "status": "completed"
    },
    "tags": []
   },
   "outputs": [
    {
     "name": "stdout",
     "output_type": "stream",
     "text": [
      "26120\n"
     ]
    }
   ],
   "source": [
    "results = Counter()\n",
    "df_train['excerpt_clean'].str.lower().str.split().apply(results.update)\n",
    "print(len(results.keys()))"
   ]
  },
  {
   "cell_type": "code",
   "execution_count": 44,
   "id": "precise-finish",
   "metadata": {
    "execution": {
     "iopub.execute_input": "2021-06-22T14:04:35.907925Z",
     "iopub.status.busy": "2021-06-22T14:04:35.893117Z",
     "iopub.status.idle": "2021-06-22T14:04:35.936287Z",
     "shell.execute_reply": "2021-06-22T14:04:35.935839Z",
     "shell.execute_reply.started": "2021-06-22T12:19:32.632973Z"
    },
    "papermill": {
     "duration": 0.158482,
     "end_time": "2021-06-22T14:04:35.936404",
     "exception": false,
     "start_time": "2021-06-22T14:04:35.777922",
     "status": "completed"
    },
    "tags": []
   },
   "outputs": [
    {
     "name": "stdout",
     "output_type": "stream",
     "text": [
      "20342\n"
     ]
    }
   ],
   "source": [
    "results = Counter()\n",
    "df_train['excerpt_clean_Lemm'].str.lower().str.split().apply(results.update)\n",
    "print(len(results.keys()))"
   ]
  },
  {
   "cell_type": "code",
   "execution_count": 45,
   "id": "bridal-rolling",
   "metadata": {
    "execution": {
     "iopub.execute_input": "2021-06-22T14:04:36.170255Z",
     "iopub.status.busy": "2021-06-22T14:04:36.160046Z",
     "iopub.status.idle": "2021-06-22T14:04:36.182495Z",
     "shell.execute_reply": "2021-06-22T14:04:36.182069Z",
     "shell.execute_reply.started": "2021-06-22T12:19:32.699489Z"
    },
    "papermill": {
     "duration": 0.154929,
     "end_time": "2021-06-22T14:04:36.182615",
     "exception": false,
     "start_time": "2021-06-22T14:04:36.027686",
     "status": "completed"
    },
    "tags": []
   },
   "outputs": [
    {
     "name": "stdout",
     "output_type": "stream",
     "text": [
      "16625\n"
     ]
    }
   ],
   "source": [
    "results = Counter()\n",
    "df_train['excerpt_clean_Stem'].str.lower().str.split().apply(results.update)\n",
    "print(len(results.keys()))"
   ]
  },
  {
   "cell_type": "markdown",
   "id": "stainless-thirty",
   "metadata": {
    "papermill": {
     "duration": 0.091319,
     "end_time": "2021-06-22T14:04:36.365466",
     "exception": false,
     "start_time": "2021-06-22T14:04:36.274147",
     "status": "completed"
    },
    "tags": []
   },
   "source": [
    "# Text Vectorization\n",
    "* Bag of Words (BoW)\n",
    "* TD IDF\n",
    "* Embeddings"
   ]
  },
  {
   "cell_type": "markdown",
   "id": "interior-reynolds",
   "metadata": {
    "papermill": {
     "duration": 0.090757,
     "end_time": "2021-06-22T14:04:36.547438",
     "exception": false,
     "start_time": "2021-06-22T14:04:36.456681",
     "status": "completed"
    },
    "tags": []
   },
   "source": [
    "## Bag of Words\n",
    "A bag-of-words is a representation of text that describes the occurrence of words within a document. It involves two things:\n",
    "\n",
    "A vocabulary of known words.\n",
    "A measure of the presence of known words. It is called a “bag” of words, because any information about the order or structure of words in the document is discarded. The model is only concerned with whether known words occur in the document, not where in the document.\n",
    "An n-gram is a contiguous sequence of n items from a given sample of text or speech\n",
    "\n",
    "An n-gram of size 1 is referred to as a \"unigram\"; size 2 is a \"bigram\" (or, less commonly, a \"digram\"); size 3 is a \"trigram\"."
   ]
  },
  {
   "cell_type": "markdown",
   "id": "specified-delight",
   "metadata": {
    "papermill": {
     "duration": 0.118469,
     "end_time": "2021-06-22T14:04:36.756941",
     "exception": false,
     "start_time": "2021-06-22T14:04:36.638472",
     "status": "completed"
    },
    "tags": []
   },
   "source": [
    "## Machine Learning\n",
    "### Unigram"
   ]
  },
  {
   "cell_type": "code",
   "execution_count": 46,
   "id": "executive-broadcasting",
   "metadata": {
    "execution": {
     "iopub.execute_input": "2021-06-22T14:04:36.945443Z",
     "iopub.status.busy": "2021-06-22T14:04:36.944670Z",
     "iopub.status.idle": "2021-06-22T14:04:36.947586Z",
     "shell.execute_reply": "2021-06-22T14:04:36.947133Z",
     "shell.execute_reply.started": "2021-06-22T12:19:32.762582Z"
    },
    "papermill": {
     "duration": 0.098859,
     "end_time": "2021-06-22T14:04:36.947694",
     "exception": false,
     "start_time": "2021-06-22T14:04:36.848835",
     "status": "completed"
    },
    "tags": []
   },
   "outputs": [],
   "source": [
    "rmse = lambda y_true, y_pred: np.sqrt(mse(y_true, y_pred))\n",
    "rmse_loss = lambda Estimator, X, y: rmse(y, Estimator.predict(X))"
   ]
  },
  {
   "cell_type": "code",
   "execution_count": 47,
   "id": "grateful-trauma",
   "metadata": {
    "execution": {
     "iopub.execute_input": "2021-06-22T14:04:37.137451Z",
     "iopub.status.busy": "2021-06-22T14:04:37.136713Z",
     "iopub.status.idle": "2021-06-22T14:04:37.142317Z",
     "shell.execute_reply": "2021-06-22T14:04:37.142779Z",
     "shell.execute_reply.started": "2021-06-22T12:19:32.769705Z"
    },
    "papermill": {
     "duration": 0.103892,
     "end_time": "2021-06-22T14:04:37.142900",
     "exception": false,
     "start_time": "2021-06-22T14:04:37.039008",
     "status": "completed"
    },
    "tags": []
   },
   "outputs": [
    {
     "name": "stdout",
     "output_type": "stream",
     "text": [
      "2834 2834\n",
      "2125 2125\n",
      "709 709\n"
     ]
    }
   ],
   "source": [
    "# Split into train and test sets\n",
    "\n",
    "\n",
    "x = df_train['excerpt_clean']\n",
    "y = df_train['target']\n",
    "\n",
    "print(len(x), len(y))\n",
    "\n",
    "x_train, x_test, y_train, y_test = train_test_split(x, y, random_state=42)\n",
    "print(len(x_train), len(y_train))\n",
    "print(len(x_test), len(y_test))"
   ]
  },
  {
   "cell_type": "code",
   "execution_count": 48,
   "id": "continuing-begin",
   "metadata": {
    "execution": {
     "iopub.execute_input": "2021-06-22T14:04:37.348312Z",
     "iopub.status.busy": "2021-06-22T14:04:37.347443Z",
     "iopub.status.idle": "2021-06-22T14:04:37.352429Z",
     "shell.execute_reply": "2021-06-22T14:04:37.351965Z",
     "shell.execute_reply.started": "2021-06-22T12:27:16.893484Z"
    },
    "papermill": {
     "duration": 0.112406,
     "end_time": "2021-06-22T14:04:37.352545",
     "exception": false,
     "start_time": "2021-06-22T14:04:37.240139",
     "status": "completed"
    },
    "tags": []
   },
   "outputs": [
    {
     "name": "stdout",
     "output_type": "stream",
     "text": [
      "2834 2834\n",
      "2125 2125\n",
      "709 709\n"
     ]
    }
   ],
   "source": [
    "# Split into train and test sets\n",
    "\n",
    "\n",
    "x_Lemm = df_train['excerpt_clean_Lemm']\n",
    "y_Lemm = df_train['target']\n",
    "\n",
    "print(len(x_Lemm), len(y_Lemm))\n",
    "\n",
    "x_train_Lemm, x_test_Lemm, y_train_Lemm, y_test_Lemm = train_test_split(x_Lemm, y_Lemm, random_state=42)\n",
    "print(len(x_train_Lemm), len(y_train_Lemm))\n",
    "print(len(x_test_Lemm), len(y_test_Lemm))"
   ]
  },
  {
   "cell_type": "code",
   "execution_count": 49,
   "id": "virgin-boring",
   "metadata": {
    "execution": {
     "iopub.execute_input": "2021-06-22T14:04:37.542564Z",
     "iopub.status.busy": "2021-06-22T14:04:37.541769Z",
     "iopub.status.idle": "2021-06-22T14:04:37.546986Z",
     "shell.execute_reply": "2021-06-22T14:04:37.546580Z",
     "shell.execute_reply.started": "2021-06-22T12:27:18.167320Z"
    },
    "papermill": {
     "duration": 0.101124,
     "end_time": "2021-06-22T14:04:37.547117",
     "exception": false,
     "start_time": "2021-06-22T14:04:37.445993",
     "status": "completed"
    },
    "tags": []
   },
   "outputs": [
    {
     "name": "stdout",
     "output_type": "stream",
     "text": [
      "2834 2834\n",
      "2125 2125\n",
      "709 709\n"
     ]
    }
   ],
   "source": [
    "# Split into train and test sets\n",
    "\n",
    "\n",
    "x_Stem = df_train['excerpt_clean_Stem']\n",
    "y_Stem = df_train['target']\n",
    "\n",
    "print(len(x_Stem), len(y_Stem))\n",
    "\n",
    "x_train_Stem, x_test_Stem, y_train_Stem, y_test_Stem = train_test_split(x_Stem, y_Stem, random_state=42)\n",
    "print(len(x_train_Stem), len(y_train_Stem))\n",
    "print(len(x_test_Stem), len(y_test_Stem))"
   ]
  },
  {
   "cell_type": "code",
   "execution_count": 50,
   "id": "concerned-supervisor",
   "metadata": {
    "execution": {
     "iopub.execute_input": "2021-06-22T14:04:37.734266Z",
     "iopub.status.busy": "2021-06-22T14:04:37.733380Z",
     "iopub.status.idle": "2021-06-22T14:04:37.738586Z",
     "shell.execute_reply": "2021-06-22T14:04:37.738939Z",
     "shell.execute_reply.started": "2021-06-22T12:27:19.193201Z"
    },
    "papermill": {
     "duration": 0.100275,
     "end_time": "2021-06-22T14:04:37.739069",
     "exception": false,
     "start_time": "2021-06-22T14:04:37.638794",
     "status": "completed"
    },
    "tags": []
   },
   "outputs": [
    {
     "data": {
      "text/plain": [
       "0         young people returned ballroom  presented de...\n",
       "1         dinner time  mrs  fayre somewhat silent  eye...\n",
       "2         roger predicted  snow departed quickly came ...\n",
       "3         outside palace great garden walled round  fi...\n",
       "4         time bears lived house wood  little  small  ...\n",
       "                              ...                        \n",
       "2829      think dinosaurs lived  picture  hot  steamy ...\n",
       "2830      solid  solids usually hard molecules packed ...\n",
       "2831      second state matter discuss liquid  solids h...\n",
       "2832      solids shapes actually touch  dimensions  me...\n",
       "2833      animals cells  eat things digest inside  ani...\n",
       "Name: excerpt_clean, Length: 2834, dtype: object"
      ]
     },
     "execution_count": 50,
     "metadata": {},
     "output_type": "execute_result"
    }
   ],
   "source": [
    "x"
   ]
  },
  {
   "cell_type": "code",
   "execution_count": 51,
   "id": "temporal-patent",
   "metadata": {
    "execution": {
     "iopub.execute_input": "2021-06-22T14:04:37.961656Z",
     "iopub.status.busy": "2021-06-22T14:04:37.941072Z",
     "iopub.status.idle": "2021-06-22T14:04:39.087479Z",
     "shell.execute_reply": "2021-06-22T14:04:39.088445Z",
     "shell.execute_reply.started": "2021-06-22T12:19:32.791862Z"
    },
    "papermill": {
     "duration": 1.257901,
     "end_time": "2021-06-22T14:04:39.088674",
     "exception": false,
     "start_time": "2021-06-22T14:04:37.830773",
     "status": "completed"
    },
    "tags": []
   },
   "outputs": [
    {
     "name": "stdout",
     "output_type": "stream",
     "text": [
      "Validation Score for CountVectorizer(1,1): 0.8173723680563298\n"
     ]
    }
   ],
   "source": [
    "model = make_pipeline(\n",
    "    CountVectorizer(ngram_range=(1,1)),\n",
    "    LinearRegression(),\n",
    ")\n",
    "\n",
    "model.fit(x_train,y_train)\n",
    "\n",
    "val_score = cross_val_score(\n",
    "    model, \n",
    "    x_test, \n",
    "    y_test, \n",
    "    scoring=rmse_loss\n",
    ").mean()\n",
    "\n",
    "print(f'Validation Score for CountVectorizer(1,1): {val_score}')"
   ]
  },
  {
   "cell_type": "code",
   "execution_count": 52,
   "id": "useful-lebanon",
   "metadata": {
    "execution": {
     "iopub.execute_input": "2021-06-22T14:04:39.327161Z",
     "iopub.status.busy": "2021-06-22T14:04:39.326503Z",
     "iopub.status.idle": "2021-06-22T14:04:39.329309Z",
     "shell.execute_reply": "2021-06-22T14:04:39.328878Z",
     "shell.execute_reply.started": "2021-06-22T12:19:33.976452Z"
    },
    "papermill": {
     "duration": 0.099939,
     "end_time": "2021-06-22T14:04:39.329414",
     "exception": false,
     "start_time": "2021-06-22T14:04:39.229475",
     "status": "completed"
    },
    "tags": []
   },
   "outputs": [],
   "source": [
    "test_predict=model.predict(df_test['excerpt_clean'])"
   ]
  },
  {
   "cell_type": "code",
   "execution_count": 53,
   "id": "sexual-andorra",
   "metadata": {
    "execution": {
     "iopub.execute_input": "2021-06-22T14:04:39.519181Z",
     "iopub.status.busy": "2021-06-22T14:04:39.518510Z",
     "iopub.status.idle": "2021-06-22T14:04:39.521560Z",
     "shell.execute_reply": "2021-06-22T14:04:39.521987Z",
     "shell.execute_reply.started": "2021-06-22T12:19:33.984609Z"
    },
    "papermill": {
     "duration": 0.100172,
     "end_time": "2021-06-22T14:04:39.522105",
     "exception": false,
     "start_time": "2021-06-22T14:04:39.421933",
     "status": "completed"
    },
    "tags": []
   },
   "outputs": [
    {
     "data": {
      "text/plain": [
       "array([-2.0930562 , -0.45901579, -0.59291768, -1.632414  , -1.26831063,\n",
       "       -0.80590504,  0.2291972 ])"
      ]
     },
     "execution_count": 53,
     "metadata": {},
     "output_type": "execute_result"
    }
   ],
   "source": [
    "test_predict"
   ]
  },
  {
   "cell_type": "code",
   "execution_count": 54,
   "id": "sudden-geography",
   "metadata": {
    "execution": {
     "iopub.execute_input": "2021-06-22T14:04:39.721880Z",
     "iopub.status.busy": "2021-06-22T14:04:39.720977Z",
     "iopub.status.idle": "2021-06-22T14:04:39.724375Z",
     "shell.execute_reply": "2021-06-22T14:04:39.724734Z",
     "shell.execute_reply.started": "2021-06-22T12:19:33.996936Z"
    },
    "papermill": {
     "duration": 0.109046,
     "end_time": "2021-06-22T14:04:39.724865",
     "exception": false,
     "start_time": "2021-06-22T14:04:39.615819",
     "status": "completed"
    },
    "tags": []
   },
   "outputs": [
    {
     "data": {
      "text/html": [
       "<div>\n",
       "<style scoped>\n",
       "    .dataframe tbody tr th:only-of-type {\n",
       "        vertical-align: middle;\n",
       "    }\n",
       "\n",
       "    .dataframe tbody tr th {\n",
       "        vertical-align: top;\n",
       "    }\n",
       "\n",
       "    .dataframe thead th {\n",
       "        text-align: right;\n",
       "    }\n",
       "</style>\n",
       "<table border=\"1\" class=\"dataframe\">\n",
       "  <thead>\n",
       "    <tr style=\"text-align: right;\">\n",
       "      <th></th>\n",
       "      <th>id</th>\n",
       "      <th>url_legal</th>\n",
       "      <th>license</th>\n",
       "      <th>excerpt</th>\n",
       "      <th>excerpt_clean</th>\n",
       "      <th>excerpt_clean_Stem</th>\n",
       "      <th>excerpt_clean_Lemm</th>\n",
       "    </tr>\n",
       "  </thead>\n",
       "  <tbody>\n",
       "    <tr>\n",
       "      <th>0</th>\n",
       "      <td>c0f722661</td>\n",
       "      <td>NaN</td>\n",
       "      <td>NaN</td>\n",
       "      <td>My hope lay in Jack's promise that he would ke...</td>\n",
       "      <td>hope lay jack promise bright light burning u...</td>\n",
       "      <td>hope lay jack promis bright light burn upper...</td>\n",
       "      <td>hope lay jack promise bright light burn u...</td>\n",
       "    </tr>\n",
       "    <tr>\n",
       "      <th>1</th>\n",
       "      <td>f0953f0a5</td>\n",
       "      <td>NaN</td>\n",
       "      <td>NaN</td>\n",
       "      <td>Dotty continued to go to Mrs. Gray's every nig...</td>\n",
       "      <td>dotty continued mrs  gray night milk  katie ...</td>\n",
       "      <td>dotti continu mrs gray night milk kati went ...</td>\n",
       "      <td>dotty continue mrs   gray night milk   ka...</td>\n",
       "    </tr>\n",
       "    <tr>\n",
       "      <th>2</th>\n",
       "      <td>0df072751</td>\n",
       "      <td>NaN</td>\n",
       "      <td>NaN</td>\n",
       "      <td>It was a bright and cheerful scene that greete...</td>\n",
       "      <td>bright cheerful scene greeted eyes captain r...</td>\n",
       "      <td>bright cheer scene greet eye captain raymond...</td>\n",
       "      <td>bright cheerful scene greet eye captain r...</td>\n",
       "    </tr>\n",
       "    <tr>\n",
       "      <th>3</th>\n",
       "      <td>04caf4e0c</td>\n",
       "      <td>https://en.wikipedia.org/wiki/Cell_division</td>\n",
       "      <td>CC BY-SA 3.0</td>\n",
       "      <td>Cell division is the process by which a parent...</td>\n",
       "      <td>cell division process parent cell divides da...</td>\n",
       "      <td>cell divis process parent cell divid daughte...</td>\n",
       "      <td>cell division process parent cell divide ...</td>\n",
       "    </tr>\n",
       "    <tr>\n",
       "      <th>4</th>\n",
       "      <td>0e63f8bea</td>\n",
       "      <td>https://en.wikipedia.org/wiki/Debugging</td>\n",
       "      <td>CC BY-SA 3.0</td>\n",
       "      <td>Debugging is the process of finding and resolv...</td>\n",
       "      <td>debugging process finding resolving defects ...</td>\n",
       "      <td>debug process find resolv defect prevent cor...</td>\n",
       "      <td>debugging process find resolve defect pre...</td>\n",
       "    </tr>\n",
       "    <tr>\n",
       "      <th>5</th>\n",
       "      <td>12537fe78</td>\n",
       "      <td>NaN</td>\n",
       "      <td>NaN</td>\n",
       "      <td>To explain transitivity, let us look first at ...</td>\n",
       "      <td>explain transitivity  let look totally diffe...</td>\n",
       "      <td>explain transit let look total differ exampl...</td>\n",
       "      <td>explain transitivity   let look totally d...</td>\n",
       "    </tr>\n",
       "    <tr>\n",
       "      <th>6</th>\n",
       "      <td>965e592c0</td>\n",
       "      <td>https://www.africanstorybook.org/#</td>\n",
       "      <td>CC BY 4.0</td>\n",
       "      <td>Milka and John are playing in the garden. Her ...</td>\n",
       "      <td>milka john playing garden  little sister pla...</td>\n",
       "      <td>milka john play garden littl sister play mil...</td>\n",
       "      <td>milka john play garden   little sister pl...</td>\n",
       "    </tr>\n",
       "  </tbody>\n",
       "</table>\n",
       "</div>"
      ],
      "text/plain": [
       "          id                                    url_legal       license  \\\n",
       "0  c0f722661                                          NaN           NaN   \n",
       "1  f0953f0a5                                          NaN           NaN   \n",
       "2  0df072751                                          NaN           NaN   \n",
       "3  04caf4e0c  https://en.wikipedia.org/wiki/Cell_division  CC BY-SA 3.0   \n",
       "4  0e63f8bea      https://en.wikipedia.org/wiki/Debugging  CC BY-SA 3.0   \n",
       "5  12537fe78                                          NaN           NaN   \n",
       "6  965e592c0           https://www.africanstorybook.org/#     CC BY 4.0   \n",
       "\n",
       "                                             excerpt  \\\n",
       "0  My hope lay in Jack's promise that he would ke...   \n",
       "1  Dotty continued to go to Mrs. Gray's every nig...   \n",
       "2  It was a bright and cheerful scene that greete...   \n",
       "3  Cell division is the process by which a parent...   \n",
       "4  Debugging is the process of finding and resolv...   \n",
       "5  To explain transitivity, let us look first at ...   \n",
       "6  Milka and John are playing in the garden. Her ...   \n",
       "\n",
       "                                       excerpt_clean  \\\n",
       "0    hope lay jack promise bright light burning u...   \n",
       "1    dotty continued mrs  gray night milk  katie ...   \n",
       "2    bright cheerful scene greeted eyes captain r...   \n",
       "3    cell division process parent cell divides da...   \n",
       "4    debugging process finding resolving defects ...   \n",
       "5    explain transitivity  let look totally diffe...   \n",
       "6    milka john playing garden  little sister pla...   \n",
       "\n",
       "                                  excerpt_clean_Stem  \\\n",
       "0    hope lay jack promis bright light burn upper...   \n",
       "1    dotti continu mrs gray night milk kati went ...   \n",
       "2    bright cheer scene greet eye captain raymond...   \n",
       "3    cell divis process parent cell divid daughte...   \n",
       "4    debug process find resolv defect prevent cor...   \n",
       "5    explain transit let look total differ exampl...   \n",
       "6    milka john play garden littl sister play mil...   \n",
       "\n",
       "                                  excerpt_clean_Lemm  \n",
       "0       hope lay jack promise bright light burn u...  \n",
       "1       dotty continue mrs   gray night milk   ka...  \n",
       "2       bright cheerful scene greet eye captain r...  \n",
       "3       cell division process parent cell divide ...  \n",
       "4       debugging process find resolve defect pre...  \n",
       "5       explain transitivity   let look totally d...  \n",
       "6       milka john play garden   little sister pl...  "
      ]
     },
     "execution_count": 54,
     "metadata": {},
     "output_type": "execute_result"
    }
   ],
   "source": [
    "df_test"
   ]
  },
  {
   "cell_type": "code",
   "execution_count": 55,
   "id": "reverse-rendering",
   "metadata": {
    "execution": {
     "iopub.execute_input": "2021-06-22T14:04:39.915099Z",
     "iopub.status.busy": "2021-06-22T14:04:39.914418Z",
     "iopub.status.idle": "2021-06-22T14:04:39.917188Z",
     "shell.execute_reply": "2021-06-22T14:04:39.916770Z",
     "shell.execute_reply.started": "2021-06-22T12:19:34.020466Z"
    },
    "papermill": {
     "duration": 0.099541,
     "end_time": "2021-06-22T14:04:39.917312",
     "exception": false,
     "start_time": "2021-06-22T14:04:39.817771",
     "status": "completed"
    },
    "tags": []
   },
   "outputs": [],
   "source": [
    "df_submission['target']=test_predict"
   ]
  },
  {
   "cell_type": "code",
   "execution_count": 56,
   "id": "received-withdrawal",
   "metadata": {
    "execution": {
     "iopub.execute_input": "2021-06-22T14:04:40.108108Z",
     "iopub.status.busy": "2021-06-22T14:04:40.107629Z",
     "iopub.status.idle": "2021-06-22T14:04:40.113556Z",
     "shell.execute_reply": "2021-06-22T14:04:40.113093Z",
     "shell.execute_reply.started": "2021-06-22T12:19:34.027913Z"
    },
    "papermill": {
     "duration": 0.103403,
     "end_time": "2021-06-22T14:04:40.113662",
     "exception": false,
     "start_time": "2021-06-22T14:04:40.010259",
     "status": "completed"
    },
    "tags": []
   },
   "outputs": [],
   "source": [
    "df_submission.to_csv('submission.csv',index=False)"
   ]
  },
  {
   "cell_type": "markdown",
   "id": "vocal-baker",
   "metadata": {
    "papermill": {
     "duration": 0.092803,
     "end_time": "2021-06-22T14:04:40.299639",
     "exception": false,
     "start_time": "2021-06-22T14:04:40.206836",
     "status": "completed"
    },
    "tags": []
   },
   "source": [
    "### Bigram"
   ]
  },
  {
   "cell_type": "code",
   "execution_count": 57,
   "id": "protective-frank",
   "metadata": {
    "execution": {
     "iopub.execute_input": "2021-06-22T14:04:40.523449Z",
     "iopub.status.busy": "2021-06-22T14:04:40.518316Z",
     "iopub.status.idle": "2021-06-22T14:04:46.223536Z",
     "shell.execute_reply": "2021-06-22T14:04:46.224029Z",
     "shell.execute_reply.started": "2021-06-22T12:19:34.042048Z"
    },
    "papermill": {
     "duration": 5.831769,
     "end_time": "2021-06-22T14:04:46.224177",
     "exception": false,
     "start_time": "2021-06-22T14:04:40.392408",
     "status": "completed"
    },
    "tags": []
   },
   "outputs": [
    {
     "name": "stdout",
     "output_type": "stream",
     "text": [
      "Validation Score for CountVectorizer(2,2): 1.0042532166501597\n",
      "Validation Score for CountVectorizer(2,2): 0.9986069671073154\n",
      "Validation Score for CountVectorizer(2,2): 0.9951409121688082\n"
     ]
    }
   ],
   "source": [
    "model = make_pipeline(\n",
    "    CountVectorizer(ngram_range=(2,2)),\n",
    "    LinearRegression(),\n",
    ")\n",
    "\n",
    "model.fit(x_train,y_train)\n",
    "\n",
    "val_score = cross_val_score(\n",
    "    model, \n",
    "    x_test, \n",
    "    y_test, \n",
    "    scoring=rmse_loss\n",
    ").mean()\n",
    "\n",
    "print(f'Validation Score for CountVectorizer(2,2): {val_score}')\n",
    "\n",
    "model_Stem = make_pipeline(\n",
    "    CountVectorizer(ngram_range=(2,2)),\n",
    "    LinearRegression(),\n",
    ")\n",
    "\n",
    "model_Stem.fit(x_train_Stem,y_train_Stem)\n",
    "\n",
    "val_score_Stem = cross_val_score(\n",
    "    model, \n",
    "    x_test_Stem, \n",
    "    y_test_Stem, \n",
    "    scoring=rmse_loss\n",
    ").mean()\n",
    "\n",
    "print(f'Validation Score for CountVectorizer(2,2): {val_score_Stem}')\n",
    "\n",
    "model_Lemm = make_pipeline(\n",
    "    CountVectorizer(ngram_range=(2,2)),\n",
    "    LinearRegression(),\n",
    ")\n",
    "\n",
    "model_Lemm.fit(x_train_Lemm,y_train_Lemm)\n",
    "\n",
    "val_score_Lemm = cross_val_score(\n",
    "    model, \n",
    "    x_test_Lemm, \n",
    "    y_test_Lemm, \n",
    "    scoring=rmse_loss\n",
    ").mean()\n",
    "\n",
    "print(f'Validation Score for CountVectorizer(2,2): {val_score_Lemm}')"
   ]
  },
  {
   "cell_type": "markdown",
   "id": "convinced-taxation",
   "metadata": {
    "papermill": {
     "duration": 0.093943,
     "end_time": "2021-06-22T14:04:46.458271",
     "exception": false,
     "start_time": "2021-06-22T14:04:46.364328",
     "status": "completed"
    },
    "tags": []
   },
   "source": [
    "### Trigram"
   ]
  },
  {
   "cell_type": "code",
   "execution_count": 58,
   "id": "junior-trader",
   "metadata": {
    "execution": {
     "iopub.execute_input": "2021-06-22T14:04:46.688295Z",
     "iopub.status.busy": "2021-06-22T14:04:46.684326Z",
     "iopub.status.idle": "2021-06-22T14:04:52.298725Z",
     "shell.execute_reply": "2021-06-22T14:04:52.299382Z"
    },
    "papermill": {
     "duration": 5.747656,
     "end_time": "2021-06-22T14:04:52.299629",
     "exception": false,
     "start_time": "2021-06-22T14:04:46.551973",
     "status": "completed"
    },
    "tags": []
   },
   "outputs": [
    {
     "name": "stdout",
     "output_type": "stream",
     "text": [
      "Validation Score for CountVectorizer(3,3): 1.0266762588997191\n",
      "Validation Score for CountVectorizer(3,3): 1.026621647436598\n",
      "Validation Score for CountVectorizer(3,3): 1.026378372109817\n"
     ]
    }
   ],
   "source": [
    "model = make_pipeline(\n",
    "    CountVectorizer(ngram_range=(3,3)),\n",
    "    LinearRegression(),\n",
    ")\n",
    "\n",
    "model.fit(x_train,y_train)\n",
    "\n",
    "val_score = cross_val_score(\n",
    "    model, \n",
    "    x_test, \n",
    "    y_test, \n",
    "    scoring=rmse_loss\n",
    ").mean()\n",
    "\n",
    "print(f'Validation Score for CountVectorizer(3,3): {val_score}')\n",
    "\n",
    "model_Stem = make_pipeline(\n",
    "    CountVectorizer(ngram_range=(3,3)),\n",
    "    LinearRegression(),\n",
    ")\n",
    "\n",
    "model_Stem.fit(x_train_Stem,y_train_Stem)\n",
    "\n",
    "val_score_Stem = cross_val_score(\n",
    "    model, \n",
    "    x_test_Stem, \n",
    "    y_test_Stem, \n",
    "    scoring=rmse_loss\n",
    ").mean()\n",
    "\n",
    "print(f'Validation Score for CountVectorizer(3,3): {val_score_Stem}')\n",
    "\n",
    "model_Lemm = make_pipeline(\n",
    "    CountVectorizer(ngram_range=(3,3)),\n",
    "    LinearRegression(),\n",
    ")\n",
    "\n",
    "model_Lemm.fit(x_train_Lemm,y_train_Lemm)\n",
    "\n",
    "val_score_Lemm = cross_val_score(\n",
    "    model, \n",
    "    x_test_Lemm, \n",
    "    y_test_Lemm, \n",
    "    scoring=rmse_loss\n",
    ").mean()\n",
    "\n",
    "print(f'Validation Score for CountVectorizer(3,3): {val_score_Lemm}')"
   ]
  },
  {
   "cell_type": "markdown",
   "id": "comprehensive-income",
   "metadata": {
    "papermill": {
     "duration": 0.094476,
     "end_time": "2021-06-22T14:04:52.535209",
     "exception": false,
     "start_time": "2021-06-22T14:04:52.440733",
     "status": "completed"
    },
    "tags": []
   },
   "source": [
    "# Uni + Bi-Gram"
   ]
  },
  {
   "cell_type": "code",
   "execution_count": 59,
   "id": "violent-minority",
   "metadata": {
    "execution": {
     "iopub.execute_input": "2021-06-22T14:04:52.781075Z",
     "iopub.status.busy": "2021-06-22T14:04:52.765781Z",
     "iopub.status.idle": "2021-06-22T14:05:01.015877Z",
     "shell.execute_reply": "2021-06-22T14:05:01.016427Z"
    },
    "papermill": {
     "duration": 8.386874,
     "end_time": "2021-06-22T14:05:01.016661",
     "exception": false,
     "start_time": "2021-06-22T14:04:52.629787",
     "status": "completed"
    },
    "tags": []
   },
   "outputs": [
    {
     "name": "stdout",
     "output_type": "stream",
     "text": [
      "Validation Score for CountVectorizer(1,2): 0.8183749611703135\n",
      "Validation Score for CountVectorizer(1,2): 0.8094100774242724\n",
      "Validation Score for CountVectorizer(1,2): 0.8060286864864352\n"
     ]
    }
   ],
   "source": [
    "model = make_pipeline(\n",
    "    CountVectorizer(ngram_range=(1,2)),\n",
    "    LinearRegression(),\n",
    ")\n",
    "\n",
    "model.fit(x_train,y_train)\n",
    "\n",
    "val_score = cross_val_score(\n",
    "    model, \n",
    "    x_test, \n",
    "    y_test, \n",
    "    scoring=rmse_loss\n",
    ").mean()\n",
    "\n",
    "print(f'Validation Score for CountVectorizer(1,2): {val_score}')\n",
    "\n",
    "model_Stem = make_pipeline(\n",
    "    CountVectorizer(ngram_range=(1,2)),\n",
    "    LinearRegression(),\n",
    ")\n",
    "\n",
    "model_Stem.fit(x_train_Stem,y_train_Stem)\n",
    "\n",
    "val_score_Stem = cross_val_score(\n",
    "    model, \n",
    "    x_test_Stem, \n",
    "    y_test_Stem, \n",
    "    scoring=rmse_loss\n",
    ").mean()\n",
    "\n",
    "print(f'Validation Score for CountVectorizer(1,2): {val_score_Stem}')\n",
    "\n",
    "model_Lemm = make_pipeline(\n",
    "    CountVectorizer(ngram_range=(1,2)),\n",
    "    LinearRegression(),\n",
    ")\n",
    "\n",
    "model_Lemm.fit(x_train_Lemm,y_train_Lemm)\n",
    "\n",
    "val_score_Lemm = cross_val_score(\n",
    "    model, \n",
    "    x_test_Lemm, \n",
    "    y_test_Lemm, \n",
    "    scoring=rmse_loss\n",
    ").mean()\n",
    "\n",
    "print(f'Validation Score for CountVectorizer(1,2): {val_score_Lemm}')"
   ]
  },
  {
   "cell_type": "markdown",
   "id": "described-shore",
   "metadata": {
    "papermill": {
     "duration": 0.095731,
     "end_time": "2021-06-22T14:05:01.248226",
     "exception": false,
     "start_time": "2021-06-22T14:05:01.152495",
     "status": "completed"
    },
    "tags": []
   },
   "source": [
    "### 1+2+3-Gram"
   ]
  },
  {
   "cell_type": "code",
   "execution_count": 60,
   "id": "bottom-copyright",
   "metadata": {
    "execution": {
     "iopub.execute_input": "2021-06-22T14:05:01.498005Z",
     "iopub.status.busy": "2021-06-22T14:05:01.487799Z",
     "iopub.status.idle": "2021-06-22T14:05:14.288620Z",
     "shell.execute_reply": "2021-06-22T14:05:14.289047Z"
    },
    "papermill": {
     "duration": 12.945807,
     "end_time": "2021-06-22T14:05:14.289227",
     "exception": false,
     "start_time": "2021-06-22T14:05:01.343420",
     "status": "completed"
    },
    "tags": []
   },
   "outputs": [
    {
     "name": "stdout",
     "output_type": "stream",
     "text": [
      "Validation Score for CountVectorizer(1,3): 0.8326488354410765\n",
      "Validation Score for CountVectorizer(1,3): 0.819563715591015\n",
      "Validation Score for CountVectorizer(1,3): 0.815442972273687\n"
     ]
    }
   ],
   "source": [
    "model = make_pipeline(\n",
    "    CountVectorizer(ngram_range=(1,3)),\n",
    "    LinearRegression(),\n",
    ")\n",
    "\n",
    "model.fit(x_train,y_train)\n",
    "\n",
    "val_score = cross_val_score(\n",
    "    model, \n",
    "    x_test, \n",
    "    y_test, \n",
    "    scoring=rmse_loss\n",
    ").mean()\n",
    "\n",
    "print(f'Validation Score for CountVectorizer(1,3): {val_score}')\n",
    "\n",
    "model_Stem = make_pipeline(\n",
    "    CountVectorizer(ngram_range=(1,3)),\n",
    "    LinearRegression(),\n",
    ")\n",
    "\n",
    "model_Stem.fit(x_train_Stem,y_train_Stem)\n",
    "\n",
    "val_score_Stem = cross_val_score(\n",
    "    model, \n",
    "    x_test_Stem, \n",
    "    y_test_Stem, \n",
    "    scoring=rmse_loss\n",
    ").mean()\n",
    "\n",
    "print(f'Validation Score for CountVectorizer(1,3): {val_score_Stem}')\n",
    "\n",
    "model_Lemm = make_pipeline(\n",
    "    CountVectorizer(ngram_range=(1,3)),\n",
    "    LinearRegression(),\n",
    ")\n",
    "\n",
    "model_Lemm.fit(x_train_Lemm,y_train_Lemm)\n",
    "\n",
    "val_score_Lemm = cross_val_score(\n",
    "    model, \n",
    "    x_test_Lemm, \n",
    "    y_test_Lemm, \n",
    "    scoring=rmse_loss\n",
    ").mean()\n",
    "\n",
    "print(f'Validation Score for CountVectorizer(1,3): {val_score_Lemm}')"
   ]
  },
  {
   "cell_type": "markdown",
   "id": "innovative-challenge",
   "metadata": {
    "papermill": {
     "duration": 0.09854,
     "end_time": "2021-06-22T14:05:14.515210",
     "exception": false,
     "start_time": "2021-06-22T14:05:14.416670",
     "status": "completed"
    },
    "tags": []
   },
   "source": [
    "### Bi-Gram + Tri-Gram"
   ]
  },
  {
   "cell_type": "code",
   "execution_count": 61,
   "id": "central-liverpool",
   "metadata": {
    "execution": {
     "iopub.execute_input": "2021-06-22T14:05:14.762710Z",
     "iopub.status.busy": "2021-06-22T14:05:14.752536Z",
     "iopub.status.idle": "2021-06-22T14:05:25.226890Z",
     "shell.execute_reply": "2021-06-22T14:05:25.227812Z"
    },
    "papermill": {
     "duration": 10.615194,
     "end_time": "2021-06-22T14:05:25.228121",
     "exception": false,
     "start_time": "2021-06-22T14:05:14.612927",
     "status": "completed"
    },
    "tags": []
   },
   "outputs": [
    {
     "name": "stdout",
     "output_type": "stream",
     "text": [
      "Validation Score for CountVectorizer(2,3): 1.0138428926543201\n",
      "Validation Score for CountVectorizer(2,3): 1.0106584853241898\n",
      "Validation Score for CountVectorizer(2,3): 1.0085349377242465\n"
     ]
    }
   ],
   "source": [
    "model = make_pipeline(\n",
    "    CountVectorizer(ngram_range=(2,3)),\n",
    "    LinearRegression(),\n",
    ")\n",
    "\n",
    "model.fit(x_train,y_train)\n",
    "\n",
    "val_score = cross_val_score(\n",
    "    model, \n",
    "    x_test, \n",
    "    y_test, \n",
    "    scoring=rmse_loss\n",
    ").mean()\n",
    "\n",
    "print(f'Validation Score for CountVectorizer(2,3): {val_score}')\n",
    "\n",
    "model_Stem = make_pipeline(\n",
    "    CountVectorizer(ngram_range=(2,3)),\n",
    "    LinearRegression(),\n",
    ")\n",
    "\n",
    "model_Stem.fit(x_train_Stem,y_train_Stem)\n",
    "\n",
    "val_score_Stem = cross_val_score(\n",
    "    model, \n",
    "    x_test_Stem, \n",
    "    y_test_Stem, \n",
    "    scoring=rmse_loss\n",
    ").mean()\n",
    "\n",
    "print(f'Validation Score for CountVectorizer(2,3): {val_score_Stem}')\n",
    "\n",
    "model_Lemm = make_pipeline(\n",
    "    CountVectorizer(ngram_range=(2,3)),\n",
    "    LinearRegression(),\n",
    ")\n",
    "\n",
    "model_Lemm.fit(x_train_Lemm,y_train_Lemm)\n",
    "\n",
    "val_score_Lemm = cross_val_score(\n",
    "    model, \n",
    "    x_test_Lemm, \n",
    "    y_test_Lemm, \n",
    "    scoring=rmse_loss\n",
    ").mean()\n",
    "\n",
    "print(f'Validation Score for CountVectorizer(2,3): {val_score_Lemm}')"
   ]
  },
  {
   "cell_type": "markdown",
   "id": "renewable-isaac",
   "metadata": {
    "papermill": {
     "duration": 0.097521,
     "end_time": "2021-06-22T14:05:25.473288",
     "exception": false,
     "start_time": "2021-06-22T14:05:25.375767",
     "status": "completed"
    },
    "tags": []
   },
   "source": [
    "## XGBoost"
   ]
  },
  {
   "cell_type": "code",
   "execution_count": 62,
   "id": "neutral-transparency",
   "metadata": {
    "execution": {
     "iopub.execute_input": "2021-06-22T14:05:25.722432Z",
     "iopub.status.busy": "2021-06-22T14:05:25.717340Z",
     "iopub.status.idle": "2021-06-22T14:05:49.316055Z",
     "shell.execute_reply": "2021-06-22T14:05:49.316754Z"
    },
    "papermill": {
     "duration": 23.746673,
     "end_time": "2021-06-22T14:05:49.316928",
     "exception": false,
     "start_time": "2021-06-22T14:05:25.570255",
     "status": "completed"
    },
    "tags": []
   },
   "outputs": [
    {
     "name": "stdout",
     "output_type": "stream",
     "text": [
      "Validation Score for CountVectorizer(1,1): 0.9029546016387293\n",
      "Validation Score for CountVectorizer(1,1): 0.9106696759986457\n",
      "Validation Score for CountVectorizer(1,1): 0.8931722726562956\n"
     ]
    }
   ],
   "source": [
    "model = make_pipeline(\n",
    "    CountVectorizer(ngram_range=(1,1)),\n",
    "    xgb.XGBRegressor() ,\n",
    ")\n",
    "\n",
    "model.fit(x_train,y_train)\n",
    "\n",
    "val_score = cross_val_score(\n",
    "    model, \n",
    "    x_test, \n",
    "    y_test, \n",
    "    scoring=rmse_loss\n",
    ").mean()\n",
    "\n",
    "print(f'Validation Score for CountVectorizer(1,1): {val_score}')\n",
    "\n",
    "model = make_pipeline(\n",
    "    CountVectorizer(ngram_range=(1,1)),\n",
    "    xgb.XGBRegressor() ,\n",
    ")\n",
    "\n",
    "model.fit(x_train_Stem,y_train_Stem)\n",
    "\n",
    "val_score = cross_val_score(\n",
    "    model, \n",
    "    x_test_Stem, \n",
    "    y_test_Stem, \n",
    "    scoring=rmse_loss\n",
    ").mean()\n",
    "\n",
    "print(f'Validation Score for CountVectorizer(1,1): {val_score}')\n",
    "\n",
    "model = make_pipeline(\n",
    "    CountVectorizer(ngram_range=(1,1)),\n",
    "    xgb.XGBRegressor() ,\n",
    ")\n",
    "\n",
    "model.fit(x_train_Lemm,y_train_Lemm)\n",
    "\n",
    "val_score = cross_val_score(\n",
    "    model, \n",
    "    x_test_Lemm, \n",
    "    y_test_Lemm, \n",
    "    scoring=rmse_loss\n",
    ").mean()\n",
    "\n",
    "print(f'Validation Score for CountVectorizer(1,1): {val_score}')"
   ]
  },
  {
   "cell_type": "code",
   "execution_count": 63,
   "id": "pleased-advancement",
   "metadata": {
    "execution": {
     "iopub.execute_input": "2021-06-22T14:05:49.547069Z",
     "iopub.status.busy": "2021-06-22T14:05:49.531579Z",
     "iopub.status.idle": "2021-06-22T14:07:18.497571Z",
     "shell.execute_reply": "2021-06-22T14:07:18.497976Z"
    },
    "papermill": {
     "duration": 89.073503,
     "end_time": "2021-06-22T14:07:18.498121",
     "exception": false,
     "start_time": "2021-06-22T14:05:49.424618",
     "status": "completed"
    },
    "tags": []
   },
   "outputs": [
    {
     "name": "stdout",
     "output_type": "stream",
     "text": [
      "Validation Score for CountVectorizer(1,2): 0.9010397960902132\n",
      "Validation Score for CountVectorizer(1,2): 0.9019893714349505\n",
      "Validation Score for CountVectorizer(1,2): 0.8869524412462099\n"
     ]
    }
   ],
   "source": [
    "model = make_pipeline(\n",
    "    CountVectorizer(ngram_range=(1,2)),\n",
    "    xgb.XGBRegressor() ,\n",
    ")\n",
    "\n",
    "model.fit(x_train,y_train)\n",
    "\n",
    "val_score = cross_val_score(\n",
    "    model, \n",
    "    x_test, \n",
    "    y_test, \n",
    "    scoring=rmse_loss\n",
    ").mean()\n",
    "\n",
    "print(f'Validation Score for CountVectorizer(1,2): {val_score}')\n",
    "\n",
    "model = make_pipeline(\n",
    "    CountVectorizer(ngram_range=(1,2)),\n",
    "    xgb.XGBRegressor() ,\n",
    ")\n",
    "\n",
    "model.fit(x_train_Stem,y_train_Stem)\n",
    "\n",
    "val_score = cross_val_score(\n",
    "    model, \n",
    "    x_test_Stem, \n",
    "    y_test_Stem, \n",
    "    scoring=rmse_loss\n",
    ").mean()\n",
    "\n",
    "print(f'Validation Score for CountVectorizer(1,2): {val_score}')\n",
    "\n",
    "model = make_pipeline(\n",
    "    CountVectorizer(ngram_range=(1,2)),\n",
    "    xgb.XGBRegressor() ,\n",
    ")\n",
    "\n",
    "model.fit(x_train_Lemm,y_train_Lemm)\n",
    "\n",
    "val_score = cross_val_score(\n",
    "    model, \n",
    "    x_test_Lemm, \n",
    "    y_test_Lemm, \n",
    "    scoring=rmse_loss\n",
    ").mean()\n",
    "\n",
    "print(f'Validation Score for CountVectorizer(1,2): {val_score}')"
   ]
  },
  {
   "cell_type": "code",
   "execution_count": 64,
   "id": "chief-popularity",
   "metadata": {
    "execution": {
     "iopub.execute_input": "2021-06-22T14:07:18.710929Z",
     "iopub.status.busy": "2021-06-22T14:07:18.710165Z",
     "iopub.status.idle": "2021-06-22T14:10:09.719737Z",
     "shell.execute_reply": "2021-06-22T14:10:09.720142Z"
    },
    "papermill": {
     "duration": 171.124121,
     "end_time": "2021-06-22T14:10:09.720308",
     "exception": false,
     "start_time": "2021-06-22T14:07:18.596187",
     "status": "completed"
    },
    "tags": []
   },
   "outputs": [
    {
     "name": "stdout",
     "output_type": "stream",
     "text": [
      "Validation Score for CountVectorizer(1,3): 0.9010397960902132\n",
      "Validation Score for CountVectorizer(1,3): 0.905777775690729\n",
      "Validation Score for CountVectorizer(1,3): 0.8835930243872518\n"
     ]
    }
   ],
   "source": [
    "model = make_pipeline(\n",
    "    CountVectorizer(ngram_range=(1,3)),\n",
    "    xgb.XGBRegressor() ,\n",
    ")\n",
    "\n",
    "model.fit(x_train,y_train)\n",
    "\n",
    "val_score = cross_val_score(\n",
    "    model, \n",
    "    x_test, \n",
    "    y_test, \n",
    "    scoring=rmse_loss\n",
    ").mean()\n",
    "\n",
    "print(f'Validation Score for CountVectorizer(1,3): {val_score}')\n",
    "\n",
    "model = make_pipeline(\n",
    "    CountVectorizer(ngram_range=(1,3)),\n",
    "    xgb.XGBRegressor() ,\n",
    ")\n",
    "\n",
    "model.fit(x_train_Stem,y_train_Stem)\n",
    "\n",
    "val_score = cross_val_score(\n",
    "    model, \n",
    "    x_test_Stem, \n",
    "    y_test_Stem, \n",
    "    scoring=rmse_loss\n",
    ").mean()\n",
    "\n",
    "print(f'Validation Score for CountVectorizer(1,3): {val_score}')\n",
    "\n",
    "model = make_pipeline(\n",
    "    CountVectorizer(ngram_range=(1,3)),\n",
    "    xgb.XGBRegressor() ,\n",
    ")\n",
    "\n",
    "model.fit(x_train_Lemm,y_train_Lemm)\n",
    "\n",
    "val_score = cross_val_score(\n",
    "    model, \n",
    "    x_test_Lemm, \n",
    "    y_test_Lemm, \n",
    "    scoring=rmse_loss\n",
    ").mean()\n",
    "\n",
    "print(f'Validation Score for CountVectorizer(1,3): {val_score}')"
   ]
  },
  {
   "cell_type": "code",
   "execution_count": 65,
   "id": "frequent-benjamin",
   "metadata": {
    "execution": {
     "iopub.execute_input": "2021-06-22T14:10:09.926243Z",
     "iopub.status.busy": "2021-06-22T14:10:09.925531Z",
     "iopub.status.idle": "2021-06-22T14:12:25.664561Z",
     "shell.execute_reply": "2021-06-22T14:12:25.664981Z"
    },
    "papermill": {
     "duration": 135.845239,
     "end_time": "2021-06-22T14:12:25.665132",
     "exception": false,
     "start_time": "2021-06-22T14:10:09.819893",
     "status": "completed"
    },
    "tags": []
   },
   "outputs": [
    {
     "name": "stdout",
     "output_type": "stream",
     "text": [
      "Validation Score for CountVectorizer(2,3): 1.0011173546547472\n",
      "Validation Score for CountVectorizer(2,3): 1.0057362734517235\n",
      "Validation Score for CountVectorizer(2,3): 0.9997696362894972\n"
     ]
    }
   ],
   "source": [
    "model = make_pipeline(\n",
    "    CountVectorizer(ngram_range=(2,3)),\n",
    "    xgb.XGBRegressor() ,\n",
    ")\n",
    "\n",
    "model.fit(x_train,y_train)\n",
    "\n",
    "val_score = cross_val_score(\n",
    "    model, \n",
    "    x_test, \n",
    "    y_test, \n",
    "    scoring=rmse_loss\n",
    ").mean()\n",
    "\n",
    "print(f'Validation Score for CountVectorizer(2,3): {val_score}')\n",
    "\n",
    "model = make_pipeline(\n",
    "    CountVectorizer(ngram_range=(2,3)),\n",
    "    xgb.XGBRegressor() ,\n",
    ")\n",
    "\n",
    "model.fit(x_train_Stem,y_train_Stem)\n",
    "\n",
    "val_score = cross_val_score(\n",
    "    model, \n",
    "    x_test_Stem, \n",
    "    y_test_Stem, \n",
    "    scoring=rmse_loss\n",
    ").mean()\n",
    "\n",
    "print(f'Validation Score for CountVectorizer(2,3): {val_score}')\n",
    "\n",
    "model = make_pipeline(\n",
    "    CountVectorizer(ngram_range=(2,3)),\n",
    "    xgb.XGBRegressor() ,\n",
    ")\n",
    "\n",
    "model.fit(x_train_Lemm,y_train_Lemm)\n",
    "\n",
    "val_score = cross_val_score(\n",
    "    model, \n",
    "    x_test_Lemm, \n",
    "    y_test_Lemm, \n",
    "    scoring=rmse_loss\n",
    ").mean()\n",
    "\n",
    "print(f'Validation Score for CountVectorizer(2,3): {val_score}')"
   ]
  },
  {
   "cell_type": "code",
   "execution_count": 66,
   "id": "emerging-fence",
   "metadata": {
    "execution": {
     "iopub.execute_input": "2021-06-22T14:12:25.883665Z",
     "iopub.status.busy": "2021-06-22T14:12:25.882891Z",
     "iopub.status.idle": "2021-06-22T14:12:25.885628Z",
     "shell.execute_reply": "2021-06-22T14:12:25.885174Z",
     "shell.execute_reply.started": "2021-06-22T12:29:49.654546Z"
    },
    "papermill": {
     "duration": 0.1147,
     "end_time": "2021-06-22T14:12:25.885760",
     "exception": false,
     "start_time": "2021-06-22T14:12:25.771060",
     "status": "completed"
    },
    "tags": []
   },
   "outputs": [],
   "source": [
    "def training_BOW(X_train, y_train, X_test, y_test, model_name, m,n):\n",
    "    t1 = time.time()\n",
    "    \n",
    "    model = make_pipeline(CountVectorizer(ngram_range=(m,n)),model_name)\n",
    "    model.fit(X_train, y_train)\n",
    "    y_pred = model.predict(X_test)\n",
    "    MSE = mse(y_test, y_pred)\n",
    "    rmse =np.sqrt(MSE)\n",
    "    t2 = time.time()\n",
    "    training_time = t2-t1 \n",
    "    \n",
    "    print(\"--- Model:\", model_name,\"---\")\n",
    "    print(\"MSE: \",MSE)\n",
    "    print(\"RMSE: \",rmse)\n",
    "    print(\"Training time:\",training_time)\n",
    "    print(\"\\n\")"
   ]
  },
  {
   "cell_type": "code",
   "execution_count": 67,
   "id": "amino-google",
   "metadata": {
    "execution": {
     "iopub.execute_input": "2021-06-22T14:12:26.146911Z",
     "iopub.status.busy": "2021-06-22T14:12:26.110958Z",
     "iopub.status.idle": "2021-06-22T14:12:38.774706Z",
     "shell.execute_reply": "2021-06-22T14:12:38.774271Z",
     "shell.execute_reply.started": "2021-06-22T12:30:48.751612Z"
    },
    "papermill": {
     "duration": 12.786731,
     "end_time": "2021-06-22T14:12:38.774825",
     "exception": false,
     "start_time": "2021-06-22T14:12:25.988094",
     "status": "completed"
    },
    "tags": []
   },
   "outputs": [
    {
     "name": "stdout",
     "output_type": "stream",
     "text": [
      "--- Model: XGBRegressor(base_score=0.5, booster='gbtree', colsample_bylevel=1,\n",
      "             colsample_bynode=1, colsample_bytree=1, gamma=0, gpu_id=-1,\n",
      "             importance_type='gain', interaction_constraints='',\n",
      "             learning_rate=0.300000012, max_delta_step=0, max_depth=6,\n",
      "             min_child_weight=1, missing=nan, monotone_constraints='()',\n",
      "             n_estimators=100, n_jobs=2, num_parallel_tree=1, random_state=0,\n",
      "             reg_alpha=0, reg_lambda=1, scale_pos_weight=1, subsample=1,\n",
      "             tree_method='exact', validate_parameters=1, verbosity=None) ---\n",
      "MSE:  0.7309346420970678\n",
      "RMSE:  0.8549471574881502\n",
      "Training time: 12.662652254104614\n",
      "\n",
      "\n"
     ]
    }
   ],
   "source": [
    "training_BOW(x_train_Lemm,y_train_Lemm,x_test_Lemm,y_test_Lemm,xgb.XGBRegressor(),1,2)"
   ]
  },
  {
   "cell_type": "code",
   "execution_count": 68,
   "id": "obvious-palace",
   "metadata": {
    "execution": {
     "iopub.execute_input": "2021-06-22T14:12:39.020523Z",
     "iopub.status.busy": "2021-06-22T14:12:39.000011Z",
     "iopub.status.idle": "2021-06-22T14:12:41.465545Z",
     "shell.execute_reply": "2021-06-22T14:12:41.466337Z",
     "shell.execute_reply.started": "2021-06-22T12:31:00.643115Z"
    },
    "papermill": {
     "duration": 2.590058,
     "end_time": "2021-06-22T14:12:41.466515",
     "exception": false,
     "start_time": "2021-06-22T14:12:38.876457",
     "status": "completed"
    },
    "tags": []
   },
   "outputs": [
    {
     "name": "stdout",
     "output_type": "stream",
     "text": [
      "--- Model: XGBRegressor(base_score=0.5, booster='gbtree', colsample_bylevel=1,\n",
      "             colsample_bynode=1, colsample_bytree=1, gamma=0, gpu_id=-1,\n",
      "             importance_type='gain', interaction_constraints='',\n",
      "             learning_rate=0.300000012, max_delta_step=0, max_depth=6,\n",
      "             min_child_weight=1, missing=nan, monotone_constraints='()',\n",
      "             n_estimators=100, n_jobs=2, num_parallel_tree=1, random_state=0,\n",
      "             reg_alpha=0, reg_lambda=1, scale_pos_weight=1, subsample=1,\n",
      "             tree_method='exact', validate_parameters=1, verbosity=None) ---\n",
      "MSE:  0.7130190501809234\n",
      "RMSE:  0.8444045536239861\n",
      "Training time: 2.475881576538086\n",
      "\n",
      "\n"
     ]
    }
   ],
   "source": [
    "training_BOW(x_train_Lemm,y_train_Lemm,x_test_Lemm,y_test_Lemm,xgb.XGBRegressor(),1,1)"
   ]
  },
  {
   "cell_type": "code",
   "execution_count": 69,
   "id": "spatial-liverpool",
   "metadata": {
    "execution": {
     "iopub.execute_input": "2021-06-22T14:12:41.728088Z",
     "iopub.status.busy": "2021-06-22T14:12:41.707574Z",
     "iopub.status.idle": "2021-06-22T14:13:06.570904Z",
     "shell.execute_reply": "2021-06-22T14:13:06.570453Z",
     "shell.execute_reply.started": "2021-06-22T12:29:50.277330Z"
    },
    "papermill": {
     "duration": 25.003006,
     "end_time": "2021-06-22T14:13:06.571027",
     "exception": false,
     "start_time": "2021-06-22T14:12:41.568021",
     "status": "completed"
    },
    "tags": []
   },
   "outputs": [
    {
     "name": "stdout",
     "output_type": "stream",
     "text": [
      "--- Model: XGBRegressor(base_score=0.5, booster='gbtree', colsample_bylevel=1,\n",
      "             colsample_bynode=1, colsample_bytree=1, gamma=0, gpu_id=-1,\n",
      "             importance_type='gain', interaction_constraints='',\n",
      "             learning_rate=0.300000012, max_delta_step=0, max_depth=6,\n",
      "             min_child_weight=1, missing=nan, monotone_constraints='()',\n",
      "             n_estimators=100, n_jobs=2, num_parallel_tree=1, random_state=0,\n",
      "             reg_alpha=0, reg_lambda=1, scale_pos_weight=1, subsample=1,\n",
      "             tree_method='exact', validate_parameters=1, verbosity=None) ---\n",
      "MSE:  0.7309346420970678\n",
      "RMSE:  0.8549471574881502\n",
      "Training time: 24.8683180809021\n",
      "\n",
      "\n"
     ]
    }
   ],
   "source": [
    "training_BOW(x_train_Lemm,y_train_Lemm,x_test_Lemm,y_test_Lemm,xgb.XGBRegressor(),1,3)"
   ]
  },
  {
   "cell_type": "markdown",
   "id": "vocational-luxembourg",
   "metadata": {
    "papermill": {
     "duration": 0.121939,
     "end_time": "2021-06-22T14:13:06.794337",
     "exception": false,
     "start_time": "2021-06-22T14:13:06.672398",
     "status": "completed"
    },
    "tags": []
   },
   "source": [
    "### TF-IDF\n",
    "\n",
    "TF-IDF (stands for Term-Frequency-Inverse-Document Frequency) weights down the common words occuring in almost all the documents and give more importance to the words that appear in a subset of documents. TF-IDF works by penalising these common words by assigning them lower weights while giving importance to some rare words in a particular document."
   ]
  },
  {
   "cell_type": "code",
   "execution_count": 70,
   "id": "complete-exclusive",
   "metadata": {
    "execution": {
     "iopub.execute_input": "2021-06-22T14:13:07.014839Z",
     "iopub.status.busy": "2021-06-22T14:13:07.014138Z",
     "iopub.status.idle": "2021-06-22T14:13:07.017507Z",
     "shell.execute_reply": "2021-06-22T14:13:07.017087Z",
     "shell.execute_reply.started": "2021-06-22T12:32:36.476012Z"
    },
    "papermill": {
     "duration": 0.110434,
     "end_time": "2021-06-22T14:13:07.017617",
     "exception": false,
     "start_time": "2021-06-22T14:13:06.907183",
     "status": "completed"
    },
    "tags": []
   },
   "outputs": [],
   "source": [
    "def training_TFIDF(X_train, y_train, X_test, y_test, model_name,ngram_range):\n",
    "    t1 = time.time()\n",
    "    \n",
    "    model = make_pipeline(TfidfVectorizer(binary=True, ngram_range=ngram_range),model_name)\n",
    "    model.fit(X_train, y_train)\n",
    "    y_pred = model.predict(X_test)\n",
    "    MSE = mse(y_test, y_pred)\n",
    "    rmse =np.sqrt(MSE)\n",
    "    t2 = time.time()\n",
    "    training_time = t2-t1 \n",
    "    \n",
    "    print(\"--- Model:\", model_name,\"---\")\n",
    "    print(\"MSE: \",MSE)\n",
    "    print(\"RMSE: \",rmse)\n",
    "    print(\"Training time:\",training_time)\n",
    "    print(\"\\n\")"
   ]
  },
  {
   "cell_type": "code",
   "execution_count": 71,
   "id": "compact-joshua",
   "metadata": {
    "execution": {
     "iopub.execute_input": "2021-06-22T14:13:07.223579Z",
     "iopub.status.busy": "2021-06-22T14:13:07.223039Z",
     "iopub.status.idle": "2021-06-22T14:13:07.226827Z",
     "shell.execute_reply": "2021-06-22T14:13:07.226426Z",
     "shell.execute_reply.started": "2021-06-22T12:33:27.614144Z"
    },
    "papermill": {
     "duration": 0.108253,
     "end_time": "2021-06-22T14:13:07.226931",
     "exception": false,
     "start_time": "2021-06-22T14:13:07.118678",
     "status": "completed"
    },
    "tags": []
   },
   "outputs": [],
   "source": [
    "n_gram_dict = { \"Unigram\" : (1,1), \"Unigrams + Bigrams\": (1,2), \"Bigrams alone\": (2,2), \"Unigrams + Bigrams + Trigrams\": (1,3)}"
   ]
  },
  {
   "cell_type": "code",
   "execution_count": 72,
   "id": "clear-vitamin",
   "metadata": {
    "execution": {
     "iopub.execute_input": "2021-06-22T14:13:07.481593Z",
     "iopub.status.busy": "2021-06-22T14:13:07.466107Z",
     "iopub.status.idle": "2021-06-22T14:13:13.423389Z",
     "shell.execute_reply": "2021-06-22T14:13:13.424129Z",
     "shell.execute_reply.started": "2021-06-22T12:35:05.024593Z"
    },
    "papermill": {
     "duration": 6.096885,
     "end_time": "2021-06-22T14:13:13.424318",
     "exception": false,
     "start_time": "2021-06-22T14:13:07.327433",
     "status": "completed"
    },
    "tags": []
   },
   "outputs": [
    {
     "name": "stdout",
     "output_type": "stream",
     "text": [
      "--- Model: XGBRegressor(base_score=0.5, booster='gbtree', colsample_bylevel=1,\n",
      "             colsample_bynode=1, colsample_bytree=1, gamma=0, gpu_id=-1,\n",
      "             importance_type='gain', interaction_constraints='',\n",
      "             learning_rate=0.300000012, max_delta_step=0, max_depth=6,\n",
      "             min_child_weight=1, missing=nan, monotone_constraints='()',\n",
      "             n_estimators=100, n_jobs=2, num_parallel_tree=1, random_state=0,\n",
      "             reg_alpha=0, reg_lambda=1, scale_pos_weight=1, subsample=1,\n",
      "             tree_method='exact', validate_parameters=1, verbosity=None) ---\n",
      "MSE:  0.6966933862735438\n",
      "RMSE:  0.8346816077244926\n",
      "Training time: 5.982913494110107\n",
      "\n",
      "\n"
     ]
    }
   ],
   "source": [
    "training_TFIDF(x_train_Lemm,y_train_Lemm,x_test_Lemm,y_test_Lemm,xgb.XGBRegressor(),n_gram_dict['Unigram'])"
   ]
  },
  {
   "cell_type": "code",
   "execution_count": 73,
   "id": "certain-samba",
   "metadata": {
    "execution": {
     "iopub.execute_input": "2021-06-22T14:13:13.681394Z",
     "iopub.status.busy": "2021-06-22T14:13:13.666004Z",
     "iopub.status.idle": "2021-06-22T14:13:14.020699Z",
     "shell.execute_reply": "2021-06-22T14:13:14.021779Z",
     "shell.execute_reply.started": "2021-06-22T12:38:04.350353Z"
    },
    "papermill": {
     "duration": 0.49543,
     "end_time": "2021-06-22T14:13:14.022017",
     "exception": false,
     "start_time": "2021-06-22T14:13:13.526587",
     "status": "completed"
    },
    "tags": []
   },
   "outputs": [
    {
     "name": "stdout",
     "output_type": "stream",
     "text": [
      "--- Model: LinearRegression() ---\n",
      "MSE:  0.5828298847945201\n",
      "RMSE:  0.7634329602489797\n",
      "Training time: 0.38117337226867676\n",
      "\n",
      "\n"
     ]
    }
   ],
   "source": [
    "training_TFIDF(x_train_Lemm,y_train_Lemm,x_test_Lemm,y_test_Lemm,LinearRegression(),n_gram_dict['Unigram'])"
   ]
  },
  {
   "cell_type": "code",
   "execution_count": 74,
   "id": "durable-madrid",
   "metadata": {
    "execution": {
     "iopub.execute_input": "2021-06-22T14:13:14.284665Z",
     "iopub.status.busy": "2021-06-22T14:13:14.279549Z",
     "iopub.status.idle": "2021-06-22T14:13:30.643274Z",
     "shell.execute_reply": "2021-06-22T14:13:30.643684Z",
     "shell.execute_reply.started": "2021-06-22T12:35:11.061600Z"
    },
    "papermill": {
     "duration": 16.505211,
     "end_time": "2021-06-22T14:13:30.643831",
     "exception": false,
     "start_time": "2021-06-22T14:13:14.138620",
     "status": "completed"
    },
    "tags": []
   },
   "outputs": [
    {
     "name": "stdout",
     "output_type": "stream",
     "text": [
      "--- Model: XGBRegressor(base_score=0.5, booster='gbtree', colsample_bylevel=1,\n",
      "             colsample_bynode=1, colsample_bytree=1, gamma=0, gpu_id=-1,\n",
      "             importance_type='gain', interaction_constraints='',\n",
      "             learning_rate=0.300000012, max_delta_step=0, max_depth=6,\n",
      "             min_child_weight=1, missing=nan, monotone_constraints='()',\n",
      "             n_estimators=100, n_jobs=2, num_parallel_tree=1, random_state=0,\n",
      "             reg_alpha=0, reg_lambda=1, scale_pos_weight=1, subsample=1,\n",
      "             tree_method='exact', validate_parameters=1, verbosity=None) ---\n",
      "MSE:  1.2199943284822057\n",
      "RMSE:  1.1045335343402687\n",
      "Training time: 16.37947177886963\n",
      "\n",
      "\n"
     ]
    }
   ],
   "source": [
    "training_TFIDF(x_train_Lemm,y_train_Lemm,x_test_Lemm,y_test_Lemm,xgb.XGBRegressor(),n_gram_dict['Unigrams + Bigrams'])"
   ]
  },
  {
   "cell_type": "code",
   "execution_count": 75,
   "id": "registered-acoustic",
   "metadata": {
    "execution": {
     "iopub.execute_input": "2021-06-22T14:13:30.912221Z",
     "iopub.status.busy": "2021-06-22T14:13:30.886543Z",
     "iopub.status.idle": "2021-06-22T14:13:31.909779Z",
     "shell.execute_reply": "2021-06-22T14:13:31.908901Z",
     "shell.execute_reply.started": "2021-06-22T12:38:17.255067Z"
    },
    "papermill": {
     "duration": 1.16348,
     "end_time": "2021-06-22T14:13:31.909916",
     "exception": false,
     "start_time": "2021-06-22T14:13:30.746436",
     "status": "completed"
    },
    "tags": []
   },
   "outputs": [
    {
     "name": "stdout",
     "output_type": "stream",
     "text": [
      "--- Model: LinearRegression() ---\n",
      "MSE:  0.5822119784654964\n",
      "RMSE:  0.7630281636122591\n",
      "Training time: 1.0428550243377686\n",
      "\n",
      "\n"
     ]
    }
   ],
   "source": [
    "training_TFIDF(x_train_Lemm,y_train_Lemm,x_test_Lemm,y_test_Lemm,LinearRegression(),n_gram_dict['Unigrams + Bigrams'])"
   ]
  },
  {
   "cell_type": "code",
   "execution_count": 76,
   "id": "outdoor-discount",
   "metadata": {
    "execution": {
     "iopub.execute_input": "2021-06-22T14:13:32.178911Z",
     "iopub.status.busy": "2021-06-22T14:13:32.168612Z",
     "iopub.status.idle": "2021-06-22T14:13:42.832122Z",
     "shell.execute_reply": "2021-06-22T14:13:42.831604Z",
     "shell.execute_reply.started": "2021-06-22T12:35:27.802875Z"
    },
    "papermill": {
     "duration": 10.803303,
     "end_time": "2021-06-22T14:13:42.832258",
     "exception": false,
     "start_time": "2021-06-22T14:13:32.028955",
     "status": "completed"
    },
    "tags": []
   },
   "outputs": [
    {
     "name": "stdout",
     "output_type": "stream",
     "text": [
      "--- Model: XGBRegressor(base_score=0.5, booster='gbtree', colsample_bylevel=1,\n",
      "             colsample_bynode=1, colsample_bytree=1, gamma=0, gpu_id=-1,\n",
      "             importance_type='gain', interaction_constraints='',\n",
      "             learning_rate=0.300000012, max_delta_step=0, max_depth=6,\n",
      "             min_child_weight=1, missing=nan, monotone_constraints='()',\n",
      "             n_estimators=100, n_jobs=2, num_parallel_tree=1, random_state=0,\n",
      "             reg_alpha=0, reg_lambda=1, scale_pos_weight=1, subsample=1,\n",
      "             tree_method='exact', validate_parameters=1, verbosity=None) ---\n",
      "MSE:  0.9649966309794689\n",
      "RMSE:  0.9823424204316278\n",
      "Training time: 10.669255018234253\n",
      "\n",
      "\n"
     ]
    }
   ],
   "source": [
    "training_TFIDF(x_train_Lemm,y_train_Lemm,x_test_Lemm,y_test_Lemm,xgb.XGBRegressor(),n_gram_dict['Bigrams alone'])"
   ]
  },
  {
   "cell_type": "code",
   "execution_count": 77,
   "id": "cathedral-dealing",
   "metadata": {
    "execution": {
     "iopub.execute_input": "2021-06-22T14:13:43.075019Z",
     "iopub.status.busy": "2021-06-22T14:13:43.064725Z",
     "iopub.status.idle": "2021-06-22T14:13:43.941148Z",
     "shell.execute_reply": "2021-06-22T14:13:43.942364Z",
     "shell.execute_reply.started": "2021-06-22T12:38:28.016474Z"
    },
    "papermill": {
     "duration": 1.005293,
     "end_time": "2021-06-22T14:13:43.942586",
     "exception": false,
     "start_time": "2021-06-22T14:13:42.937293",
     "status": "completed"
    },
    "tags": []
   },
   "outputs": [
    {
     "name": "stdout",
     "output_type": "stream",
     "text": [
      "--- Model: LinearRegression() ---\n",
      "MSE:  0.7967006902504944\n",
      "RMSE:  0.8925809152398982\n",
      "Training time: 0.8773031234741211\n",
      "\n",
      "\n"
     ]
    }
   ],
   "source": [
    "training_TFIDF(x_train_Lemm,y_train_Lemm,x_test_Lemm,y_test_Lemm,LinearRegression(),n_gram_dict['Bigrams alone'])"
   ]
  },
  {
   "cell_type": "code",
   "execution_count": 78,
   "id": "solved-antigua",
   "metadata": {
    "execution": {
     "iopub.execute_input": "2021-06-22T14:13:44.366894Z",
     "iopub.status.busy": "2021-06-22T14:13:44.331016Z",
     "iopub.status.idle": "2021-06-22T14:14:14.151751Z",
     "shell.execute_reply": "2021-06-22T14:14:14.152491Z",
     "shell.execute_reply.started": "2021-06-22T12:35:52.122483Z"
    },
    "papermill": {
     "duration": 30.029052,
     "end_time": "2021-06-22T14:14:14.152653",
     "exception": false,
     "start_time": "2021-06-22T14:13:44.123601",
     "status": "completed"
    },
    "tags": []
   },
   "outputs": [
    {
     "name": "stdout",
     "output_type": "stream",
     "text": [
      "--- Model: XGBRegressor(base_score=0.5, booster='gbtree', colsample_bylevel=1,\n",
      "             colsample_bynode=1, colsample_bytree=1, gamma=0, gpu_id=-1,\n",
      "             importance_type='gain', interaction_constraints='',\n",
      "             learning_rate=0.300000012, max_delta_step=0, max_depth=6,\n",
      "             min_child_weight=1, missing=nan, monotone_constraints='()',\n",
      "             n_estimators=100, n_jobs=2, num_parallel_tree=1, random_state=0,\n",
      "             reg_alpha=0, reg_lambda=1, scale_pos_weight=1, subsample=1,\n",
      "             tree_method='exact', validate_parameters=1, verbosity=None) ---\n",
      "MSE:  1.0830714727980468\n",
      "RMSE:  1.040707198398304\n",
      "Training time: 29.82624340057373\n",
      "\n",
      "\n"
     ]
    }
   ],
   "source": [
    "training_TFIDF(x_train_Lemm,y_train_Lemm,x_test_Lemm,y_test_Lemm,xgb.XGBRegressor(),n_gram_dict['Unigrams + Bigrams + Trigrams'])"
   ]
  },
  {
   "cell_type": "code",
   "execution_count": 79,
   "id": "collective-client",
   "metadata": {
    "execution": {
     "iopub.execute_input": "2021-06-22T14:14:14.416142Z",
     "iopub.status.busy": "2021-06-22T14:14:14.400808Z",
     "iopub.status.idle": "2021-06-22T14:14:16.371606Z",
     "shell.execute_reply": "2021-06-22T14:14:16.371139Z",
     "shell.execute_reply.started": "2021-06-22T12:38:35.349693Z"
    },
    "papermill": {
     "duration": 2.113569,
     "end_time": "2021-06-22T14:14:16.371761",
     "exception": false,
     "start_time": "2021-06-22T14:14:14.258192",
     "status": "completed"
    },
    "tags": []
   },
   "outputs": [
    {
     "name": "stdout",
     "output_type": "stream",
     "text": [
      "--- Model: LinearRegression() ---\n",
      "MSE:  0.6460241017044754\n",
      "RMSE:  0.8037562452040267\n",
      "Training time: 1.9826443195343018\n",
      "\n",
      "\n"
     ]
    }
   ],
   "source": [
    "training_TFIDF(x_train_Lemm,y_train_Lemm,x_test_Lemm,y_test_Lemm,LinearRegression(),n_gram_dict['Unigrams + Bigrams + Trigrams'])"
   ]
  },
  {
   "cell_type": "markdown",
   "id": "naked-belly",
   "metadata": {
    "papermill": {
     "duration": 0.104262,
     "end_time": "2021-06-22T14:14:16.580808",
     "exception": false,
     "start_time": "2021-06-22T14:14:16.476546",
     "status": "completed"
    },
    "tags": []
   },
   "source": [
    "### Deep Learning\n",
    "#### Keras"
   ]
  },
  {
   "cell_type": "code",
   "execution_count": 80,
   "id": "banner-college",
   "metadata": {
    "execution": {
     "iopub.execute_input": "2021-06-22T14:14:16.878883Z",
     "iopub.status.busy": "2021-06-22T14:14:16.877843Z",
     "iopub.status.idle": "2021-06-22T14:14:16.881765Z",
     "shell.execute_reply": "2021-06-22T14:14:16.882405Z",
     "shell.execute_reply.started": "2021-06-22T13:06:07.326795Z"
    },
    "papermill": {
     "duration": 0.194983,
     "end_time": "2021-06-22T14:14:16.882598",
     "exception": false,
     "start_time": "2021-06-22T14:14:16.687615",
     "status": "completed"
    },
    "tags": []
   },
   "outputs": [
    {
     "data": {
      "text/plain": [
       "2125"
      ]
     },
     "execution_count": 80,
     "metadata": {},
     "output_type": "execute_result"
    }
   ],
   "source": [
    "x_train_Lemm.shape[0]"
   ]
  },
  {
   "cell_type": "code",
   "execution_count": 81,
   "id": "smoking-polymer",
   "metadata": {
    "execution": {
     "iopub.execute_input": "2021-06-22T14:14:17.247097Z",
     "iopub.status.busy": "2021-06-22T14:14:17.246172Z",
     "iopub.status.idle": "2021-06-22T14:14:19.378453Z",
     "shell.execute_reply": "2021-06-22T14:14:19.377789Z",
     "shell.execute_reply.started": "2021-06-22T13:06:37.181614Z"
    },
    "papermill": {
     "duration": 2.313485,
     "end_time": "2021-06-22T14:14:19.378584",
     "exception": false,
     "start_time": "2021-06-22T14:14:17.065099",
     "status": "completed"
    },
    "tags": []
   },
   "outputs": [
    {
     "name": "stdout",
     "output_type": "stream",
     "text": [
      "Model: \"sequential\"\n",
      "_________________________________________________________________\n",
      "Layer (type)                 Output Shape              Param #   \n",
      "=================================================================\n",
      "dense (Dense)                (None, 10)                20        \n",
      "_________________________________________________________________\n",
      "dense_1 (Dense)              (None, 1)                 11        \n",
      "=================================================================\n",
      "Total params: 31\n",
      "Trainable params: 31\n",
      "Non-trainable params: 0\n",
      "_________________________________________________________________\n"
     ]
    }
   ],
   "source": [
    "from keras.models import Sequential\n",
    "from keras import layers\n",
    "\n",
    "#input_dim = x_train_Lemm.shape[1]  # Number of features\n",
    "\n",
    "model = Sequential()\n",
    "model.add(layers.Dense(10, input_dim=1, activation='relu'))\n",
    "model.add(layers.Dense(1))\n",
    "model.compile(loss='mean_squared_error', metrics=[RootMeanSquaredError()])\n",
    "model.summary()"
   ]
  },
  {
   "cell_type": "code",
   "execution_count": 82,
   "id": "wrong-champagne",
   "metadata": {
    "execution": {
     "iopub.execute_input": "2021-06-22T14:14:19.595130Z",
     "iopub.status.busy": "2021-06-22T14:14:19.594397Z",
     "iopub.status.idle": "2021-06-22T14:14:19.923906Z",
     "shell.execute_reply": "2021-06-22T14:14:19.923446Z",
     "shell.execute_reply.started": "2021-06-22T13:41:25.707384Z"
    },
    "papermill": {
     "duration": 0.439661,
     "end_time": "2021-06-22T14:14:19.924034",
     "exception": false,
     "start_time": "2021-06-22T14:14:19.484373",
     "status": "completed"
    },
    "tags": []
   },
   "outputs": [
    {
     "name": "stdout",
     "output_type": "stream",
     "text": [
      "     roger predict   snow depart quickly come   day sleigh ride scarcely vestige white ground   tennis possible great game progress court pine laurel   patty roger play elise sam blaney   pair match  \n",
      "  long   contest victory finally go patty   laughingly accept defeat  \n",
      "   patty game    roger defend    child sick list   know   sam   mark   \n",
      "    like    cry patty    suppose bear half blame   roger    mr   blaney   absorb love game   play old   time skill   \n",
      "   right   patsy   let     suddenly remember mona tell tell   affected service  \n",
      "[3097, 2113, 390, 2748, 515, 1, 8, 4668, 446, 1005, 7069, 91, 196, 5992, 332, 10, 391, 1230, 902, 1300, 8846, 2452, 3097, 61, 11746, 1473, 8847, 827, 1261, 18, 3877, 1887, 613, 5, 2452, 11747, 1040, 1888, 2452, 391, 3097, 2453, 29, 768, 1474, 6, 1473, 740, 7, 123, 2452, 669, 128, 153, 2321, 3097, 115, 8847, 1301, 156, 391, 61, 15, 4, 1262, 92, 11748, 100, 348, 236, 11749, 31, 31, 7070, 550]\n"
     ]
    }
   ],
   "source": [
    "from keras.preprocessing.text import Tokenizer\n",
    "tokenizer = Tokenizer(num_words=26118)\n",
    "tokenizer.fit_on_texts(df_train['excerpt_clean_Lemm'].to_list())\n",
    "\n",
    "X_train = tokenizer.texts_to_sequences(df_train['excerpt_clean_Lemm'].to_list())\n",
    "X_test = tokenizer.texts_to_sequences(df_test['excerpt_clean_Lemm'].to_list())\n",
    "\n",
    "vocab_size = len(tokenizer.word_index) + 1  # Adding 1 because of reserved 0 index\n",
    "\n",
    "print(df_train['excerpt_clean_Lemm'][2])\n",
    "print(X_train[2])"
   ]
  },
  {
   "cell_type": "code",
   "execution_count": 83,
   "id": "republican-concentrate",
   "metadata": {
    "execution": {
     "iopub.execute_input": "2021-06-22T14:14:20.140310Z",
     "iopub.status.busy": "2021-06-22T14:14:20.139773Z",
     "iopub.status.idle": "2021-06-22T14:14:20.144793Z",
     "shell.execute_reply": "2021-06-22T14:14:20.145216Z",
     "shell.execute_reply.started": "2021-06-22T13:20:42.980795Z"
    },
    "papermill": {
     "duration": 0.113717,
     "end_time": "2021-06-22T14:14:20.145346",
     "exception": false,
     "start_time": "2021-06-22T14:14:20.031629",
     "status": "completed"
    },
    "tags": []
   },
   "outputs": [
    {
     "data": {
      "text/plain": [
       "20343"
      ]
     },
     "execution_count": 83,
     "metadata": {},
     "output_type": "execute_result"
    }
   ],
   "source": [
    "vocab_size"
   ]
  },
  {
   "cell_type": "code",
   "execution_count": 84,
   "id": "alone-museum",
   "metadata": {
    "execution": {
     "iopub.execute_input": "2021-06-22T14:14:20.359882Z",
     "iopub.status.busy": "2021-06-22T14:14:20.359194Z",
     "iopub.status.idle": "2021-06-22T14:14:20.419488Z",
     "shell.execute_reply": "2021-06-22T14:14:20.419059Z",
     "shell.execute_reply.started": "2021-06-22T13:12:59.743442Z"
    },
    "papermill": {
     "duration": 0.169119,
     "end_time": "2021-06-22T14:14:20.419604",
     "exception": false,
     "start_time": "2021-06-22T14:14:20.250485",
     "status": "completed"
    },
    "tags": []
   },
   "outputs": [
    {
     "name": "stdout",
     "output_type": "stream",
     "text": [
      "[   68    11   184 11740   152  4667    75  1071   483  2112  1072   358\n",
      "  2915   371   209   390    91  3317   261  4262  8842  2319  7064     7\n",
      "   460   390   148  1299  1618 11741  2916    71  1970  3875  4263  8843\n",
      "  2043     7   390  1885   668  2320 11742  2604  1198  7065   612   573\n",
      "   106    71   240   612   186   128   574  3876  3876  1886    86    38\n",
      "   391    86   604   106    71    38   106    14   361   795   372   795\n",
      "  1381    33    43  1419    98   135   795   431   131  3318  1811   322\n",
      " 11743     0     0     0     0     0     0     0     0     0     0     0\n",
      "     0     0     0     0     0     0     0     0     0     0     0     0\n",
      "     0     0     0     0     0     0     0     0     0     0     0     0\n",
      "     0     0     0     0     0     0     0     0     0     0     0     0\n",
      "     0     0     0     0     0     0     0     0     0     0     0     0\n",
      "     0     0     0     0     0     0     0     0     0     0     0     0\n",
      "     0     0     0     0     0     0     0     0     0     0     0     0\n",
      "     0     0     0     0     0     0     0     0     0     0     0     0\n",
      "     0     0     0     0     0     0     0     0     0     0     0     0\n",
      "     0     0     0     0     0     0     0     0     0     0     0     0\n",
      "     0     0     0     0     0     0     0     0     0     0     0     0\n",
      "     0     0     0     0     0     0     0     0     0     0     0     0\n",
      "     0     0     0     0     0     0     0     0     0     0     0     0\n",
      "     0     0     0     0     0     0     0     0     0     0     0     0\n",
      "     0     0     0     0     0     0     0     0     0     0     0     0\n",
      "     0     0     0     0     0     0     0     0     0     0     0     0\n",
      "     0     0     0     0     0     0     0     0     0     0     0     0\n",
      "     0     0     0     0     0     0     0     0     0     0     0     0\n",
      "     0     0     0     0     0     0     0     0     0     0     0     0\n",
      "     0     0     0     0     0     0     0     0     0     0     0     0\n",
      "     0     0     0     0     0     0     0     0     0     0     0     0\n",
      "     0     0     0     0     0     0     0     0     0     0     0     0\n",
      "     0     0     0     0     0     0     0     0     0     0     0     0\n",
      "     0     0     0     0     0     0     0     0     0     0     0     0\n",
      "     0     0     0     0     0     0     0     0     0     0     0     0\n",
      "     0     0     0     0     0     0     0     0     0     0     0     0\n",
      "     0     0     0     0     0     0     0     0     0     0     0     0\n",
      "     0     0     0     0     0     0     0     0     0     0     0     0\n",
      "     0     0     0     0     0     0     0     0     0     0     0     0\n",
      "     0     0     0     0     0     0     0     0     0     0     0     0\n",
      "     0     0     0     0     0     0     0     0     0     0     0     0\n",
      "     0     0     0     0     0     0     0     0     0     0     0     0\n",
      "     0     0     0     0     0     0     0     0     0     0     0     0\n",
      "     0     0     0     0     0     0     0     0     0     0     0     0\n",
      "     0     0     0     0     0     0     0     0     0     0     0     0\n",
      "     0     0     0     0     0     0     0     0     0     0     0     0\n",
      "     0     0     0     0     0     0     0     0     0     0     0     0\n",
      "     0     0     0     0     0     0     0     0     0     0     0     0\n",
      "     0     0     0     0     0     0     0     0     0     0     0     0\n",
      "     0     0     0     0     0     0     0     0     0     0     0     0\n",
      "     0     0     0     0     0     0     0     0     0     0     0     0\n",
      "     0     0     0     0     0     0     0     0     0     0     0     0\n",
      "     0     0     0     0     0     0     0     0     0     0     0     0\n",
      "     0     0     0     0     0     0     0     0     0     0     0     0\n",
      "     0     0     0     0     0     0     0     0     0     0     0     0\n",
      "     0     0     0     0     0     0     0     0     0     0     0     0\n",
      "     0     0     0     0     0     0     0     0     0     0     0     0\n",
      "     0     0     0     0     0     0     0     0     0     0     0     0\n",
      "     0     0     0     0     0     0     0     0     0     0     0     0\n",
      "     0     0     0     0     0     0     0     0     0     0     0     0\n",
      "     0     0     0     0     0     0     0     0     0     0     0     0\n",
      "     0     0     0     0     0     0     0     0     0     0     0     0\n",
      "     0     0     0     0     0     0     0     0     0     0     0     0\n",
      "     0     0     0     0     0     0     0     0     0     0     0     0\n",
      "     0     0     0     0     0     0     0     0     0     0     0     0\n",
      "     0     0     0     0     0     0     0     0     0     0     0     0\n",
      "     0     0     0     0     0     0     0     0     0     0     0     0\n",
      "     0     0     0     0     0     0     0     0     0     0     0     0\n",
      "     0     0     0     0     0     0     0     0     0     0     0     0\n",
      "     0     0     0     0     0     0     0     0]\n"
     ]
    }
   ],
   "source": [
    "from keras.preprocessing.sequence import pad_sequences\n",
    "\n",
    "maxlen = 800\n",
    "\n",
    "X_train = pad_sequences(X_train, padding='post', maxlen=maxlen)\n",
    "X_test = pad_sequences(X_test, padding='post', maxlen=maxlen)\n",
    "\n",
    "print(X_train[0, :])"
   ]
  },
  {
   "cell_type": "code",
   "execution_count": 85,
   "id": "dynamic-infrared",
   "metadata": {
    "execution": {
     "iopub.execute_input": "2021-06-22T14:14:20.640735Z",
     "iopub.status.busy": "2021-06-22T14:14:20.639922Z",
     "iopub.status.idle": "2021-06-22T14:14:20.697293Z",
     "shell.execute_reply": "2021-06-22T14:14:20.696851Z",
     "shell.execute_reply.started": "2021-06-22T13:24:36.137107Z"
    },
    "papermill": {
     "duration": 0.170839,
     "end_time": "2021-06-22T14:14:20.697411",
     "exception": false,
     "start_time": "2021-06-22T14:14:20.526572",
     "status": "completed"
    },
    "tags": []
   },
   "outputs": [
    {
     "name": "stdout",
     "output_type": "stream",
     "text": [
      "Model: \"sequential_1\"\n",
      "_________________________________________________________________\n",
      "Layer (type)                 Output Shape              Param #   \n",
      "=================================================================\n",
      "embedding (Embedding)        (None, 800, 50)           1017150   \n",
      "_________________________________________________________________\n",
      "flatten (Flatten)            (None, 40000)             0         \n",
      "_________________________________________________________________\n",
      "dense_2 (Dense)              (None, 10)                400010    \n",
      "_________________________________________________________________\n",
      "dropout (Dropout)            (None, 10)                0         \n",
      "_________________________________________________________________\n",
      "dense_3 (Dense)              (None, 1)                 11        \n",
      "=================================================================\n",
      "Total params: 1,417,171\n",
      "Trainable params: 1,417,171\n",
      "Non-trainable params: 0\n",
      "_________________________________________________________________\n"
     ]
    }
   ],
   "source": [
    "from keras.models import Sequential\n",
    "from keras import layers\n",
    "\n",
    "embedding_dim = 50\n",
    "\n",
    "model = Sequential()\n",
    "model.add(layers.Embedding(input_dim=vocab_size, \n",
    "                           output_dim=embedding_dim, \n",
    "                           input_length=maxlen))\n",
    "model.add(layers.Flatten())\n",
    "model.add(layers.Dense(10, activation='relu'))\n",
    "model.add(layers.Dropout(0.5))\n",
    "#model.add(layers.Dense(10, activation='relu'))\n",
    "model.add(layers.Dense(1, activation='linear'))\n",
    "model.compile(loss='mean_squared_error', metrics=[RootMeanSquaredError()])\n",
    "model.summary()"
   ]
  },
  {
   "cell_type": "code",
   "execution_count": 86,
   "id": "peripheral-assets",
   "metadata": {
    "execution": {
     "iopub.execute_input": "2021-06-22T14:14:20.914344Z",
     "iopub.status.busy": "2021-06-22T14:14:20.913648Z",
     "iopub.status.idle": "2021-06-22T14:14:20.915961Z",
     "shell.execute_reply": "2021-06-22T14:14:20.916375Z",
     "shell.execute_reply.started": "2021-06-22T13:24:37.906447Z"
    },
    "papermill": {
     "duration": 0.112341,
     "end_time": "2021-06-22T14:14:20.916509",
     "exception": false,
     "start_time": "2021-06-22T14:14:20.804168",
     "status": "completed"
    },
    "tags": []
   },
   "outputs": [],
   "source": [
    "training_labels_final = np.array(df_train.target)"
   ]
  },
  {
   "cell_type": "code",
   "execution_count": 87,
   "id": "lovely-moses",
   "metadata": {
    "execution": {
     "iopub.execute_input": "2021-06-22T14:14:21.134746Z",
     "iopub.status.busy": "2021-06-22T14:14:21.134179Z",
     "iopub.status.idle": "2021-06-22T14:14:35.311177Z",
     "shell.execute_reply": "2021-06-22T14:14:35.310374Z",
     "shell.execute_reply.started": "2021-06-22T13:24:39.940693Z"
    },
    "papermill": {
     "duration": 14.288658,
     "end_time": "2021-06-22T14:14:35.311327",
     "exception": false,
     "start_time": "2021-06-22T14:14:21.022669",
     "status": "completed"
    },
    "tags": []
   },
   "outputs": [
    {
     "name": "stdout",
     "output_type": "stream",
     "text": [
      "Epoch 1/20\n",
      "80/80 [==============================] - 2s 14ms/step - loss: 2.8058 - root_mean_squared_error: 1.6204 - val_loss: 1.4290 - val_root_mean_squared_error: 1.1954\n",
      "Epoch 2/20\n",
      "80/80 [==============================] - 1s 7ms/step - loss: 1.4372 - root_mean_squared_error: 1.1986 - val_loss: 1.1777 - val_root_mean_squared_error: 1.0852\n",
      "Epoch 3/20\n",
      "80/80 [==============================] - 1s 7ms/step - loss: 1.1647 - root_mean_squared_error: 1.0788 - val_loss: 0.9312 - val_root_mean_squared_error: 0.9650\n",
      "Epoch 4/20\n",
      "80/80 [==============================] - 1s 7ms/step - loss: 0.8008 - root_mean_squared_error: 0.8946 - val_loss: 0.6949 - val_root_mean_squared_error: 0.8336\n",
      "Epoch 5/20\n",
      "80/80 [==============================] - 1s 7ms/step - loss: 0.7584 - root_mean_squared_error: 0.8696 - val_loss: 0.7235 - val_root_mean_squared_error: 0.8506\n",
      "Epoch 6/20\n",
      "80/80 [==============================] - 1s 7ms/step - loss: 0.6855 - root_mean_squared_error: 0.8278 - val_loss: 0.9421 - val_root_mean_squared_error: 0.9706\n",
      "Epoch 7/20\n",
      "80/80 [==============================] - 1s 7ms/step - loss: 0.5976 - root_mean_squared_error: 0.7708 - val_loss: 0.7616 - val_root_mean_squared_error: 0.8727\n",
      "Epoch 8/20\n",
      "80/80 [==============================] - 1s 9ms/step - loss: 0.4631 - root_mean_squared_error: 0.6803 - val_loss: 0.6455 - val_root_mean_squared_error: 0.8034\n",
      "Epoch 9/20\n",
      "80/80 [==============================] - 1s 9ms/step - loss: 0.4015 - root_mean_squared_error: 0.6333 - val_loss: 0.7947 - val_root_mean_squared_error: 0.8915\n",
      "Epoch 10/20\n",
      "80/80 [==============================] - 1s 8ms/step - loss: 0.3613 - root_mean_squared_error: 0.6003 - val_loss: 0.6850 - val_root_mean_squared_error: 0.8276\n",
      "Epoch 11/20\n",
      "80/80 [==============================] - 1s 7ms/step - loss: 0.2811 - root_mean_squared_error: 0.5296 - val_loss: 0.6900 - val_root_mean_squared_error: 0.8307\n",
      "Epoch 12/20\n",
      "80/80 [==============================] - 1s 7ms/step - loss: 0.3161 - root_mean_squared_error: 0.5620 - val_loss: 0.7045 - val_root_mean_squared_error: 0.8394\n",
      "Epoch 13/20\n",
      "80/80 [==============================] - 1s 7ms/step - loss: 0.2705 - root_mean_squared_error: 0.5198 - val_loss: 0.7659 - val_root_mean_squared_error: 0.8752\n",
      "Epoch 14/20\n",
      "80/80 [==============================] - 1s 8ms/step - loss: 0.2792 - root_mean_squared_error: 0.5279 - val_loss: 0.7220 - val_root_mean_squared_error: 0.8497\n",
      "Epoch 15/20\n",
      "80/80 [==============================] - 1s 8ms/step - loss: 0.2483 - root_mean_squared_error: 0.4977 - val_loss: 0.7479 - val_root_mean_squared_error: 0.8648\n",
      "Epoch 16/20\n",
      "80/80 [==============================] - 1s 8ms/step - loss: 0.2634 - root_mean_squared_error: 0.5130 - val_loss: 0.7031 - val_root_mean_squared_error: 0.8385\n",
      "Epoch 17/20\n",
      "80/80 [==============================] - 1s 7ms/step - loss: 0.2779 - root_mean_squared_error: 0.5268 - val_loss: 0.7154 - val_root_mean_squared_error: 0.8458\n",
      "Epoch 18/20\n",
      "80/80 [==============================] - 1s 8ms/step - loss: 0.2750 - root_mean_squared_error: 0.5243 - val_loss: 0.7147 - val_root_mean_squared_error: 0.8454\n",
      "Epoch 19/20\n",
      "80/80 [==============================] - 1s 7ms/step - loss: 0.2622 - root_mean_squared_error: 0.5116 - val_loss: 0.6887 - val_root_mean_squared_error: 0.8299\n",
      "Epoch 20/20\n",
      "80/80 [==============================] - 1s 7ms/step - loss: 0.2568 - root_mean_squared_error: 0.5061 - val_loss: 0.6609 - val_root_mean_squared_error: 0.8130\n"
     ]
    }
   ],
   "source": [
    "history = model.fit(X_train, training_labels_final,\n",
    "                    epochs=20,\n",
    "                    validation_split=0.1,\n",
    "                    batch_size=32)"
   ]
  },
  {
   "cell_type": "markdown",
   "id": "compressed-designation",
   "metadata": {
    "papermill": {
     "duration": 0.161414,
     "end_time": "2021-06-22T14:14:35.640881",
     "exception": false,
     "start_time": "2021-06-22T14:14:35.479467",
     "status": "completed"
    },
    "tags": []
   },
   "source": [
    "### Glove Embeddings\n",
    "\n",
    "What if, instead of learning the embeddings for yourself, you could instead use prelearned embeddings, where researchers have already done the hard work of turning words into vectors and those vectors are proven? One example of this is the GloVe (Global Vectors for WordRepresentation) model developed by Jeffrey Pennington, Richard Socher, and Christopher Manning at Stanford\n",
    "\n",
    "Pretrained Word Embeddings are the embeddings learned in one task that are used for solving another similar task. These embeddings are trained on large datasets, saved, and then used for solving other tasks. That’s why pretrained word embeddings are a form of Transfer Learning."
   ]
  },
  {
   "cell_type": "code",
   "execution_count": 88,
   "id": "developing-romania",
   "metadata": {
    "execution": {
     "iopub.execute_input": "2021-06-22T14:14:35.973540Z",
     "iopub.status.busy": "2021-06-22T14:14:35.972662Z",
     "iopub.status.idle": "2021-06-22T14:14:35.975461Z",
     "shell.execute_reply": "2021-06-22T14:14:35.974990Z",
     "shell.execute_reply.started": "2021-06-22T13:46:50.971019Z"
    },
    "papermill": {
     "duration": 0.171508,
     "end_time": "2021-06-22T14:14:35.975572",
     "exception": false,
     "start_time": "2021-06-22T14:14:35.804064",
     "status": "completed"
    },
    "tags": []
   },
   "outputs": [],
   "source": [
    "#text = df_train.excerpt\n",
    "text = df_train.excerpt_clean_Lemm"
   ]
  },
  {
   "cell_type": "code",
   "execution_count": 89,
   "id": "ethical-nylon",
   "metadata": {
    "execution": {
     "iopub.execute_input": "2021-06-22T14:14:36.305903Z",
     "iopub.status.busy": "2021-06-22T14:14:36.305329Z",
     "iopub.status.idle": "2021-06-22T14:14:36.309301Z",
     "shell.execute_reply": "2021-06-22T14:14:36.308867Z",
     "shell.execute_reply.started": "2021-06-22T13:48:26.207719Z"
    },
    "papermill": {
     "duration": 0.17162,
     "end_time": "2021-06-22T14:14:36.309419",
     "exception": false,
     "start_time": "2021-06-22T14:14:36.137799",
     "status": "completed"
    },
    "tags": []
   },
   "outputs": [],
   "source": [
    "vocab_size = 26118\n",
    "embedding_dim = 512\n",
    "max_length = 500\n",
    "trunc_type='post'\n",
    "pad_type='post'\n",
    "oov_tok = \"<OOV>\""
   ]
  },
  {
   "cell_type": "code",
   "execution_count": 90,
   "id": "essential-registrar",
   "metadata": {
    "execution": {
     "iopub.execute_input": "2021-06-22T14:14:36.667929Z",
     "iopub.status.busy": "2021-06-22T14:14:36.662878Z",
     "iopub.status.idle": "2021-06-22T14:14:36.861721Z",
     "shell.execute_reply": "2021-06-22T14:14:36.860770Z",
     "shell.execute_reply.started": "2021-06-22T13:48:36.148183Z"
    },
    "papermill": {
     "duration": 0.389365,
     "end_time": "2021-06-22T14:14:36.861865",
     "exception": false,
     "start_time": "2021-06-22T14:14:36.472500",
     "status": "completed"
    },
    "tags": []
   },
   "outputs": [],
   "source": [
    "tokenizer = Tokenizer(num_words = vocab_size, oov_token=oov_tok)\n",
    "tokenizer.fit_on_texts(text)\n",
    "word_index = tokenizer.word_index"
   ]
  },
  {
   "cell_type": "code",
   "execution_count": 91,
   "id": "hearing-irrigation",
   "metadata": {
    "execution": {
     "iopub.execute_input": "2021-06-22T14:14:37.236525Z",
     "iopub.status.busy": "2021-06-22T14:14:37.226353Z",
     "iopub.status.idle": "2021-06-22T14:14:37.376444Z",
     "shell.execute_reply": "2021-06-22T14:14:37.375990Z",
     "shell.execute_reply.started": "2021-06-22T13:49:26.188624Z"
    },
    "papermill": {
     "duration": 0.349807,
     "end_time": "2021-06-22T14:14:37.376573",
     "exception": false,
     "start_time": "2021-06-22T14:14:37.026766",
     "status": "completed"
    },
    "tags": []
   },
   "outputs": [],
   "source": [
    "X_train_Seq = tokenizer.texts_to_sequences(text)\n",
    "X_train = pad_sequences(X_train_Seq,maxlen=max_length, \n",
    "                                truncating=trunc_type, padding=pad_type)\n"
   ]
  },
  {
   "cell_type": "code",
   "execution_count": 92,
   "id": "opposite-funeral",
   "metadata": {
    "execution": {
     "iopub.execute_input": "2021-06-22T14:14:37.713378Z",
     "iopub.status.busy": "2021-06-22T14:14:37.712705Z",
     "iopub.status.idle": "2021-06-22T14:14:46.907847Z",
     "shell.execute_reply": "2021-06-22T14:14:46.907389Z",
     "shell.execute_reply.started": "2021-06-22T13:49:33.428159Z"
    },
    "papermill": {
     "duration": 9.368443,
     "end_time": "2021-06-22T14:14:46.907973",
     "exception": false,
     "start_time": "2021-06-22T14:14:37.539530",
     "status": "completed"
    },
    "tags": []
   },
   "outputs": [],
   "source": [
    "glove_embeddings = dict()\n",
    "f = open('../input/glove-global-vectors-for-word-representation/glove.6B.50d.txt')\n",
    "for line in f:\n",
    "    values = line.split()\n",
    "    word = values[0]\n",
    "    coefs = np.asarray(values[1:], dtype='float32')\n",
    "    glove_embeddings[word] = coefs\n",
    "f.close()"
   ]
  },
  {
   "cell_type": "code",
   "execution_count": 93,
   "id": "certain-snake",
   "metadata": {
    "execution": {
     "iopub.execute_input": "2021-06-22T14:14:47.280123Z",
     "iopub.status.busy": "2021-06-22T14:14:47.279612Z",
     "iopub.status.idle": "2021-06-22T14:14:47.285919Z",
     "shell.execute_reply": "2021-06-22T14:14:47.285369Z",
     "shell.execute_reply.started": "2021-06-22T13:49:41.389776Z"
    },
    "papermill": {
     "duration": 0.195977,
     "end_time": "2021-06-22T14:14:47.286054",
     "exception": false,
     "start_time": "2021-06-22T14:14:47.090077",
     "status": "completed"
    },
    "tags": []
   },
   "outputs": [
    {
     "data": {
      "text/plain": [
       "array([ 0.7196   ,  0.71446  , -0.51931  , -0.7443   , -0.06024  ,\n",
       "        0.54708  , -0.54618  , -0.99133  ,  0.73429  ,  0.18832  ,\n",
       "        0.32969  , -0.27397  ,  0.28741  , -0.09161  ,  0.32494  ,\n",
       "       -0.017665 , -0.13707  , -0.17801  , -0.24557  ,  0.11867  ,\n",
       "        0.34275  ,  0.3795   ,  0.42772  , -0.26742  ,  0.37385  ,\n",
       "       -1.2254   , -0.77036  , -0.70446  , -1.175    ,  0.14247  ,\n",
       "        3.0784   , -0.39591  , -0.30366  , -1.7702   , -0.0043639,\n",
       "       -0.46792  , -0.08895  ,  0.89358  ,  0.88059  ,  0.22266  ,\n",
       "       -0.53512  , -0.49875  ,  0.61852  ,  0.69546  ,  0.39189  ,\n",
       "        0.053596 ,  0.81017  ,  0.87904  , -0.37766  ,  0.46718  ],\n",
       "      dtype=float32)"
      ]
     },
     "execution_count": 93,
     "metadata": {},
     "output_type": "execute_result"
    }
   ],
   "source": [
    "glove_embeddings['study']"
   ]
  },
  {
   "cell_type": "code",
   "execution_count": 94,
   "id": "bacterial-optimum",
   "metadata": {
    "execution": {
     "iopub.execute_input": "2021-06-22T14:14:47.639180Z",
     "iopub.status.busy": "2021-06-22T14:14:47.638507Z",
     "iopub.status.idle": "2021-06-22T14:14:47.641901Z",
     "shell.execute_reply": "2021-06-22T14:14:47.642290Z",
     "shell.execute_reply.started": "2021-06-22T13:49:41.625291Z"
    },
    "papermill": {
     "duration": 0.182149,
     "end_time": "2021-06-22T14:14:47.642675",
     "exception": false,
     "start_time": "2021-06-22T14:14:47.460526",
     "status": "completed"
    },
    "tags": []
   },
   "outputs": [],
   "source": [
    "# this function creates a normalized vector for the whole sentence\n",
    "def sent2vec(s):\n",
    "    words = str(s).lower()\n",
    "    words = word_tokenize(words)\n",
    "    words = [w for w in words if not w in stop_words]\n",
    "    words = [w for w in words if w.isalpha()]\n",
    "    M = []\n",
    "    for w in words:\n",
    "        try:\n",
    "            M.append(glove_embeddings[w])\n",
    "        except:\n",
    "            continue\n",
    "    M = np.array(M)\n",
    "    v = M.sum(axis=0)\n",
    "    if type(v) != np.ndarray:\n",
    "        return np.zeros(50)\n",
    "    return v / np.sqrt((v ** 2).sum())"
   ]
  },
  {
   "cell_type": "code",
   "execution_count": 95,
   "id": "desperate-liver",
   "metadata": {
    "execution": {
     "iopub.execute_input": "2021-06-22T14:14:48.026742Z",
     "iopub.status.busy": "2021-06-22T14:14:48.025006Z",
     "iopub.status.idle": "2021-06-22T14:14:48.027451Z",
     "shell.execute_reply": "2021-06-22T14:14:48.027874Z",
     "shell.execute_reply.started": "2021-06-22T13:50:31.714066Z"
    },
    "papermill": {
     "duration": 0.188893,
     "end_time": "2021-06-22T14:14:48.028014",
     "exception": false,
     "start_time": "2021-06-22T14:14:47.839121",
     "status": "completed"
    },
    "tags": []
   },
   "outputs": [],
   "source": [
    "embedding_dim = 50\n",
    "vocab_size = 26118"
   ]
  },
  {
   "cell_type": "code",
   "execution_count": 96,
   "id": "generous-phrase",
   "metadata": {
    "execution": {
     "iopub.execute_input": "2021-06-22T14:14:48.386340Z",
     "iopub.status.busy": "2021-06-22T14:14:48.385439Z",
     "iopub.status.idle": "2021-06-22T14:14:48.430815Z",
     "shell.execute_reply": "2021-06-22T14:14:48.430300Z",
     "shell.execute_reply.started": "2021-06-22T13:50:33.315535Z"
    },
    "papermill": {
     "duration": 0.226418,
     "end_time": "2021-06-22T14:14:48.430946",
     "exception": false,
     "start_time": "2021-06-22T14:14:48.204528",
     "status": "completed"
    },
    "tags": []
   },
   "outputs": [],
   "source": [
    "embedding_matrix = np.zeros((vocab_size, embedding_dim))\n",
    "for word, index in tokenizer.word_index.items():\n",
    "    if index > vocab_size - 1:\n",
    "         break\n",
    "    else:\n",
    "        embedding_vector = glove_embeddings.get(word)\n",
    "    if embedding_vector is not None:\n",
    "        embedding_matrix[index] = embedding_vector"
   ]
  },
  {
   "cell_type": "code",
   "execution_count": 97,
   "id": "polyphonic-catalyst",
   "metadata": {
    "execution": {
     "iopub.execute_input": "2021-06-22T14:14:48.827842Z",
     "iopub.status.busy": "2021-06-22T14:14:48.826937Z",
     "iopub.status.idle": "2021-06-22T14:14:49.674908Z",
     "shell.execute_reply": "2021-06-22T14:14:49.674461Z",
     "shell.execute_reply.started": "2021-06-22T13:50:37.719550Z"
    },
    "papermill": {
     "duration": 1.069118,
     "end_time": "2021-06-22T14:14:49.675071",
     "exception": false,
     "start_time": "2021-06-22T14:14:48.605953",
     "status": "completed"
    },
    "tags": []
   },
   "outputs": [],
   "source": [
    "model = tf.keras.Sequential([\n",
    " tf.keras.layers.Embedding(vocab_size, embedding_dim, weights=[embedding_matrix], trainable=False),\n",
    " tf.keras.layers.Bidirectional(tf.keras.layers.LSTM(embedding_dim,\n",
    " return_sequences=True)),\n",
    " tf.keras.layers.Bidirectional(tf.keras.layers.LSTM(embedding_dim)),\n",
    " tf.keras.layers.Dense(24, activation='relu'),\n",
    " tf.keras.layers.Dense(1)\n",
    "])"
   ]
  },
  {
   "cell_type": "code",
   "execution_count": 98,
   "id": "lasting-detector",
   "metadata": {
    "execution": {
     "iopub.execute_input": "2021-06-22T14:14:50.304107Z",
     "iopub.status.busy": "2021-06-22T14:14:50.302787Z",
     "iopub.status.idle": "2021-06-22T14:14:50.326122Z",
     "shell.execute_reply": "2021-06-22T14:14:50.325255Z",
     "shell.execute_reply.started": "2021-06-22T13:50:42.167301Z"
    },
    "papermill": {
     "duration": 0.353268,
     "end_time": "2021-06-22T14:14:50.326274",
     "exception": false,
     "start_time": "2021-06-22T14:14:49.973006",
     "status": "completed"
    },
    "tags": []
   },
   "outputs": [
    {
     "name": "stdout",
     "output_type": "stream",
     "text": [
      "Model: \"sequential_2\"\n",
      "_________________________________________________________________\n",
      "Layer (type)                 Output Shape              Param #   \n",
      "=================================================================\n",
      "embedding_1 (Embedding)      (None, None, 50)          1305900   \n",
      "_________________________________________________________________\n",
      "bidirectional (Bidirectional (None, None, 100)         40400     \n",
      "_________________________________________________________________\n",
      "bidirectional_1 (Bidirection (None, 100)               60400     \n",
      "_________________________________________________________________\n",
      "dense_4 (Dense)              (None, 24)                2424      \n",
      "_________________________________________________________________\n",
      "dense_5 (Dense)              (None, 1)                 25        \n",
      "=================================================================\n",
      "Total params: 1,409,149\n",
      "Trainable params: 103,249\n",
      "Non-trainable params: 1,305,900\n",
      "_________________________________________________________________\n"
     ]
    }
   ],
   "source": [
    "learning_rate = 0.00003\n",
    "model.compile(loss='mean_squared_error',optimizer=tf.keras.optimizers.Adam(learning_rate), metrics=[RootMeanSquaredError()])\n",
    "model.summary()"
   ]
  },
  {
   "cell_type": "code",
   "execution_count": 99,
   "id": "consecutive-hebrew",
   "metadata": {
    "execution": {
     "iopub.execute_input": "2021-06-22T14:14:50.690590Z",
     "iopub.status.busy": "2021-06-22T14:14:50.688868Z",
     "iopub.status.idle": "2021-06-22T14:14:50.691276Z",
     "shell.execute_reply": "2021-06-22T14:14:50.691877Z",
     "shell.execute_reply.started": "2021-06-22T13:58:26.238022Z"
    },
    "papermill": {
     "duration": 0.177642,
     "end_time": "2021-06-22T14:14:50.692052",
     "exception": false,
     "start_time": "2021-06-22T14:14:50.514410",
     "status": "completed"
    },
    "tags": []
   },
   "outputs": [],
   "source": [
    "learning_rate_reduction = ReduceLROnPlateau(monitor='val_root_mean_squared_error', \n",
    "                                            patience=3, \n",
    "                                            verbose=1, \n",
    "                                            factor=0.5, \n",
    "                                            min_lr=0.00001)\n",
    "\n",
    "\n",
    "early_stopping = EarlyStopping(\n",
    "    min_delta=0.001, # minimium amount of change to count as an improvement\n",
    "    patience=5, # how many epochs to wait before stopping\n",
    "    restore_best_weights=True,\n",
    ")"
   ]
  },
  {
   "cell_type": "code",
   "execution_count": 100,
   "id": "varying-sampling",
   "metadata": {
    "execution": {
     "iopub.execute_input": "2021-06-22T14:14:51.090724Z",
     "iopub.status.busy": "2021-06-22T14:14:51.089787Z",
     "iopub.status.idle": "2021-06-22T14:18:38.249966Z",
     "shell.execute_reply": "2021-06-22T14:18:38.250389Z",
     "shell.execute_reply.started": "2021-06-22T13:58:27.930922Z"
    },
    "papermill": {
     "duration": 227.346389,
     "end_time": "2021-06-22T14:18:38.250566",
     "exception": false,
     "start_time": "2021-06-22T14:14:50.904177",
     "status": "completed"
    },
    "tags": []
   },
   "outputs": [
    {
     "name": "stdout",
     "output_type": "stream",
     "text": [
      "Epoch 1/100\n",
      "62/62 [==============================] - 13s 117ms/step - loss: 1.9032 - root_mean_squared_error: 1.3790 - val_loss: 1.2701 - val_root_mean_squared_error: 1.1270\n",
      "Epoch 2/100\n",
      "62/62 [==============================] - 6s 93ms/step - loss: 1.4351 - root_mean_squared_error: 1.1979 - val_loss: 1.0491 - val_root_mean_squared_error: 1.0242\n",
      "Epoch 3/100\n",
      "62/62 [==============================] - 6s 94ms/step - loss: 1.2655 - root_mean_squared_error: 1.1244 - val_loss: 0.9737 - val_root_mean_squared_error: 0.9868\n",
      "Epoch 4/100\n",
      "62/62 [==============================] - 6s 94ms/step - loss: 1.1241 - root_mean_squared_error: 1.0600 - val_loss: 0.9095 - val_root_mean_squared_error: 0.9537\n",
      "Epoch 5/100\n",
      "62/62 [==============================] - 6s 93ms/step - loss: 1.0399 - root_mean_squared_error: 1.0196 - val_loss: 0.8418 - val_root_mean_squared_error: 0.9175\n",
      "Epoch 6/100\n",
      "62/62 [==============================] - 6s 93ms/step - loss: 0.9386 - root_mean_squared_error: 0.9687 - val_loss: 0.7818 - val_root_mean_squared_error: 0.8842\n",
      "Epoch 7/100\n",
      "62/62 [==============================] - 6s 93ms/step - loss: 0.8789 - root_mean_squared_error: 0.9374 - val_loss: 0.7465 - val_root_mean_squared_error: 0.8640\n",
      "Epoch 8/100\n",
      "62/62 [==============================] - 6s 93ms/step - loss: 0.7387 - root_mean_squared_error: 0.8592 - val_loss: 0.7036 - val_root_mean_squared_error: 0.8388\n",
      "Epoch 9/100\n",
      "62/62 [==============================] - 6s 93ms/step - loss: 0.7329 - root_mean_squared_error: 0.8560 - val_loss: 0.6778 - val_root_mean_squared_error: 0.8233\n",
      "Epoch 10/100\n",
      "62/62 [==============================] - 6s 94ms/step - loss: 0.6935 - root_mean_squared_error: 0.8319 - val_loss: 0.6286 - val_root_mean_squared_error: 0.7928\n",
      "Epoch 11/100\n",
      "62/62 [==============================] - 6s 93ms/step - loss: 0.6731 - root_mean_squared_error: 0.8201 - val_loss: 0.6071 - val_root_mean_squared_error: 0.7792\n",
      "Epoch 12/100\n",
      "62/62 [==============================] - 6s 94ms/step - loss: 0.6119 - root_mean_squared_error: 0.7822 - val_loss: 0.5875 - val_root_mean_squared_error: 0.7665\n",
      "Epoch 13/100\n",
      "62/62 [==============================] - 6s 93ms/step - loss: 0.6214 - root_mean_squared_error: 0.7873 - val_loss: 0.5793 - val_root_mean_squared_error: 0.7611\n",
      "Epoch 14/100\n",
      "62/62 [==============================] - 6s 94ms/step - loss: 0.5790 - root_mean_squared_error: 0.7604 - val_loss: 0.5768 - val_root_mean_squared_error: 0.7595\n",
      "Epoch 15/100\n",
      "62/62 [==============================] - 6s 94ms/step - loss: 0.5637 - root_mean_squared_error: 0.7506 - val_loss: 0.5654 - val_root_mean_squared_error: 0.7520\n",
      "Epoch 16/100\n",
      "62/62 [==============================] - 6s 93ms/step - loss: 0.5281 - root_mean_squared_error: 0.7265 - val_loss: 0.5544 - val_root_mean_squared_error: 0.7446\n",
      "Epoch 17/100\n",
      "62/62 [==============================] - 6s 93ms/step - loss: 0.5315 - root_mean_squared_error: 0.7287 - val_loss: 0.5446 - val_root_mean_squared_error: 0.7380\n",
      "Epoch 18/100\n",
      "62/62 [==============================] - 6s 94ms/step - loss: 0.5264 - root_mean_squared_error: 0.7255 - val_loss: 0.5457 - val_root_mean_squared_error: 0.7387\n",
      "Epoch 19/100\n",
      "62/62 [==============================] - 6s 93ms/step - loss: 0.4988 - root_mean_squared_error: 0.7062 - val_loss: 0.5466 - val_root_mean_squared_error: 0.7393\n",
      "Epoch 20/100\n",
      "62/62 [==============================] - 6s 93ms/step - loss: 0.4949 - root_mean_squared_error: 0.7034 - val_loss: 0.5533 - val_root_mean_squared_error: 0.7438\n",
      "\n",
      "Epoch 00020: ReduceLROnPlateau reducing learning rate to 1.4999999621068127e-05.\n",
      "Epoch 21/100\n",
      "62/62 [==============================] - 6s 94ms/step - loss: 0.4885 - root_mean_squared_error: 0.6989 - val_loss: 0.5357 - val_root_mean_squared_error: 0.7319\n",
      "Epoch 22/100\n",
      "62/62 [==============================] - 6s 94ms/step - loss: 0.5084 - root_mean_squared_error: 0.7127 - val_loss: 0.5370 - val_root_mean_squared_error: 0.7328\n",
      "Epoch 23/100\n",
      "62/62 [==============================] - 6s 93ms/step - loss: 0.4708 - root_mean_squared_error: 0.6857 - val_loss: 0.5307 - val_root_mean_squared_error: 0.7285\n",
      "Epoch 24/100\n",
      "62/62 [==============================] - 6s 94ms/step - loss: 0.4804 - root_mean_squared_error: 0.6930 - val_loss: 0.5298 - val_root_mean_squared_error: 0.7279\n",
      "Epoch 25/100\n",
      "62/62 [==============================] - 6s 93ms/step - loss: 0.4540 - root_mean_squared_error: 0.6736 - val_loss: 0.5295 - val_root_mean_squared_error: 0.7277\n",
      "Epoch 26/100\n",
      "62/62 [==============================] - 6s 95ms/step - loss: 0.4564 - root_mean_squared_error: 0.6755 - val_loss: 0.5261 - val_root_mean_squared_error: 0.7253\n",
      "Epoch 27/100\n",
      "62/62 [==============================] - 6s 94ms/step - loss: 0.5122 - root_mean_squared_error: 0.7148 - val_loss: 0.5248 - val_root_mean_squared_error: 0.7244\n",
      "Epoch 28/100\n",
      "62/62 [==============================] - 6s 93ms/step - loss: 0.4756 - root_mean_squared_error: 0.6895 - val_loss: 0.5214 - val_root_mean_squared_error: 0.7221\n",
      "Epoch 29/100\n",
      "62/62 [==============================] - 6s 94ms/step - loss: 0.4758 - root_mean_squared_error: 0.6896 - val_loss: 0.5283 - val_root_mean_squared_error: 0.7269\n",
      "Epoch 30/100\n",
      "62/62 [==============================] - 6s 93ms/step - loss: 0.4587 - root_mean_squared_error: 0.6772 - val_loss: 0.5220 - val_root_mean_squared_error: 0.7225\n",
      "Epoch 31/100\n",
      "62/62 [==============================] - 6s 94ms/step - loss: 0.4884 - root_mean_squared_error: 0.6985 - val_loss: 0.5194 - val_root_mean_squared_error: 0.7207\n",
      "Epoch 32/100\n",
      "62/62 [==============================] - 6s 94ms/step - loss: 0.4636 - root_mean_squared_error: 0.6807 - val_loss: 0.5211 - val_root_mean_squared_error: 0.7219\n",
      "Epoch 33/100\n",
      "62/62 [==============================] - 6s 94ms/step - loss: 0.4322 - root_mean_squared_error: 0.6573 - val_loss: 0.5180 - val_root_mean_squared_error: 0.7197\n",
      "Epoch 34/100\n",
      "62/62 [==============================] - 6s 94ms/step - loss: 0.4393 - root_mean_squared_error: 0.6627 - val_loss: 0.5240 - val_root_mean_squared_error: 0.7239\n",
      "Epoch 35/100\n",
      "62/62 [==============================] - 6s 93ms/step - loss: 0.4492 - root_mean_squared_error: 0.6702 - val_loss: 0.5276 - val_root_mean_squared_error: 0.7264\n",
      "Epoch 36/100\n",
      "62/62 [==============================] - 6s 93ms/step - loss: 0.4370 - root_mean_squared_error: 0.6610 - val_loss: 0.5222 - val_root_mean_squared_error: 0.7227\n",
      "\n",
      "Epoch 00036: ReduceLROnPlateau reducing learning rate to 1e-05.\n",
      "Epoch 37/100\n",
      "62/62 [==============================] - 6s 93ms/step - loss: 0.4626 - root_mean_squared_error: 0.6799 - val_loss: 0.5180 - val_root_mean_squared_error: 0.7197\n",
      "Epoch 38/100\n",
      "62/62 [==============================] - 6s 94ms/step - loss: 0.4373 - root_mean_squared_error: 0.6612 - val_loss: 0.5175 - val_root_mean_squared_error: 0.7194\n"
     ]
    }
   ],
   "source": [
    "num_epochs = 100\n",
    "history = model.fit(X_train, training_labels_final, epochs=num_epochs, \n",
    "                    validation_split=0.3,\n",
    "                    batch_size=32,callbacks=[early_stopping,learning_rate_reduction])"
   ]
  },
  {
   "cell_type": "code",
   "execution_count": 101,
   "id": "compressed-blast",
   "metadata": {
    "execution": {
     "iopub.execute_input": "2021-06-22T14:18:39.780825Z",
     "iopub.status.busy": "2021-06-22T14:18:39.780017Z",
     "iopub.status.idle": "2021-06-22T14:18:41.039770Z",
     "shell.execute_reply": "2021-06-22T14:18:41.040852Z",
     "shell.execute_reply.started": "2021-06-22T14:00:49.558115Z"
    },
    "papermill": {
     "duration": 2.021912,
     "end_time": "2021-06-22T14:18:41.041061",
     "exception": false,
     "start_time": "2021-06-22T14:18:39.019149",
     "status": "completed"
    },
    "tags": []
   },
   "outputs": [],
   "source": [
    "padding_type='post'\n",
    "sample_sequences = tokenizer.texts_to_sequences(df_test['excerpt'])\n",
    "excerpt_padded = pad_sequences(sample_sequences, padding=padding_type, \n",
    "                             maxlen=max_length) \n",
    "values = model.predict(excerpt_padded)\n",
    "submission_file= \"/kaggle/input/commonlitreadabilityprize/sample_submission.csv\"\n",
    "sample_submission = pd.read_csv(submission_file)\n",
    "sample_submission[\"target\"] = values\n",
    "sample_submission.to_csv(\"submission.csv\", index=False)"
   ]
  }
 ],
 "metadata": {
  "kernelspec": {
   "display_name": "Python 3",
   "language": "python",
   "name": "python3"
  },
  "language_info": {
   "codemirror_mode": {
    "name": "ipython",
    "version": 3
   },
   "file_extension": ".py",
   "mimetype": "text/x-python",
   "name": "python",
   "nbconvert_exporter": "python",
   "pygments_lexer": "ipython3",
   "version": "3.7.10"
  },
  "papermill": {
   "default_parameters": {},
   "duration": 1025.347596,
   "end_time": "2021-06-22T14:18:45.096084",
   "environment_variables": {},
   "exception": null,
   "input_path": "__notebook__.ipynb",
   "output_path": "__notebook__.ipynb",
   "parameters": {},
   "start_time": "2021-06-22T14:01:39.748488",
   "version": "2.3.3"
  }
 },
 "nbformat": 4,
 "nbformat_minor": 5
}
